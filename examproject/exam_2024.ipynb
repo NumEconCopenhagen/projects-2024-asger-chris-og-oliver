{
 "cells": [
  {
   "cell_type": "markdown",
   "metadata": {},
   "source": [
    "**Table of contents**<a id='toc0_'></a>    \n",
    "- 1. [Problem 1: Production economy and CO2 taxation](#toc1_)    \n",
    "- 2. [Problem 2: Career choice model](#toc2_)    \n",
    "- 3. [Problem 3: Barycentric interpolation](#toc3_)    \n",
    "\n",
    "<!-- vscode-jupyter-toc-config\n",
    "\tnumbering=true\n",
    "\tanchor=true\n",
    "\tflat=false\n",
    "\tminLevel=2\n",
    "\tmaxLevel=6\n",
    "\t/vscode-jupyter-toc-config -->\n",
    "<!-- THIS CELL WILL BE REPLACED ON TOC UPDATE. DO NOT WRITE YOUR TEXT IN THIS CELL -->"
   ]
  },
  {
   "cell_type": "code",
   "execution_count": 62,
   "metadata": {},
   "outputs": [
    {
     "name": "stdout",
     "output_type": "stream",
     "text": [
      "The autoreload extension is already loaded. To reload it, use:\n",
      "  %reload_ext autoreload\n"
     ]
    }
   ],
   "source": [
    "import numpy as np\n",
    "import pandas as pd\n",
    "import matplotlib.pyplot as plt  \n",
    "from scipy import optimize\n",
    "from types import SimpleNamespace\n",
    "from ipywidgets import interact, FloatSlider\n",
    "import ipywidgets as widgets\n",
    "\n",
    "%load_ext autoreload\n",
    "%autoreload 2"
   ]
  },
  {
   "cell_type": "code",
   "execution_count": 2,
   "metadata": {},
   "outputs": [
    {
     "name": "stdout",
     "output_type": "stream",
     "text": [
      "-0.5192 <> -0.5154 <> -0.5174\n"
     ]
    },
    {
     "data": {
      "text/plain": [
       "-0.5191667042540692"
      ]
     },
     "execution_count": 2,
     "metadata": {},
     "output_type": "execute_result"
    }
   ],
   "source": [
    "from exercise1 import ProductionEconomy\n",
    "\n",
    "econ = ProductionEconomy()\n",
    "\n",
    "print(f'{econ.utility(0.8, 1, 1):.4f} <> {econ.utility(0.858, 1, 1):.4f} <> {econ.utility(0.9, 1, 1):.4f}')\n",
    "econ.utility(0.8, 1, 1)"
   ]
  },
  {
   "cell_type": "markdown",
   "metadata": {},
   "source": [
    "## 1. <a id='toc1_'></a>[Problem 1: Production economy and CO2 taxation](#toc0_)"
   ]
  },
  {
   "cell_type": "markdown",
   "metadata": {},
   "source": [
    "Consider a production economy with two firms indexed by $j \\in \\{1,2\\}$. Each produce its own good. They solve\n",
    "\n",
    "$$\n",
    "\\begin{align*}\n",
    "\\max_{y_{j}}\\pi_{j}&=p_{j}y_{j}-w_{j}\\ell_{j}\\\\\\text{s.t.}\\;&y_{j}=A\\ell_{j}^{\\gamma}.\n",
    "\\end{align*}\n",
    "$$\n",
    "\n",
    "Optimal firm behavior is\n",
    "\n",
    "$$\n",
    "\\begin{align*}\n",
    "\\ell_{j}^{\\star}(w,p_{j})&=\\left(\\frac{p_{j}A\\gamma}{w}\\right)^{\\frac{1}{1-\\gamma}} \\\\\n",
    "y_{j}^{\\star}(w,p_{j})&=A\\left(\\ell_{j}^{\\star}(w,p_{j})\\right)^{\\gamma}\n",
    "\\end{align*}\n",
    "$$\n",
    "\n",
    "The implied profits are\n",
    "\n",
    "$$\n",
    "\\pi_{j}^*(w,p_{j})=\\frac{1-\\gamma}{\\gamma}w\\cdot\\left(\\frac{p_{j}A\\gamma}{w}\\right)^{\\frac{1}{1-\\gamma}}\n",
    "$$\n",
    "\n",
    "A single consumer supplies labor, and consumes the goods the firms produce. She also recieves the implied profits of the firm.<br>\n",
    "She solves:\n",
    "\n",
    "$$\n",
    "\\begin{align*}\n",
    "U(p_1,p_2,w,\\tau,T) = \\max_{c_{1},c_{2},\\ell} & \\log(c_{1}^{\\alpha}c_{2}^{1-\\alpha})-\\nu\\frac{\\ell^{1+\\epsilon}}{1+\\epsilon} \\\\\n",
    "\\text{s.t.}\\,\\,\\,&p_{1}c_{1}+(p_{2}+\\tau)c_{2}=w\\ell+T+\\pi_{1}^*(w,p_{1})+\\pi_{2}^*(w,p_{2})\n",
    "\\end{align*}\n",
    "$$\n",
    "\n",
    "where $\\tau$ is a tax and $T$ is lump-sum transfer. <br>\n",
    "For a given $\\ell$, it can be shown that optimal behavior is\n",
    "\n",
    "$$\n",
    "\\begin{align*}\n",
    "c_{1}(\\ell)&=\\alpha\\frac{w\\ell+T+\\pi_{1}^*(w,p_{1})+\\pi_{2}^*(w,p_{2})}{p_{1}} \\\\\n",
    "c_{2}(\\ell)&=(1-\\alpha)\\frac{w\\ell+T+\\pi_{1}^*(w,p_{1})+\\pi_{2}^*(w,p_{2})}{p_{2}+\\tau} \\\\\n",
    "\\end{align*}\n",
    "$$\n",
    "Such that optimal behavior is:\n",
    "$$\n",
    "\\ell^* = \\underset{\\ell}{\\arg\\max} \\log(\\left(c_{1}(\\ell)\\right)^{\\alpha}\\cdot \\left(c_{2}(\\ell)\\right)^{1-\\alpha})-\\nu\\frac{\\ell^{1+\\epsilon}}{1+\\epsilon} \n",
    "$$\n",
    "With optimal consumption:\n",
    "$$\n",
    "\\begin{align*}\n",
    "c_1^*=c_{1}(\\ell^*) \\\\\n",
    "c_2^*=c_{2}(\\ell^*)\\\\\n",
    "\\end{align*}\n",
    "$$\n",
    "\n",
    "\n",
    "The government chooses $\\tau$ and balances its budget so $T=\\tau c_2^*$. We initially set $\\tau,T=0$.\n",
    "\n",
    "Market clearing requires:\n",
    "\n",
    "1. Labor market: $\\ell^* = \\ell_1^* + \\ell_2^*$\n",
    "1. Good market 1: $c_1^* = y_1^*$\n",
    "1. Good market 2: $c_2^* = y_2^*$\n"
   ]
  },
  {
   "cell_type": "markdown",
   "metadata": {},
   "source": [
    "**Question 1:** Check market clearing conditions for $p_1$ in `linspace(0.1,2.0,10)` and $p_2$ in `linspace(0.1,2.0,10)`. We choose $w=1$ as numeraire."
   ]
  },
  {
   "cell_type": "code",
   "execution_count": 3,
   "metadata": {},
   "outputs": [
    {
     "name": "stdout",
     "output_type": "stream",
     "text": [
      "p1_best = 0.944 and p2_best = 1.578\n"
     ]
    }
   ],
   "source": [
    "# 1 Create p1 and p2 vector\n",
    "p1_vec = np.linspace(0.1, 2.0, 10)\n",
    "p2_vec = np.linspace(0.1, 2.0, 10)\n",
    "\n",
    "# 2 Loop through p1 and p2 and append market errors to a list.\n",
    "errors = [] # List to store errors\n",
    "e1_best, e2_best, e3_best, p1_best, p2_best = 10, 10, 10, 10, 10 # Initial best\n",
    "\n",
    "for p1 in p1_vec:\n",
    "    for p2 in p2_vec:\n",
    "        e1, e2, e3 = econ.check_market_clearing(p1, p2)\n",
    "        errors.append((p1, p2, e1, e2, e3))\n",
    "\n",
    "        # Finding the prices which lead to market equilibrium\n",
    "        sum_error = np.abs(e1) + np.abs(e2) + np.abs(e3) # Expression for total market error\n",
    "        if sum_error < np.abs(e1_best) + np.abs(e2_best) + np.abs(e3_best):\n",
    "            e1_best, e2_best, e3_best = e1, e2, e3 # Save new smallest errors\n",
    "            # Save prices which lead to lowest market error\n",
    "            p1_best = p1\n",
    "            p2_best = p2\n",
    "\n",
    "print(f'p1_best = {p1_best:.3f} and p2_best = {p2_best:.3f}')"
   ]
  },
  {
   "cell_type": "code",
   "execution_count": 4,
   "metadata": {},
   "outputs": [
    {
     "data": {
      "application/vnd.jupyter.widget-view+json": {
       "model_id": "c5f033f708ff4f0bb74ac9bdff7121c6",
       "version_major": 2,
       "version_minor": 0
      },
      "text/plain": [
       "interactive(children=(FloatSlider(value=1.0, description='p2', max=2.0, min=0.1, step=0.05), Output()), _dom_c…"
      ]
     },
     "metadata": {},
     "output_type": "display_data"
    },
    {
     "data": {
      "text/plain": [
       "<function ipywidgets.widgets.interaction._InteractFactory.__call__.<locals>.<lambda>(*args, **kwargs)>"
      ]
     },
     "execution_count": 4,
     "metadata": {},
     "output_type": "execute_result"
    }
   ],
   "source": [
    "# 3 Graph market errors as a function of p1 and p2\n",
    "p2_slider = FloatSlider(value=1.0, min=0.1, max=2.0, step=0.05, description='p2')\n",
    "interact(econ.plot_error, p2_cons = p2_slider)"
   ]
  },
  {
   "cell_type": "markdown",
   "metadata": {},
   "source": [
    "**Question 2:** Find the equilibrium prices $p_1$ and $p_2$.<br>\n",
    "*Hint: you can use Walras' law to only check 2 of the market clearings*"
   ]
  },
  {
   "cell_type": "code",
   "execution_count": 5,
   "metadata": {},
   "outputs": [
    {
     "name": "stdout",
     "output_type": "stream",
     "text": [
      "Market clearing prices:\n",
      "p1* = 0.976\n",
      "p2* = 1.491\n"
     ]
    }
   ],
   "source": [
    "p1_opt, p2_opt = econ.market_equilibrium()\n",
    "\n",
    "print(f'Market clearing prices:')\n",
    "print(f'p1* = {p1_opt:.3f}\\np2* = {p2_opt:.3f}')"
   ]
  },
  {
   "cell_type": "markdown",
   "metadata": {},
   "source": [
    "Assume the government care about the social welfare function:\n",
    "\n",
    "$$\n",
    "SWF = U - \\kappa y_2^*\n",
    "$$"
   ]
  },
  {
   "cell_type": "markdown",
   "metadata": {},
   "source": [
    "Here $\\kappa$ measures the social cost of carbon emitted by the production of $y_2$ in equilibrium."
   ]
  },
  {
   "cell_type": "markdown",
   "metadata": {},
   "source": [
    "**Question 3:** What values of $\\tau$ and (implied) $T$ should the government choose to maximize $SWF$?"
   ]
  },
  {
   "cell_type": "code",
   "execution_count": 6,
   "metadata": {},
   "outputs": [],
   "source": [
    "# write your answer here\n",
    "\n",
    "government = ProductionEconomy()\n",
    "\n",
    "t_best = 1\n",
    "swf_best = -10\n",
    "\n",
    "for t in np.linspace(0, 1, 30):\n",
    "    swf_now = government.SWF_equilibrium(t)\n",
    "    if swf_now > swf_best:\n",
    "        swf_best = swf_now\n",
    "        t_best = t"
   ]
  },
  {
   "cell_type": "code",
   "execution_count": 7,
   "metadata": {},
   "outputs": [
    {
     "name": "stdout",
     "output_type": "stream",
     "text": [
      "True\n"
     ]
    }
   ],
   "source": [
    "util_temp = government.SWF_equilibrium(0) + government.par.kappa*government.y_2(government.market_equilibrium()[1])\n",
    "\n",
    "print(util_temp == econ.utility(econ.l_star(p1_opt, p2_opt), p1_opt, p2_opt))"
   ]
  },
  {
   "cell_type": "code",
   "execution_count": 8,
   "metadata": {},
   "outputs": [
    {
     "name": "stdout",
     "output_type": "stream",
     "text": [
      "optimal tax = 0.172\n",
      "implied lump sum T = 0.000\n"
     ]
    }
   ],
   "source": [
    "print(f'optimal tax = {t_best:.3f}')\n",
    "government.par.tau = t_best\n",
    "\n",
    "print(f'implied lump sum T = {government.par.T:.3f}')"
   ]
  },
  {
   "cell_type": "code",
   "execution_count": 9,
   "metadata": {},
   "outputs": [
    {
     "data": {
      "image/png": "[encoded data removed]",
      "text/plain": [
       "<Figure size 1000x600 with 1 Axes>"
      ]
     },
     "metadata": {},
     "output_type": "display_data"
    }
   ],
   "source": [
    "# 1. Create an array of x values from 0 to 1\n",
    "x_values = np.linspace(0, 1, 30)  \n",
    "\n",
    "# 2. Compute the y values using the SWF_equilibrium function\n",
    "y_values = [government.SWF_equilibrium(x) for x in x_values]\n",
    "\n",
    "# 3. Plot the function\n",
    "plt.figure(figsize=(10, 6))\n",
    "plt.plot(x_values, y_values, label='SWF')\n",
    "plt.scatter(t_best, swf_best, label = \"optimum\", color=\"r\")\n",
    "plt.xlabel('tau')\n",
    "plt.ylabel('Social Welfare')\n",
    "plt.title('Plot of Social Welfare function as a function of tax')\n",
    "plt.legend()\n",
    "plt.grid(True)\n",
    "plt.show()"
   ]
  },
  {
   "cell_type": "markdown",
   "metadata": {},
   "source": [
    "## 2. <a id='toc2_'></a>[Problem 2: Career choice model](#toc0_)"
   ]
  },
  {
   "cell_type": "markdown",
   "metadata": {},
   "source": [
    "Consider a graduate $i$ making a choice between entering $J$ different career tracks. <br>\n",
    "Entering career $j$ yields utility $u^k_{ij}$. This value is unknown to the graduate ex ante, but will ex post be: <br>\n",
    "$$\n",
    "    u_{i,j}^k = v_{j} + \\epsilon_{i,j}^k\n",
    "$$\n",
    "\n",
    "They know that $\\epsilon^k_{i,j}\\sim \\mathcal{N}(0,\\sigma^2)$, but they do not observe $\\epsilon^k_{i,j}$ before making their career choice. <br>"
   ]
  },
  {
   "cell_type": "markdown",
   "metadata": {},
   "source": [
    "Consider the concrete case of $J=3$ with:\n",
    "$$\n",
    "\\begin{align*}\n",
    "    v_{1} &= 1 \\\\\n",
    "    v_{2} &= 2 \\\\\n",
    "    v_{3} &= 3\n",
    "\\end{align*}\n",
    "$$"
   ]
  },
  {
   "cell_type": "markdown",
   "metadata": {},
   "source": [
    "If the graduates know the values of $v_j$ and the distribution of $\\epsilon_{i,j}^k$, they can calculate the expected utility of each career track using simulation: <br>\n",
    "$$\n",
    "    \\mathbb{E}\\left[ u^k_{i,j}\\vert v_j \\right] \\approx v_j + \\frac{1}{K}\\sum_{k=1}^K \\epsilon_{i,j}^k\n",
    "$$"
   ]
  },
  {
   "cell_type": "code",
   "execution_count": 77,
   "metadata": {},
   "outputs": [],
   "source": [
    "from exercise2 import *\n",
    "\n",
    "par = SimpleNamespace()\n",
    "par.J = 3\n",
    "par.N = 10\n",
    "par.K = 10000\n",
    "\n",
    "par.F = np.arange(1,par.N+1)\n",
    "par.sigma = 2\n",
    "\n",
    "par.v = np.array([1,2,3])\n",
    "par.c = 1"
   ]
  },
  {
   "cell_type": "markdown",
   "metadata": {},
   "source": [
    "**Question 1:** Simulate and calculate expected utility and the average realised utility for $K=10000$ draws, for each career choice $j$.\n"
   ]
  },
  {
   "cell_type": "code",
   "execution_count": 78,
   "metadata": {},
   "outputs": [],
   "source": [
    "# Set seed for replication of results\n",
    "np.random.seed(101)\n",
    "\n",
    "# Define error drawing function\n",
    "def epsilon(n=par.K):\n",
    "    n = n # Amount of simulations\n",
    "    eps = np.random.normal(loc=0, scale = par.sigma, size = n) # normal distribution\n",
    "    return eps\n",
    "\n",
    "# Functions for mean expected utilities\n",
    "def u1():\n",
    "    u1 = par.v[0] + np.mean(epsilon())\n",
    "    return u1\n",
    "\n",
    "def u2():\n",
    "    u2 = par.v[1] + np.mean(epsilon())\n",
    "    return u2\n",
    "\n",
    "def u3():\n",
    "    u3 = par.v[2] + np.mean(epsilon())\n",
    "    return u3"
   ]
  },
  {
   "cell_type": "code",
   "execution_count": 79,
   "metadata": {},
   "outputs": [
    {
     "name": "stdout",
     "output_type": "stream",
     "text": [
      "1.03\n",
      "1.98\n",
      "2.99\n"
     ]
    }
   ],
   "source": [
    "# Average realized utility for 10.000 draws\n",
    "print(f'{u1():.2f}')\n",
    "print(f'{u2():.2f}')\n",
    "print(f'{u3():.2f}')"
   ]
  },
  {
   "cell_type": "markdown",
   "metadata": {},
   "source": [
    "Now consider a new scenario: Imagine that the graduate does not know $v_j$. The *only* prior information they have on the value of each job, comes from their $F_{i}$ friends that work in each career $j$. After talking with them, they know the average utility of their friends (which includes their friends' noise term), giving them the prior expecation: <br>\n",
    "$$\n",
    "\\tilde{u}^k_{i,j}\\left( F_{i}\\right) = \\frac{1}{F_{i}}\\sum_{f=1}^{F_{i}} \\left(v_{j} + \\epsilon^k_{f,j}\\right), \\; \\epsilon^k_{f,j}\\sim \\mathcal{N}(0,\\sigma^2)\n",
    "$$\n",
    "For ease of notation consider that each graduate have $F_{i}=i$ friends in each career. <br>"
   ]
  },
  {
   "cell_type": "markdown",
   "metadata": {},
   "source": [
    "For $K$ times do the following: <br>\n",
    "1. For each person $i$ draw $J\\cdot F_i$ values of $\\epsilon_{f,j}^{k}$, and calculate the prior expected utility of each career track, $\\tilde{u}^k_{i,j}\\left( F_{i}\\right)$. <br>\n",
    "Also draw their own $J$ noise terms, $\\epsilon_{i,j}^k$\n",
    "1. Each person $i$ chooses the career track with the highest expected utility: $$j_i^{k*}= \\arg\\max_{j\\in{1,2\\dots,J}}\\left\\{ \\tilde{u}^k_{i,j}\\left( F_{i}\\right)\\right\\} $$\n",
    "1. Store the chosen careers: $j_i^{k*}$, the prior expectation of the value of their chosen career: $\\tilde{u}^k_{i,j=j_i^{k*}}\\left( F_{i}\\right)$, and the realized value of their chosen career track: $u^k_{i,j=j_i^{k*}}=v_{j=j_i^{k*}}+\\epsilon_{i,j=j_i^{k*}}^k$."
   ]
  },
  {
   "cell_type": "markdown",
   "metadata": {},
   "source": [
    "Chosen values will be: <br>\n",
    "$i\\in\\left\\{1,2\\dots,N\\right\\}, N=10$ <br>\n",
    "$F_i = i$<br>\n",
    "So there are 10 graduates. The first has 1 friend in each career, the second has 2 friends, ... the tenth has 10 friends."
   ]
  },
  {
   "cell_type": "markdown",
   "metadata": {},
   "source": [
    "**Question 2:** Simulate and visualize: For each type of graduate, $i$, the share of graduates choosing each career, the average subjective expected utility of the graduates, and the average ex post realized utility given their choice. <br>\n",
    "That is, calculate and visualize: <br>\n",
    "$$\n",
    "\\begin{align*}\n",
    "    \\frac{1}{K} \\sum_{k=1}^{K} \\mathbb{I}\\left\\{ j=j_i^{k*} \\right\\}  \\;\\forall j\\in\\left\\{1,2,\\dots,J\\right\\}\n",
    "\\end{align*}\n",
    "$$\n",
    "$$\n",
    "\\begin{align*}\n",
    "    \\frac{1}{K} \\sum_{k=1}^{K} \\tilde{u}^k_{ij=j_i^{k*}}\\left( F_{i}\\right)\n",
    "\\end{align*}\n",
    "$$\n",
    "And \n",
    "$$\n",
    "\\begin{align*}\n",
    "    \\frac{1}{K} \\sum_{k=1}^{K} u^k_{ij=j_i^{k*}} \n",
    "\\end{align*}\n",
    "$$\n",
    "For each graduate $i$."
   ]
  },
  {
   "cell_type": "code",
   "execution_count": 92,
   "metadata": {},
   "outputs": [],
   "source": [
    "# Set seed for replication of results\n",
    "np.random.seed(101)\n",
    "\n",
    "# Intitializing lists to store values\n",
    "count_frac_list = [] # Fractions in each career\n",
    "mean_u_prior_list = [] # Mean prior for person i\n",
    "mean_realized_j_list = [] # Mean realized career utility for person i\n",
    "difference_list = [] # Difference between prior and realized\n",
    "\n",
    "for i in par.F: # Looping through all persons i from 1 to 10\n",
    "\n",
    "    results = career_simulation(i) # Run simulation with 10.000 draws for each type of person i\n",
    "    j_vec, u_prior_vec, realized_j_vec = zip(*results) # Store results in vectors\n",
    "    \n",
    "    count = np.bincount(j_vec)[1:] # Count amount of choices in career 1, 2, 3 for person i\n",
    "    count_frac = count/len(j_vec) # Fraction in each career\n",
    "\n",
    "    mean_u_prior = np.mean(u_prior_vec) # Mean of max prior utility\n",
    "    mean_realized_j = np.mean(realized_j_vec) # Mean of realized career path\n",
    "    difference = mean_u_prior - mean_realized_j # Difference in utility\n",
    "\n",
    "    # Appending statistics for each person i\n",
    "    count_frac_list.append(count_frac)\n",
    "    mean_u_prior_list.append(mean_u_prior)\n",
    "    mean_realized_j_list.append(mean_realized_j)\n",
    "    difference_list.append(difference)\n",
    "\n",
    "# Storing values in dataframe to illustrate as a table\n",
    "df = pd.DataFrame({\n",
    "    'Person': range(1, 11),\n",
    "    'Mean_u_prior': mean_u_prior_list,\n",
    "    'Mean_realized_j': mean_realized_j_list,\n",
    "    'Difference': difference_list\n",
    "})"
   ]
  },
  {
   "cell_type": "code",
   "execution_count": 93,
   "metadata": {},
   "outputs": [
    {
     "name": "stdout",
     "output_type": "stream",
     "text": [
      " Person  Mean_u_prior  Mean_realized_j  Difference\n",
      "      1          3.92             2.41        1.51\n",
      "      2          3.47             2.52        0.95\n",
      "      3          3.30             2.59        0.71\n",
      "      4          3.22             2.67        0.55\n",
      "      5          3.16             2.74        0.42\n",
      "      6          3.13             2.80        0.33\n",
      "      7          3.11             2.78        0.33\n",
      "      8          3.10             2.82        0.28\n",
      "      9          3.08             2.81        0.27\n",
      "     10          3.06             2.83        0.23\n"
     ]
    }
   ],
   "source": [
    "df = df.round(2) # rounding to 2 decimals\n",
    "print(df.to_string(index=False)) # Excluding index"
   ]
  },
  {
   "cell_type": "code",
   "execution_count": 82,
   "metadata": {},
   "outputs": [
    {
     "data": {
      "application/vnd.jupyter.widget-view+json": {
       "model_id": "3da8cb92d8f04449a6d91eb0ec8488ab",
       "version_major": 2,
       "version_minor": 0
      },
      "text/plain": [
       "interactive(children=(IntSlider(value=1, description='Person i', max=10, min=1), Output()), _dom_classes=('wid…"
      ]
     },
     "metadata": {},
     "output_type": "display_data"
    },
    {
     "data": {
      "text/plain": [
       "<function __main__.plot_count_frac(i)>"
      ]
     },
     "execution_count": 82,
     "metadata": {},
     "output_type": "execute_result"
    }
   ],
   "source": [
    "# Plotting fractions\n",
    "def plot_count_frac(i):\n",
    "    X = [1, 2, 3]\n",
    "    fig, ax = plt.subplots(figsize=(8, 6)) \n",
    "    bars = ax.bar(X, count_frac_list[i-1], color=['blue', 'r', 'green'])\n",
    "    ax.bar_label(bars, fmt='%.2f%%', label_type='edge')\n",
    "\n",
    "    plt.xlabel('Career path j')\n",
    "    plt.ylabel('Fraction')\n",
    "    plt.title('Share of person i in each career path')\n",
    "    plt.xticks(list(X))\n",
    "    plt.ylim(0, 1)\n",
    "    plt.show()\n",
    "\n",
    "interact(plot_count_frac, i=widgets.IntSlider(min=1, max=len(count_frac_list), step=1, value=1,\n",
    "                                               description = \"Person i\"))"
   ]
  },
  {
   "cell_type": "markdown",
   "metadata": {},
   "source": [
    "After a year of working in their career, the graduates learn $u^k_{ij}$ for their chosen job $j_i^{k*}$ perfectly. <br>\n",
    "They can switch to one of the two remaining careers, for which they have the same prior as before, but it will now include a switching cost of $c$ which is known.\n",
    "Their new priors can be written as: \n",
    "$$\n",
    "\\tilde{u}^{k,2}_{ij}\\left( F_{i}\\right) = \\begin{cases}\n",
    "            \\tilde{u}^k_{ij}\\left( F_{i}\\right)-c & \\text{if } j \\neq j_i^{k*} \\\\\n",
    "            u_{ij=j_i^{k*}} & \\text{if } j = j_i^{k*}\n",
    "        \\end{cases}\n",
    "$$"
   ]
  },
  {
   "cell_type": "markdown",
   "metadata": {},
   "source": [
    "We will set $c=1$."
   ]
  },
  {
   "cell_type": "markdown",
   "metadata": {},
   "source": [
    "Their realized utility will be: <br>\n",
    "$$\n",
    "u^{k,2}_{ij}= \\begin{cases}\n",
    "            u_{ij}^k -c & \\text{if } j \\neq j_i^{k*} \\\\\n",
    "            u_{ij=j_i^{k*}} & \\text{if } j = j_i^{k*}\n",
    "        \\end{cases}\n",
    "$$"
   ]
  },
  {
   "cell_type": "markdown",
   "metadata": {},
   "source": [
    "**Question 3:** Following the same approach as in question 2, find the new optimal career choice for each $i$, $k$. Then for each $i$, calculate the average subjective expected utility from their new optimal career choice, and the ex post realized utility of that career. Also, for each $i$, calculate the share of graduates that chooses to switch careers, conditional on which career they chose in the first year. <br>"
   ]
  },
  {
   "cell_type": "code",
   "execution_count": 88,
   "metadata": {},
   "outputs": [],
   "source": [
    "# Set same seed to replicate results in Q2\n",
    "np.random.seed(101)\n",
    "\n",
    "# As in Q2, initializing lists to store values\n",
    "mean_u_prior_list_new = []\n",
    "mean_realized_j_list_new = []\n",
    "count_frac_list_new = []\n",
    "\n",
    "# Storing initial choices\n",
    "mean_u_prior_list_old = []\n",
    "mean_realized_j_list_old = []\n",
    "\n",
    "\n",
    "for i in par.F: # Simulation for persons i = 1 to i = 10\n",
    "\n",
    "    # Calling new simulation function, with learning and switching\n",
    "    results = career_simulation_new(i)\n",
    "    j_vec_old, j_vec_new, u_prior_vec_old, u_prior_vec_new, realized_j_vec_old, realized_j_vec_new = zip(*results)\n",
    "    \n",
    "    # Dataframe with previous and new career\n",
    "    df_j = pd.DataFrame({\n",
    "        'old': j_vec_old,\n",
    "        'new': j_vec_new\n",
    "    })\n",
    "\n",
    "    # Subsetting dataframes based on initial career choice\n",
    "    df_1 = df_j[df_j['old']==1]\n",
    "    df_2 = df_j[df_j['old']==2]\n",
    "    df_3 = df_j[df_j['old']==3]\n",
    "\n",
    "    # Calculating fraction in each career based on initial career choice\n",
    "    count_new_1 = np.bincount(df_1[\"new\"])[1:] # Counts instances of 1s, 2s and 3s where j_old == 1\n",
    "    count_frac_new_1 = count_new_1/len(df_1) # Calculates fractions in each career choice period 2\n",
    "    count_new_2 = np.bincount(df_2[\"new\"])[1:]\n",
    "    count_frac_new_2 = count_new_2/len(df_2)\n",
    "    count_new_3 = np.bincount(df_3[\"new\"])[1:]\n",
    "    count_frac_new_3 = count_new_3/len(df_3)\n",
    "\n",
    "    # Calculates means from initial choices\n",
    "    mean_realized_j_old = np.mean(realized_j_vec_old)\n",
    "    mean_u_prior_old = np.mean(u_prior_vec_old)\n",
    "\n",
    "    # Calcuates mean prior and realized utility after learning and switching\n",
    "    mean_u_prior_new = np.mean(u_prior_vec_new)\n",
    "    mean_realized_j_new = np.mean(realized_j_vec_new)\n",
    "\n",
    "    # Appends results\n",
    "    count_frac_list_new.append((count_frac_new_1, count_frac_new_2, count_frac_new_3))\n",
    "    mean_u_prior_list_new.append(mean_u_prior_new)\n",
    "    mean_realized_j_list_new.append(mean_realized_j_new)\n",
    "    mean_realized_j_list_old.append(mean_realized_j_old)\n",
    "    mean_u_prior_list_old.append(mean_u_prior_old)\n",
    "\n",
    "# Calculating mean difference between initial realized j and ex-post j after potential of switching\n",
    "difference_list_new = []\n",
    "for i in range(len(mean_realized_j_list_new)):\n",
    "    difference_list_new.append(mean_realized_j_list_new[i]-mean_realized_j_list_old[i])"
   ]
  },
  {
   "cell_type": "code",
   "execution_count": 108,
   "metadata": {},
   "outputs": [],
   "source": [
    "df_new = pd.DataFrame({\n",
    "    'Person': range(1, 11),\n",
    "    'Mean_u_prior': mean_u_prior_list_old,\n",
    "    'New_mean_u_prior': mean_u_prior_list_new,\n",
    "    'Mean_realized_j': mean_realized_j_list_old,\n",
    "    'New_mean_realized_j': mean_realized_j_list_new,\n",
    "    'Change in realized utility': difference_list_new \n",
    "})"
   ]
  },
  {
   "cell_type": "code",
   "execution_count": 109,
   "metadata": {},
   "outputs": [
    {
     "name": "stdout",
     "output_type": "stream",
     "text": [
      " Person  Mean_u_prior  New_mean_u_prior  Mean_realized_j  New_mean_realized_j  Change in realized utility\n",
      "      1          3.92              2.89             2.41                 2.68                        0.27\n",
      "      2          3.47              2.89             2.52                 2.84                        0.31\n",
      "      3          3.30              2.92             2.59                 2.89                        0.30\n",
      "      4          3.22              2.97             2.67                 2.93                        0.25\n",
      "      5          3.16              3.01             2.74                 2.98                        0.24\n",
      "      6          3.13              3.05             2.80                 3.03                        0.23\n",
      "      7          3.11              3.03             2.78                 3.03                        0.25\n",
      "      8          3.10              3.05             2.82                 3.03                        0.21\n",
      "      9          3.08              3.05             2.81                 3.05                        0.24\n",
      "     10          3.06              3.06             2.83                 3.05                        0.21\n"
     ]
    }
   ],
   "source": [
    "df_new = df_new.round(2)\n",
    "print(df_new.to_string(index=False))"
   ]
  },
  {
   "cell_type": "code",
   "execution_count": 110,
   "metadata": {},
   "outputs": [
    {
     "data": {
      "text/html": [
       "<div>\n",
       "<style scoped>\n",
       "    .dataframe tbody tr th:only-of-type {\n",
       "        vertical-align: middle;\n",
       "    }\n",
       "\n",
       "    .dataframe tbody tr th {\n",
       "        vertical-align: top;\n",
       "    }\n",
       "\n",
       "    .dataframe thead th {\n",
       "        text-align: right;\n",
       "    }\n",
       "</style>\n",
       "<table border=\"1\" class=\"dataframe\">\n",
       "  <thead>\n",
       "    <tr style=\"text-align: right;\">\n",
       "      <th></th>\n",
       "      <th>Person</th>\n",
       "      <th>Mean_u_prior</th>\n",
       "      <th>Mean_realized_j</th>\n",
       "    </tr>\n",
       "  </thead>\n",
       "  <tbody>\n",
       "    <tr>\n",
       "      <th>0</th>\n",
       "      <td>True</td>\n",
       "      <td>True</td>\n",
       "      <td>True</td>\n",
       "    </tr>\n",
       "    <tr>\n",
       "      <th>1</th>\n",
       "      <td>True</td>\n",
       "      <td>True</td>\n",
       "      <td>True</td>\n",
       "    </tr>\n",
       "    <tr>\n",
       "      <th>2</th>\n",
       "      <td>True</td>\n",
       "      <td>True</td>\n",
       "      <td>True</td>\n",
       "    </tr>\n",
       "    <tr>\n",
       "      <th>3</th>\n",
       "      <td>True</td>\n",
       "      <td>True</td>\n",
       "      <td>True</td>\n",
       "    </tr>\n",
       "    <tr>\n",
       "      <th>4</th>\n",
       "      <td>True</td>\n",
       "      <td>True</td>\n",
       "      <td>True</td>\n",
       "    </tr>\n",
       "    <tr>\n",
       "      <th>5</th>\n",
       "      <td>True</td>\n",
       "      <td>True</td>\n",
       "      <td>True</td>\n",
       "    </tr>\n",
       "    <tr>\n",
       "      <th>6</th>\n",
       "      <td>True</td>\n",
       "      <td>True</td>\n",
       "      <td>True</td>\n",
       "    </tr>\n",
       "    <tr>\n",
       "      <th>7</th>\n",
       "      <td>True</td>\n",
       "      <td>True</td>\n",
       "      <td>True</td>\n",
       "    </tr>\n",
       "    <tr>\n",
       "      <th>8</th>\n",
       "      <td>True</td>\n",
       "      <td>True</td>\n",
       "      <td>True</td>\n",
       "    </tr>\n",
       "    <tr>\n",
       "      <th>9</th>\n",
       "      <td>True</td>\n",
       "      <td>True</td>\n",
       "      <td>True</td>\n",
       "    </tr>\n",
       "  </tbody>\n",
       "</table>\n",
       "</div>"
      ],
      "text/plain": [
       "   Person  Mean_u_prior  Mean_realized_j\n",
       "0    True          True             True\n",
       "1    True          True             True\n",
       "2    True          True             True\n",
       "3    True          True             True\n",
       "4    True          True             True\n",
       "5    True          True             True\n",
       "6    True          True             True\n",
       "7    True          True             True\n",
       "8    True          True             True\n",
       "9    True          True             True"
      ]
     },
     "execution_count": 110,
     "metadata": {},
     "output_type": "execute_result"
    }
   ],
   "source": [
    "# By setting the same seed the simulation results are replicated from Q2\n",
    "df[[\"Person\", \"Mean_u_prior\", \"Mean_realized_j\"]] == df_new[[\"Person\", \"Mean_u_prior\", \"Mean_realized_j\"]]"
   ]
  },
  {
   "cell_type": "code",
   "execution_count": 114,
   "metadata": {},
   "outputs": [
    {
     "data": {
      "application/vnd.jupyter.widget-view+json": {
       "model_id": "c92b19916fcc4267b7cfb2c5ee822969",
       "version_major": 2,
       "version_minor": 0
      },
      "text/plain": [
       "interactive(children=(IntSlider(value=1, description='person i', max=10, min=1), IntSlider(value=1, descriptio…"
      ]
     },
     "metadata": {},
     "output_type": "display_data"
    },
    {
     "data": {
      "text/plain": [
       "<function __main__.plot_count_frac(i, j_prev)>"
      ]
     },
     "execution_count": 114,
     "metadata": {},
     "output_type": "execute_result"
    }
   ],
   "source": [
    "# Plotting fractions\n",
    "def plot_count_frac(i, j_prev):\n",
    "    X = [1, 2, 3]\n",
    "    fig, ax = plt.subplots(figsize=(8, 6)) \n",
    "    colors = ['blue'] * len(X)\n",
    "    colors[j_prev - 1] = 'red'\n",
    "    bars = ax.bar(X, count_frac_list_new[i-1][j_prev-1], color=colors)\n",
    "    ax.bar_label(bars, fmt='%.2f%%', label_type='edge')\n",
    "\n",
    "    plt.xlabel('Career path')\n",
    "    plt.ylabel('Fraction')\n",
    "    plt.title('Share of person i in each career path\\nRed bar = Stayed\\nBlue bar = Switched')\n",
    "    plt.xticks(list(X))\n",
    "    plt.ylim(0, 1)\n",
    "    plt.show()\n",
    "\n",
    "interact(plot_count_frac, i=widgets.IntSlider(min=1, max=10, step=1, value=1, description = \"person i\")\n",
    "         , j_prev=widgets.IntSlider(min=1, max=3, step=1, value=0, description = \"initial career\"))"
   ]
  },
  {
   "cell_type": "markdown",
   "metadata": {},
   "source": [
    "## 3. <a id='toc3_'></a>[Problem 3: Barycentric interpolation](#toc0_)"
   ]
  },
  {
   "cell_type": "markdown",
   "metadata": {},
   "source": [
    "**Problem:** We have a set of random points in the unit square,\n",
    "\n",
    "$$\n",
    "\\mathcal{X} = \\{(x_1,x_2)\\,|\\,x_1\\sim\\mathcal{U}(0,1),x_2\\sim\\mathcal{U}(0,1)\\}.\n",
    "$$\n",
    "\n",
    "For these points, we know the value of some function $f(x_1,x_2)$,\n",
    "\n",
    "$$\n",
    "\\mathcal{F} = \\{f(x_1,x_2) \\,|\\, (x_1,x_2) \\in \\mathcal{X}\\}.\n",
    "$$\n",
    "\n",
    "Now we want to approximate the value $f(y_1,y_2)$ for some  $y=(y_1,y_2)$, where $y_1\\sim\\mathcal{U}(0,1)$ and $y_2\\sim\\mathcal{U}(0,1)$.\n",
    "\n",
    "**Building block I**\n",
    "\n",
    "For an arbitrary triangle $ABC$ and a point $y$, define the so-called barycentric coordinates as:\n",
    "\n",
    "$$\n",
    "\\begin{align*}\n",
    "  r^{ABC}_1 &= \\frac{(B_2-C_2)(y_1-C_1) + (C_1-B_1)(y_2-C_2)}{(B_2-C_2)(A_1-C_1) + (C_1-B_1)(A_2-C_2)} \\\\\n",
    "  r^{ABC}_2 &= \\frac{(C_2-A_2)(y_1-C_1) + (A_1-C_1)(y_2-C_2)}{(B_2-C_2)(A_1-C_1) + (C_1-B_1)(A_2-C_2)} \\\\\n",
    "  r^{ABC}_3 &= 1 - r_1 - r_2.\n",
    "\\end{align*}\n",
    "$$\n",
    "\n",
    "If $r^{ABC}_1 \\in [0,1]$, $r^{ABC}_2 \\in [0,1]$, and $r^{ABC}_3 \\in [0,1]$, then the point is inside the triangle.\n",
    "\n",
    "We always have $y = r^{ABC}_1 A + r^{ABC}_2 B + r^{ABC}_3 C$.\n",
    "\n",
    "**Building block II**\n",
    "\n",
    "Define the following points:\n",
    "\n",
    "$$\n",
    "\\begin{align*}\n",
    "A&=\\arg\\min_{(x_{1},x_{2})\\in\\mathcal{X}}\\sqrt{\\left(x_{1}-y_{1}\\right)^{2}+\\left(x_{2}-y_{2}\\right)^{2}}\\text{ s.t. }x_{1}>y_{1}\\text{ and }x_{2}>y_{2}\\\\\n",
    "B&=\\arg\\min_{(x_{1},x_{2})\\in\\mathcal{X}}\\sqrt{\\left(x_{1}-y_{1}\\right)^{2}+\\left(x_{2}-y_{2}\\right)^{2}}\\text{ s.t. }x_{1}>y_{1}\\text{ and }x_{2}<y_{2}\\\\\n",
    "C&=\\arg\\min_{(x_{1},x_{2})\\in\\mathcal{X}}\\sqrt{\\left(x_{1}-y_{1}\\right)^{2}+\\left(x_{2}-y_{2}\\right)^{2}}\\text{ s.t. }x_{1}<y_{1}\\text{ and }x_{2}<y_{2}\\\\\n",
    "D&=\\arg\\min_{(x_{1},x_{2})\\in\\mathcal{X}}\\sqrt{\\left(x_{1}-y_{1}\\right)^{2}+\\left(x_{2}-y_{2}\\right)^{2}}\\text{ s.t. }x_{1}<y_{1}\\text{ and }x_{2}>y_{2}.\n",
    "\\end{align*}\n",
    "$$\n",
    "\n",
    "**Algorithm:**\n",
    "\n",
    "1. Compute $A$, $B$, $C$, and $D$. If not possible return `NaN`.\n",
    "1. If $y$ is inside the triangle $ABC$ return $r^{ABC}_1 f(A) + r^{ABC}_2 f(B) + r^{ABC}_3 f(C)$.\n",
    "1. If $y$ is inside the triangle $CDA$ return $r^{CDA}_1 f(C) + r^{CDA}_2 f(D) + r^{CDA}_3 f(A)$.\n",
    "1. Return `NaN`.\n",
    "\n"
   ]
  },
  {
   "cell_type": "markdown",
   "metadata": {},
   "source": [
    "**Sample:**"
   ]
  },
  {
   "cell_type": "code",
   "execution_count": 369,
   "metadata": {},
   "outputs": [],
   "source": [
    "from exercise3 import *\n",
    "rng = np.random.default_rng(2024)\n",
    "\n",
    "X = rng.uniform(size=(50,2))\n",
    "y = rng.uniform(size=(2,))"
   ]
  },
  {
   "cell_type": "markdown",
   "metadata": {},
   "source": [
    "**Questions 1:** Find $A$, $B$, $C$ and $D$. Illustrate these together with $X$, $y$ and the triangles $ABC$ and $CDA$."
   ]
  },
  {
   "cell_type": "code",
   "execution_count": 339,
   "metadata": {},
   "outputs": [],
   "source": [
    "# write your answer here\n",
    "# Objective function to measure point distance\n",
    "dist = lambda x: np.sqrt((x[0]-y[0])**2 + (x[1]-y[1])**2)\n",
    "\n",
    "# Finding A\n",
    "# Initial optimal values\n",
    "dist_min_A = np.inf\n",
    "x1_A = np.nan\n",
    "x2_A = np.nan\n",
    "\n",
    "for x in X:\n",
    "    if x[0] > y[0] and x[1] > y[1]: # Binding condition for A\n",
    "        dist_now_A = dist(x) # Calculating distance\n",
    "        if dist_now_A < dist_min_A: # If distance smaller than minimum, then update optimum\n",
    "            dist_min_A = dist_now_A\n",
    "            x1_A = x[0]\n",
    "            x2_A = x[1]\n"
   ]
  },
  {
   "cell_type": "code",
   "execution_count": 340,
   "metadata": {},
   "outputs": [],
   "source": [
    "# Finding B\n",
    "# Initial optimal values\n",
    "dist_min_B = np.inf\n",
    "x1_B = np.nan\n",
    "x2_B = np.nan\n",
    "\n",
    "for x in X:\n",
    "    if x[0] > y[0] and x[1] < y[1]: # Binding condition for B\n",
    "        dist_now_B = dist(x) # Calculating distance\n",
    "        if dist_now_B < dist_min_B: # If distance smaller than minimum, then update optimum\n",
    "            dist_min_B = dist_now_B\n",
    "            x1_B = x[0]\n",
    "            x2_B = x[1]"
   ]
  },
  {
   "cell_type": "code",
   "execution_count": 341,
   "metadata": {},
   "outputs": [],
   "source": [
    "# Finding C\n",
    "# Initial optimal values\n",
    "dist_min_C = np.inf\n",
    "x1_C = np.nan\n",
    "x2_C = np.nan\n",
    "\n",
    "for x in X:\n",
    "    if x[0] < y[0] and x[1] < y[1]: # Binding condition for C\n",
    "        dist_now_C = dist(x) # Calculating distance\n",
    "        if dist_now_C < dist_min_C: # If distance smaller than minimum, then update optimum\n",
    "            dist_min_C = dist_now_C\n",
    "            x1_C = x[0]\n",
    "            x2_C = x[1]"
   ]
  },
  {
   "cell_type": "code",
   "execution_count": 342,
   "metadata": {},
   "outputs": [],
   "source": [
    "# Finding D\n",
    "# Initial optimal values\n",
    "dist_min_D = np.inf\n",
    "x1_D = np.nan\n",
    "x2_D = np.nan\n",
    "\n",
    "for x in X:\n",
    "    if x[0] < y[0] and x[1] > y[1]: # Binding condition for D\n",
    "        dist_now_D = dist(x) # Calculating distance\n",
    "        if dist_now_D < dist_min_D: # If distance smaller than minimum, then update optimum\n",
    "            dist_min_D = dist_now_D\n",
    "            x1_D = x[0]\n",
    "            x2_D = x[1]"
   ]
  },
  {
   "cell_type": "code",
   "execution_count": 343,
   "metadata": {},
   "outputs": [],
   "source": [
    "ABC = [(x1_A, x1_B, x1_C), (x2_A, x2_B, x2_C)]\n",
    "CDA = [(x1_C, x1_D, x1_A), (x2_C, x2_D, x2_A)]\n"
   ]
  },
  {
   "cell_type": "code",
   "execution_count": 345,
   "metadata": {},
   "outputs": [
    {
     "data": {
      "image/png": "[encoded data removed]",
      "text/plain": [
       "<Figure size 600x600 with 1 Axes>"
      ]
     },
     "metadata": {},
     "output_type": "display_data"
    }
   ],
   "source": [
    "# Plotting points and annoatating them with text\n",
    "plt.figure(figsize=(6, 6))\n",
    "plt.scatter(X[:, 0], X[:, 1], color='grey', marker='o', label=\"X\")\n",
    "\n",
    "plt.scatter(y[0], y[1], color='red', marker='o', label=\"y\")\n",
    "plt.annotate('y', (y[0], y[1]), textcoords=\"offset points\", xytext=(8,-2), ha='center')\n",
    "\n",
    "plt.scatter(x1_A, x2_A, color='blue', marker='x', label=\"A\")\n",
    "plt.annotate('A', (x1_A, x2_A), textcoords=\"offset points\", xytext=(7.5,5), ha='center')\n",
    "\n",
    "plt.scatter(x1_B, x2_B, color='black', marker='x', label=\"B\")\n",
    "plt.annotate('B', (x1_B, x2_B), textcoords=\"offset points\", xytext=(10,-10), ha='center')\n",
    "\n",
    "plt.scatter(x1_C, x2_C, color='purple', marker='x', label=\"C\")\n",
    "plt.annotate('C', (x1_C, x2_C), textcoords=\"offset points\", xytext=(-10,-10), ha='center')\n",
    "\n",
    "plt.scatter(x1_D, x2_D, color='red', marker='x', label=\"D\")\n",
    "plt.annotate('D', (x1_D, x2_D), textcoords=\"offset points\", xytext=(-7.5,5), ha='center')\n",
    "\n",
    "# Drawing triangles ABC and CDA\n",
    "plt.fill(ABC[0], ABC[1], color='blue', alpha=0.5)\n",
    "plt.fill(CDA[0], CDA[1], color='skyblue', alpha=0.5)\n",
    "\n",
    "plt.xlabel('X-axis')\n",
    "plt.ylabel('Y-axis')\n",
    "plt.title('Points in unit square')\n",
    "plt.legend()\n",
    "plt.xlim(0, 0.4)\n",
    "plt.ylim(0, 0.6)\n",
    "plt.grid(True)\n",
    "plt.show()"
   ]
  },
  {
   "cell_type": "markdown",
   "metadata": {},
   "source": [
    "**Question 2:** Compute the barycentric coordinates of the point $y$ with respect to the triangles $ABC$ and $CDA$. Which triangle is $y$ located inside?"
   ]
  },
  {
   "cell_type": "code",
   "execution_count": 346,
   "metadata": {},
   "outputs": [],
   "source": [
    "# y is located in ABC as seen on the plot\n",
    "\n",
    "def bary(ABC, y):\n",
    "    # Calculating step-wise by first calculating numerator and denominator\n",
    "    num_1 = (ABC[1][1] - ABC[1][2])*(y[0] - ABC[0][2]) + (ABC[0][2] - ABC[0][1])*(y[1] - ABC[1][2]) \n",
    "    denom_1 = (ABC[1][1] - ABC[1][2])*(ABC[0][0] - ABC[0][2]) + (ABC[0][2] - ABC[0][1])*(ABC[1][0] - ABC[1][2])\n",
    "    r1 = num_1/denom_1\n",
    "\n",
    "    num_2 = (ABC[1][2] - ABC[1][0])*(y[0] - ABC[0][2]) + (ABC[0][0] - ABC[0][2])*(y[1] - ABC[1][2]) \n",
    "    denom_2 = (ABC[1][1] - ABC[1][2])*(ABC[0][0] - ABC[0][2]) + (ABC[0][2] - ABC[0][1])*(ABC[1][0] - ABC[1][2]) \n",
    "    r2 = num_2/denom_2\n",
    "\n",
    "    r3 = 1 - r1 - r2\n",
    "    return r1, r2, r3"
   ]
  },
  {
   "cell_type": "code",
   "execution_count": 347,
   "metadata": {},
   "outputs": [
    {
     "name": "stdout",
     "output_type": "stream",
     "text": [
      "r1_ABC = 0.63\n",
      "r2_ABC = 0.07\n",
      "r3_ABC = 0.30\n"
     ]
    }
   ],
   "source": [
    "r1_abc, r2_abc, r3_abc = bary(ABC, y)\n",
    "\n",
    "print(f'r1_ABC = {r1_abc:.2f}')\n",
    "print(f'r2_ABC = {r2_abc:.2f}')\n",
    "print(f'r3_ABC = {r3_abc:.2f}')"
   ]
  },
  {
   "cell_type": "code",
   "execution_count": 348,
   "metadata": {},
   "outputs": [
    {
     "name": "stdout",
     "output_type": "stream",
     "text": [
      "r1_CDA =  0.37\n",
      "r2_CDA = -0.13\n",
      "r3_CDA =  0.77\n"
     ]
    }
   ],
   "source": [
    "r1_cda, r2_cda, r3_cda = bary(CDA, y)\n",
    "\n",
    "print(f'r1_CDA =  {r1_cda:.2f}')\n",
    "print(f'r2_CDA = {r2_cda:.2f}')\n",
    "print(f'r3_CDA =  {r3_cda:.2f}')"
   ]
  },
  {
   "cell_type": "markdown",
   "metadata": {},
   "source": [
    "Now consider the function:\n",
    "$$\n",
    "f(x_1,x_2) = x_1 \\cdot x_2\n",
    "$$"
   ]
  },
  {
   "cell_type": "code",
   "execution_count": 349,
   "metadata": {},
   "outputs": [],
   "source": [
    "f = lambda x: x[0]*x[1]\n",
    "F = np.array([f(x) for x in X])"
   ]
  },
  {
   "cell_type": "markdown",
   "metadata": {},
   "source": [
    "**Question 3:** Compute the approximation of $f(y)$ using the full algorithm. Compare with the true value."
   ]
  },
  {
   "cell_type": "code",
   "execution_count": 350,
   "metadata": {},
   "outputs": [],
   "source": [
    "# Following the algorithm\n",
    "\n",
    "# 1 Compute A, B, C, A\n",
    "A = (ABC[0][0], ABC[1][0])\n",
    "B = (ABC[0][1], ABC[1][1])\n",
    "C = (ABC[0][2], ABC[1][2])\n",
    "\n",
    "# y is inside the triangle ABC, so we continue to calculate step 2\n",
    "# 2 return approximation given by formula\n",
    "\n",
    "# Creating points A, B and C to plug into function\n",
    "f_y_true = f(y)\n",
    "f_y_approx = r1_abc*f(A) + r2_abc*f(B) + r3_abc*f(C)"
   ]
  },
  {
   "cell_type": "code",
   "execution_count": 351,
   "metadata": {},
   "outputs": [
    {
     "name": "stdout",
     "output_type": "stream",
     "text": [
      "True f(y)   = 0.079\n",
      "Approx f(y) = 0.084\n",
      "Difference  = 0.005\n"
     ]
    }
   ],
   "source": [
    "print(f'True f(y)   = {f_y_true:.3f}')\n",
    "print(f'Approx f(y) = {f_y_approx:.3f}')\n",
    "print(f'Difference  = {f_y_approx - f_y_true:.3f}')"
   ]
  },
  {
   "cell_type": "markdown",
   "metadata": {},
   "source": [
    "**Question 4:** Repeat question 3 for all points in the set $Y$."
   ]
  },
  {
   "cell_type": "code",
   "execution_count": 352,
   "metadata": {},
   "outputs": [],
   "source": [
    "Y = [(0.2,0.2),(0.8,0.2),(0.8,0.8),(0.8,0.2),(0.5,0.5)]"
   ]
  },
  {
   "cell_type": "code",
   "execution_count": 353,
   "metadata": {},
   "outputs": [],
   "source": [
    "# Simple, we have A, B and C. \n",
    "ABC_1, CDA_1 = find_ABCD(X, Y[4])"
   ]
  },
  {
   "cell_type": "code",
   "execution_count": 354,
   "metadata": {},
   "outputs": [],
   "source": [
    "r1_abc_1, r2_abc_1, r3_abc_1 = bary(ABC_1, Y[4])\n",
    "r1_cda_1, r2_cda_1, r3_cda_1 = bary(CDA_1, Y[4])"
   ]
  },
  {
   "cell_type": "code",
   "execution_count": 355,
   "metadata": {},
   "outputs": [
    {
     "name": "stdout",
     "output_type": "stream",
     "text": [
      "r1_ABC = 0.44\n",
      "r2_ABC = 0.34\n",
      "r3_ABC = 0.22\n"
     ]
    }
   ],
   "source": [
    "print(f'r1_ABC = {r1_abc_1:.2f}')\n",
    "print(f'r2_ABC = {r2_abc_1:.2f}')\n",
    "print(f'r3_ABC = {r3_abc_1:.2f}')"
   ]
  },
  {
   "cell_type": "code",
   "execution_count": 314,
   "metadata": {},
   "outputs": [
    {
     "name": "stdout",
     "output_type": "stream",
     "text": [
      "r1_ABC = 0.79\n",
      "r2_ABC = -1.17\n",
      "r3_ABC = 1.38\n"
     ]
    }
   ],
   "source": [
    "print(f'r1_ABC = {r1_cda_1:.2f}')\n",
    "print(f'r2_ABC = {r2_cda_1:.2f}')\n",
    "print(f'r3_ABC = {r3_cda_1:.2f}')"
   ]
  },
  {
   "cell_type": "code",
   "execution_count": 315,
   "metadata": {},
   "outputs": [],
   "source": [
    "A = (ABC_1[0][0], ABC_1[1][0])\n",
    "B = (ABC_1[0][1], ABC_1[1][1])\n",
    "C = (ABC_1[0][2], ABC_1[1][2])"
   ]
  },
  {
   "cell_type": "code",
   "execution_count": null,
   "metadata": {},
   "outputs": [],
   "source": [
    "A = (CDA_1[0][0], CDA_1[1][0])\n",
    "B = (CDA_1[0][1], CDA_1[1][1])\n",
    "C = (CDA_1[0][2], CDA_1[1][2])"
   ]
  },
  {
   "cell_type": "code",
   "execution_count": 316,
   "metadata": {},
   "outputs": [
    {
     "name": "stdout",
     "output_type": "stream",
     "text": [
      "0.2500\n",
      "0.2513\n"
     ]
    }
   ],
   "source": [
    "f_y_approx = r1_abc_1*f(A) + r2_abc_1*f(B) + r3_abc_1*f(C)\n",
    "print(f'{f(Y[4]):.4f}')\n",
    "print(f'{f_y_approx:.4f}')"
   ]
  },
  {
   "cell_type": "code",
   "execution_count": 356,
   "metadata": {},
   "outputs": [],
   "source": [
    "f_Y_true = []\n",
    "f_Y_approx = []\n",
    "\n",
    "for y in Y:\n",
    "    f_Y_true.append(f(y))\n",
    "\n",
    "    ABC, CDA = find_ABCD(X, y)\n",
    "    R1_abc, R2_abc, R3_abc = bary(ABC, y)\n",
    "    R1_cda, R2_cda, R3_cda = bary(CDA, y)\n",
    "\n",
    "    # Check if if conditions hold\n",
    "    added = False\n",
    "\n",
    "    if 0<=R1_abc<=1 and 0<=R2_abc<=1 and 0<=R3_abc<=1:\n",
    "        A = (ABC[0][0], ABC[1][0])\n",
    "        B = (ABC[0][1], ABC[1][1])\n",
    "        C = (ABC[0][2], ABC[1][2])\n",
    "        f_Y_approx.append(R1_abc*f(A) + R2_abc*f(B) + R3_abc*f(C))\n",
    "        added = True\n",
    "\n",
    "    if 0<=R1_cda<=1 and 0<=R2_cda<=1 and 0<=R3_cda<=1:\n",
    "        C = (CDA[0][0], CDA[1][0])\n",
    "        D = (CDA[0][1], CDA[1][1])\n",
    "        A = (CDA[0][2], CDA[1][2])\n",
    "        f_Y_approx.append(R1_cda*f(C) + R2_cda*f(D) + R3_abc*f(A))\n",
    "        added = True\n",
    "\n",
    "    if added == False:\n",
    "        f_Y_approx.append(np.nan)\n",
    "    \n"
   ]
  },
  {
   "cell_type": "code",
   "execution_count": 357,
   "metadata": {},
   "outputs": [
    {
     "name": "stdout",
     "output_type": "stream",
     "text": [
      " true_f(y)  f(y)_approx\n",
      "      0.04       0.0403\n",
      "      0.16       0.1587\n",
      "      0.64          NaN\n",
      "      0.16       0.1587\n",
      "      0.25       0.2513\n"
     ]
    }
   ],
   "source": [
    "df_f_Y = pd.DataFrame({\n",
    "    'true_f(y)': f_Y_true,\n",
    "    'f(y)_approx': f_Y_approx\n",
    "})\n",
    "\n",
    "df_f_Y = df_f_Y.round(4)\n",
    "print(df_f_Y.to_string(index=False))"
   ]
  },
  {
   "cell_type": "code",
   "execution_count": 371,
   "metadata": {},
   "outputs": [
    {
     "data": {
      "image/png": "[encoded data removed]",
      "text/plain": [
       "<Figure size 600x600 with 1 Axes>"
      ]
     },
     "metadata": {},
     "output_type": "display_data"
    }
   ],
   "source": [
    "# Plotting why there's NAN in Y[2]\n",
    "x1_A, x2_A, x1_B, x2_B, x1_C, x2_C, x1_D, x2_D, ABC, CDA = find_nan(X, Y[2])\n",
    "\n",
    "plt_nan(X, Y, x1_A, x2_A, x1_B, x2_B, x1_C, x2_C, x1_D, x2_D, ABC, CDA)"
   ]
  }
 ],
 "metadata": {
  "kernelspec": {
   "display_name": "base",
   "language": "python",
   "name": "python3"
  },
  "language_info": {
   "codemirror_mode": {
    "name": "ipython",
    "version": 3
   },
   "file_extension": ".py",
   "mimetype": "text/x-python",
   "name": "python",
   "nbconvert_exporter": "python",
   "pygments_lexer": "ipython3",
   "version": "3.11.7"
  }
 },
 "nbformat": 4,
 "nbformat_minor": 2
}
