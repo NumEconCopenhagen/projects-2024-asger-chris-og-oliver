{
 "cells": [
  {
   "cell_type": "markdown",
   "metadata": {},
   "source": [
    "**Table of contents**<a id='toc0_'></a>    \n",
    "- 1. [Problem 1: Production economy and CO2 taxation](#toc1_)    \n",
    "- 2. [Problem 2: Career choice model](#toc2_)    \n",
    "- 3. [Problem 3: Barycentric interpolation](#toc3_)    \n",
    "\n",
    "<!-- vscode-jupyter-toc-config\n",
    "\tnumbering=true\n",
    "\tanchor=true\n",
    "\tflat=false\n",
    "\tminLevel=2\n",
    "\tmaxLevel=6\n",
    "\t/vscode-jupyter-toc-config -->\n",
    "<!-- THIS CELL WILL BE REPLACED ON TOC UPDATE. DO NOT WRITE YOUR TEXT IN THIS CELL -->"
   ]
  },
  {
   "cell_type": "code",
   "execution_count": 142,
   "metadata": {},
   "outputs": [
    {
     "name": "stdout",
     "output_type": "stream",
     "text": [
      "The autoreload extension is already loaded. To reload it, use:\n",
      "  %reload_ext autoreload\n"
     ]
    }
   ],
   "source": [
    "import numpy as np\n",
    "import matplotlib.pyplot as plt  \n",
    "from scipy import optimize\n",
    "from types import SimpleNamespace\n",
    "from ipywidgets import interact, FloatSlider\n",
    "import ipywidgets as widgets\n",
    "\n",
    "%load_ext autoreload\n",
    "%autoreload 2\n",
    "\n",
    "from exercise1 import ProductionEconomy\n",
    "from exercise1 import SWF_equilibrium\n",
    "\n",
    "econ = ProductionEconomy()"
   ]
  },
  {
   "cell_type": "code",
   "execution_count": 143,
   "metadata": {},
   "outputs": [
    {
     "name": "stdout",
     "output_type": "stream",
     "text": [
      "-0.5192 <> -0.5154 <> -0.5174\n"
     ]
    },
    {
     "data": {
      "text/plain": [
       "-0.5191667042540692"
      ]
     },
     "execution_count": 143,
     "metadata": {},
     "output_type": "execute_result"
    }
   ],
   "source": [
    "print(f'{econ.utility(0.8, 1, 1):.4f} <> {econ.utility(0.858, 1, 1):.4f} <> {econ.utility(0.9, 1, 1):.4f}')\n",
    "econ.utility(0.8, 1, 1)"
   ]
  },
  {
   "cell_type": "markdown",
   "metadata": {},
   "source": [
    "## 1. <a id='toc1_'></a>[Problem 1: Production economy and CO2 taxation](#toc0_)"
   ]
  },
  {
   "cell_type": "markdown",
   "metadata": {},
   "source": [
    "Consider a production economy with two firms indexed by $j \\in \\{1,2\\}$. Each produce its own good. They solve\n",
    "\n",
    "$$\n",
    "\\begin{align*}\n",
    "\\max_{y_{j}}\\pi_{j}&=p_{j}y_{j}-w_{j}\\ell_{j}\\\\\\text{s.t.}\\;&y_{j}=A\\ell_{j}^{\\gamma}.\n",
    "\\end{align*}\n",
    "$$\n",
    "\n",
    "Optimal firm behavior is\n",
    "\n",
    "$$\n",
    "\\begin{align*}\n",
    "\\ell_{j}^{\\star}(w,p_{j})&=\\left(\\frac{p_{j}A\\gamma}{w}\\right)^{\\frac{1}{1-\\gamma}} \\\\\n",
    "y_{j}^{\\star}(w,p_{j})&=A\\left(\\ell_{j}^{\\star}(w,p_{j})\\right)^{\\gamma}\n",
    "\\end{align*}\n",
    "$$\n",
    "\n",
    "The implied profits are\n",
    "\n",
    "$$\n",
    "\\pi_{j}^*(w,p_{j})=\\frac{1-\\gamma}{\\gamma}w\\cdot\\left(\\frac{p_{j}A\\gamma}{w}\\right)^{\\frac{1}{1-\\gamma}}\n",
    "$$\n",
    "\n",
    "A single consumer supplies labor, and consumes the goods the firms produce. She also recieves the implied profits of the firm.<br>\n",
    "She solves:\n",
    "\n",
    "$$\n",
    "\\begin{align*}\n",
    "U(p_1,p_2,w,\\tau,T) = \\max_{c_{1},c_{2},\\ell} & \\log(c_{1}^{\\alpha}c_{2}^{1-\\alpha})-\\nu\\frac{\\ell^{1+\\epsilon}}{1+\\epsilon} \\\\\n",
    "\\text{s.t.}\\,\\,\\,&p_{1}c_{1}+(p_{2}+\\tau)c_{2}=w\\ell+T+\\pi_{1}^*(w,p_{1})+\\pi_{2}^*(w,p_{2})\n",
    "\\end{align*}\n",
    "$$\n",
    "\n",
    "where $\\tau$ is a tax and $T$ is lump-sum transfer. <br>\n",
    "For a given $\\ell$, it can be shown that optimal behavior is\n",
    "\n",
    "$$\n",
    "\\begin{align*}\n",
    "c_{1}(\\ell)&=\\alpha\\frac{w\\ell+T+\\pi_{1}^*(w,p_{1})+\\pi_{2}^*(w,p_{2})}{p_{1}} \\\\\n",
    "c_{2}(\\ell)&=(1-\\alpha)\\frac{w\\ell+T+\\pi_{1}^*(w,p_{1})+\\pi_{2}^*(w,p_{2})}{p_{2}+\\tau} \\\\\n",
    "\\end{align*}\n",
    "$$\n",
    "Such that optimal behavior is:\n",
    "$$\n",
    "\\ell^* = \\underset{\\ell}{\\arg\\max} \\log(\\left(c_{1}(\\ell)\\right)^{\\alpha}\\cdot \\left(c_{2}(\\ell)\\right)^{1-\\alpha})-\\nu\\frac{\\ell^{1+\\epsilon}}{1+\\epsilon} \n",
    "$$\n",
    "With optimal consumption:\n",
    "$$\n",
    "\\begin{align*}\n",
    "c_1^*=c_{1}(\\ell^*) \\\\\n",
    "c_2^*=c_{2}(\\ell^*)\\\\\n",
    "\\end{align*}\n",
    "$$\n",
    "\n",
    "\n",
    "The government chooses $\\tau$ and balances its budget so $T=\\tau c_2^*$. We initially set $\\tau,T=0$.\n",
    "\n",
    "Market clearing requires:\n",
    "\n",
    "1. Labor market: $\\ell^* = \\ell_1^* + \\ell_2^*$\n",
    "1. Good market 1: $c_1^* = y_1^*$\n",
    "1. Good market 2: $c_2^* = y_2^*$\n"
   ]
  },
  {
   "cell_type": "markdown",
   "metadata": {},
   "source": [
    "**Question 1:** Check market clearing conditions for $p_1$ in `linspace(0.1,2.0,10)` and $p_2$ in `linspace(0.1,2.0,10)`. We choose $w=1$ as numeraire."
   ]
  },
  {
   "cell_type": "code",
   "execution_count": 144,
   "metadata": {},
   "outputs": [
    {
     "name": "stdout",
     "output_type": "stream",
     "text": [
      "p1_best = 0.944 and p2_best = 1.578\n"
     ]
    }
   ],
   "source": [
    "# 1 Create p1 and p2 vector\n",
    "p1_vec = np.linspace(0.1, 2.0, 10)\n",
    "p2_vec = np.linspace(0.1, 2.0, 10)\n",
    "\n",
    "# 2 Loop through p1 and p2 and append market errors to a list.\n",
    "errors = [] # List to store errors\n",
    "e1_best, e2_best, e3_best, p1_best, p2_best = 10, 10, 10, 10, 10 # Initial best\n",
    "\n",
    "for p1 in p1_vec:\n",
    "    for p2 in p2_vec:\n",
    "        e1, e2, e3 = econ.check_market_clearing(p1, p2)\n",
    "        errors.append((p1, p2, e1, e2, e3))\n",
    "\n",
    "        # Finding the prices which lead to market equilibrium\n",
    "        sum_error = np.abs(e1) + np.abs(e2) + np.abs(e3) # Expression for total market error\n",
    "        if sum_error < np.abs(e1_best) + np.abs(e2_best) + np.abs(e3_best):\n",
    "            e1_best, e2_best, e3_best = e1, e2, e3 # Save new smallest errors\n",
    "            # Save prices which lead to lowest market error\n",
    "            p1_best = p1\n",
    "            p2_best = p2\n",
    "\n",
    "print(f'p1_best = {p1_best:.3f} and p2_best = {p2_best:.3f}')"
   ]
  },
  {
   "cell_type": "code",
   "execution_count": 145,
   "metadata": {},
   "outputs": [
    {
     "data": {
      "application/vnd.jupyter.widget-view+json": {
       "model_id": "2ec7974dee2d426cad5f8e484a2e28f3",
       "version_major": 2,
       "version_minor": 0
      },
      "text/plain": [
       "interactive(children=(FloatSlider(value=1.0, description='p2', max=2.0, min=0.1, step=0.05), Output()), _dom_c…"
      ]
     },
     "metadata": {},
     "output_type": "display_data"
    },
    {
     "data": {
      "text/plain": [
       "<function ipywidgets.widgets.interaction._InteractFactory.__call__.<locals>.<lambda>(*args, **kwargs)>"
      ]
     },
     "execution_count": 145,
     "metadata": {},
     "output_type": "execute_result"
    }
   ],
   "source": [
    "# 3 Graph market errors as a function of p1 and p2\n",
    "p2_slider = FloatSlider(value=1.0, min=0.1, max=2.0, step=0.05, description='p2')\n",
    "interact(econ.plot_error, p2_cons = p2_slider)"
   ]
  },
  {
   "cell_type": "markdown",
   "metadata": {},
   "source": [
    "**Question 2:** Find the equilibrium prices $p_1$ and $p_2$.<br>\n",
    "*Hint: you can use Walras' law to only check 2 of the market clearings*"
   ]
  },
  {
   "cell_type": "code",
   "execution_count": 146,
   "metadata": {},
   "outputs": [
    {
     "name": "stdout",
     "output_type": "stream",
     "text": [
      "Market clearing prices:\n",
      "p1* = 0.976\n",
      "p2* = 1.491\n"
     ]
    }
   ],
   "source": [
    "p1_opt, p2_opt = econ.market_equilibrium()\n",
    "\n",
    "print(f'Market clearing prices:')\n",
    "print(f'p1* = {p1_opt:.3f}\\np2* = {p2_opt:.3f}')"
   ]
  },
  {
   "cell_type": "markdown",
   "metadata": {},
   "source": [
    "Assume the government care about the social welfare function:\n",
    "\n",
    "$$\n",
    "SWF = U - \\kappa y_2^*\n",
    "$$"
   ]
  },
  {
   "cell_type": "markdown",
   "metadata": {},
   "source": [
    "Here $\\kappa$ measures the social cost of carbon emitted by the production of $y_2$ in equilibrium."
   ]
  },
  {
   "cell_type": "markdown",
   "metadata": {},
   "source": [
    "**Question 3:** What values of $\\tau$ and (implied) $T$ should the government choose to maximize $SWF$?"
   ]
  },
  {
   "cell_type": "code",
   "execution_count": 201,
   "metadata": {},
   "outputs": [],
   "source": [
    "# write your answer here\n",
    "\n",
    "government = ProductionEconomy()\n",
    "\n",
    "t_best = 1\n",
    "swf_best = -10\n",
    "\n",
    "for t in np.linspace(0, 1, 30):\n",
    "    swf_now = government.SWF_equilibrium(t)\n",
    "    if swf_now > swf_best:\n",
    "        swf_best = swf_now\n",
    "        t_best = t"
   ]
  },
  {
   "cell_type": "code",
   "execution_count": 208,
   "metadata": {},
   "outputs": [
    {
     "name": "stdout",
     "output_type": "stream",
     "text": [
      "True\n"
     ]
    }
   ],
   "source": [
    "util_temp = government.SWF_equilibrium(0) + government.par.kappa*government.y_2(government.market_equilibrium()[1])\n",
    "\n",
    "print(util_temp == econ.utility(econ.l_star(p1_opt, p2_opt), p1_opt, p2_opt))"
   ]
  },
  {
   "cell_type": "code",
   "execution_count": 204,
   "metadata": {},
   "outputs": [
    {
     "name": "stdout",
     "output_type": "stream",
     "text": [
      "optimal tax = 0.172\n",
      "implied lump sum T = 0.674\n"
     ]
    }
   ],
   "source": [
    "print(f'optimal tax = {t_best:.3f}')\n",
    "government.par.tau = t_best\n",
    "\n",
    "print(f'implied lump sum T = {government.par.T:.3f}')"
   ]
  },
  {
   "cell_type": "code",
   "execution_count": 200,
   "metadata": {},
   "outputs": [
    {
     "data": {
      "image/png": "[encoded data removed]",
      "text/plain": [
       "<Figure size 1000x600 with 1 Axes>"
      ]
     },
     "metadata": {},
     "output_type": "display_data"
    }
   ],
   "source": [
    "# 1. Create an array of x values from 0 to 1\n",
    "x_values = np.linspace(0, 1, 30)  \n",
    "\n",
    "# 2. Compute the y values using the SWF_equilibrium function\n",
    "y_values = [SWF_equilibrium(x) for x in x_values]\n",
    "\n",
    "# 3. Plot the function\n",
    "plt.figure(figsize=(10, 6))\n",
    "plt.plot(x_values, y_values, label='SWF_equilibrium(x)')\n",
    "plt.scatter(t_best, swf_best, label = \"optimum\", color=\"r\")\n",
    "plt.xlabel('x')\n",
    "plt.ylabel('SWF_equilibrium(x)')\n",
    "plt.title('Plot of SWF_equilibrium(x) from 0 to 1')\n",
    "plt.legend()\n",
    "plt.grid(True)\n",
    "plt.show()"
   ]
  },
  {
   "cell_type": "markdown",
   "metadata": {},
   "source": [
    "## 2. <a id='toc2_'></a>[Problem 2: Career choice model](#toc0_)"
   ]
  },
  {
   "cell_type": "markdown",
   "metadata": {},
   "source": [
    "Consider a graduate $i$ making a choice between entering $J$ different career tracks. <br>\n",
    "Entering career $j$ yields utility $u^k_{ij}$. This value is unknown to the graduate ex ante, but will ex post be: <br>\n",
    "$$\n",
    "    u_{i,j}^k = v_{j} + \\epsilon_{i,j}^k\n",
    "$$\n",
    "\n",
    "They know that $\\epsilon^k_{i,j}\\sim \\mathcal{N}(0,\\sigma^2)$, but they do not observe $\\epsilon^k_{i,j}$ before making their career choice. <br>"
   ]
  },
  {
   "cell_type": "markdown",
   "metadata": {},
   "source": [
    "Consider the concrete case of $J=3$ with:\n",
    "$$\n",
    "\\begin{align*}\n",
    "    v_{1} &= 1 \\\\\n",
    "    v_{2} &= 2 \\\\\n",
    "    v_{3} &= 3\n",
    "\\end{align*}\n",
    "$$"
   ]
  },
  {
   "cell_type": "markdown",
   "metadata": {},
   "source": [
    "If the graduates know the values of $v_j$ and the distribution of $\\epsilon_{i,j}^k$, they can calculate the expected utility of each career track using simulation: <br>\n",
    "$$\n",
    "    \\mathbb{E}\\left[ u^k_{i,j}\\vert v_j \\right] \\approx v_j + \\frac{1}{K}\\sum_{k=1}^K \\epsilon_{i,j}^k\n",
    "$$"
   ]
  },
  {
   "cell_type": "code",
   "execution_count": 129,
   "metadata": {},
   "outputs": [],
   "source": [
    "par = SimpleNamespace()\n",
    "par.J = 3\n",
    "par.N = 10\n",
    "par.K = 10000\n",
    "\n",
    "par.F = np.arange(1,par.N+1)\n",
    "par.sigma = 2\n",
    "\n",
    "par.v = np.array([1,2,3])\n",
    "par.c = 1"
   ]
  },
  {
   "cell_type": "markdown",
   "metadata": {},
   "source": [
    "**Question 1:** Simulate and calculate expected utility and the average realised utility for $K=10000$ draws, for each career choice $j$.\n"
   ]
  },
  {
   "cell_type": "code",
   "execution_count": null,
   "metadata": {},
   "outputs": [],
   "source": [
    "# write your answer here"
   ]
  },
  {
   "cell_type": "markdown",
   "metadata": {},
   "source": [
    "Now consider a new scenario: Imagine that the graduate does not know $v_j$. The *only* prior information they have on the value of each job, comes from their $F_{i}$ friends that work in each career $j$. After talking with them, they know the average utility of their friends (which includes their friends' noise term), giving them the prior expecation: <br>\n",
    "$$\n",
    "\\tilde{u}^k_{i,j}\\left( F_{i}\\right) = \\frac{1}{F_{i}}\\sum_{f=1}^{F_{i}} \\left(v_{j} + \\epsilon^k_{f,j}\\right), \\; \\epsilon^k_{f,j}\\sim \\mathcal{N}(0,\\sigma^2)\n",
    "$$\n",
    "For ease of notation consider that each graduate have $F_{i}=i$ friends in each career. <br>"
   ]
  },
  {
   "cell_type": "markdown",
   "metadata": {},
   "source": [
    "For $K$ times do the following: <br>\n",
    "1. For each person $i$ draw $J\\cdot F_i$ values of $\\epsilon_{f,j}^{k}$, and calculate the prior expected utility of each career track, $\\tilde{u}^k_{i,j}\\left( F_{i}\\right)$. <br>\n",
    "Also draw their own $J$ noise terms, $\\epsilon_{i,j}^k$\n",
    "1. Each person $i$ chooses the career track with the highest expected utility: $$j_i^{k*}= \\arg\\max_{j\\in{1,2\\dots,J}}\\left\\{ \\tilde{u}^k_{i,j}\\left( F_{i}\\right)\\right\\} $$\n",
    "1. Store the chosen careers: $j_i^{k*}$, the prior expectation of the value of their chosen career: $\\tilde{u}^k_{i,j=j_i^{k*}}\\left( F_{i}\\right)$, and the realized value of their chosen career track: $u^k_{i,j=j_i^{k*}}=v_{j=j_i^{k*}}+\\epsilon_{i,j=j_i^{k*}}^k$."
   ]
  },
  {
   "cell_type": "markdown",
   "metadata": {},
   "source": [
    "Chosen values will be: <br>\n",
    "$i\\in\\left\\{1,2\\dots,N\\right\\}, N=10$ <br>\n",
    "$F_i = i$<br>\n",
    "So there are 10 graduates. The first has 1 friend in each career, the second has 2 friends, ... the tenth has 10 friends."
   ]
  },
  {
   "cell_type": "markdown",
   "metadata": {},
   "source": [
    "**Question 2:** Simulate and visualize: For each type of graduate, $i$, the share of graduates choosing each career, the average subjective expected utility of the graduates, and the average ex post realized utility given their choice. <br>\n",
    "That is, calculate and visualize: <br>\n",
    "$$\n",
    "\\begin{align*}\n",
    "    \\frac{1}{K} \\sum_{k=1}^{K} \\mathbb{I}\\left\\{ j=j_i^{k*} \\right\\}  \\;\\forall j\\in\\left\\{1,2,\\dots,J\\right\\}\n",
    "\\end{align*}\n",
    "$$\n",
    "$$\n",
    "\\begin{align*}\n",
    "    \\frac{1}{K} \\sum_{k=1}^{K} \\tilde{u}^k_{ij=j_i^{k*}}\\left( F_{i}\\right)\n",
    "\\end{align*}\n",
    "$$\n",
    "And \n",
    "$$\n",
    "\\begin{align*}\n",
    "    \\frac{1}{K} \\sum_{k=1}^{K} u^k_{ij=j_i^{k*}} \n",
    "\\end{align*}\n",
    "$$\n",
    "For each graduate $i$."
   ]
  },
  {
   "cell_type": "code",
   "execution_count": null,
   "metadata": {},
   "outputs": [],
   "source": [
    "# Write your answer here "
   ]
  },
  {
   "cell_type": "markdown",
   "metadata": {},
   "source": [
    "After a year of working in their career, the graduates learn $u^k_{ij}$ for their chosen job $j_i^{k*}$ perfectly. <br>\n",
    "The can switch to one of the two remaining careers, for which they have the same prior as before, but it will now include a switching cost of $c$ which is known.\n",
    "Their new priors can be written as: \n",
    "$$\n",
    "\\tilde{u}^{k,2}_{ij}\\left( F_{i}\\right) = \\begin{cases}\n",
    "            \\tilde{u}^k_{ij}\\left( F_{i}\\right)-c & \\text{if } j \\neq j_i^{k*} \\\\\n",
    "            u_{ij=j_i^{k*}} & \\text{if } j = j_i^{k*}\n",
    "        \\end{cases}\n",
    "$$"
   ]
  },
  {
   "cell_type": "markdown",
   "metadata": {},
   "source": [
    "We will set $c=1$."
   ]
  },
  {
   "cell_type": "markdown",
   "metadata": {},
   "source": [
    "Their realized utility will be: <br>\n",
    "$$\n",
    "u^{k,2}_{ij}= \\begin{cases}\n",
    "            u_{ij}^k -c & \\text{if } j \\neq j_i^{k*} \\\\\n",
    "            u_{ij=j_i^{k*}} & \\text{if } j = j_i^{k*}\n",
    "        \\end{cases}\n",
    "$$"
   ]
  },
  {
   "cell_type": "markdown",
   "metadata": {},
   "source": [
    "**Question 3:** Following the same approach as in question 2, find the new optimal career choice for each $i$, $k$. Then for each $i$, calculate the average subjective expected utility from their new optimal career choice, and the ex post realized utility of that career. Also, for each $i$, calculate the share of graduates that chooses to switch careers, conditional on which career they chose in the first year. <br>"
   ]
  },
  {
   "cell_type": "code",
   "execution_count": null,
   "metadata": {},
   "outputs": [],
   "source": [
    "# write your answer here"
   ]
  },
  {
   "cell_type": "markdown",
   "metadata": {},
   "source": [
    "## 3. <a id='toc3_'></a>[Problem 3: Barycentric interpolation](#toc0_)"
   ]
  },
  {
   "cell_type": "markdown",
   "metadata": {},
   "source": [
    "**Problem:** We have a set of random points in the unit square,\n",
    "\n",
    "$$\n",
    "\\mathcal{X} = \\{(x_1,x_2)\\,|\\,x_1\\sim\\mathcal{U}(0,1),x_2\\sim\\mathcal{U}(0,1)\\}.\n",
    "$$\n",
    "\n",
    "For these points, we know the value of some function $f(x_1,x_2)$,\n",
    "\n",
    "$$\n",
    "\\mathcal{F} = \\{f(x_1,x_2) \\,|\\, (x_1,x_2) \\in \\mathcal{X}\\}.\n",
    "$$\n",
    "\n",
    "Now we want to approximate the value $f(y_1,y_2)$ for some  $y=(y_1,y_2)$, where $y_1\\sim\\mathcal{U}(0,1)$ and $y_2\\sim\\mathcal{U}(0,1)$.\n",
    "\n",
    "**Building block I**\n",
    "\n",
    "For an arbitrary triangle $ABC$ and a point $y$, define the so-called barycentric coordinates as:\n",
    "\n",
    "$$\n",
    "\\begin{align*}\n",
    "  r^{ABC}_1 &= \\frac{(B_2-C_2)(y_1-C_1) + (C_1-B_1)(y_2-C_2)}{(B_2-C_2)(A_1-C_1) + (C_1-B_1)(A_2-C_2)} \\\\\n",
    "  r^{ABC}_2 &= \\frac{(C_2-A_2)(y_1-C_1) + (A_1-C_1)(y_2-C_2)}{(B_2-C_2)(A_1-C_1) + (C_1-B_1)(A_2-C_2)} \\\\\n",
    "  r^{ABC}_3 &= 1 - r_1 - r_2.\n",
    "\\end{align*}\n",
    "$$\n",
    "\n",
    "If $r^{ABC}_1 \\in [0,1]$, $r^{ABC}_2 \\in [0,1]$, and $r^{ABC}_3 \\in [0,1]$, then the point is inside the triangle.\n",
    "\n",
    "We always have $y = r^{ABC}_1 A + r^{ABC}_2 B + r^{ABC}_3 C$.\n",
    "\n",
    "**Building block II**\n",
    "\n",
    "Define the following points:\n",
    "\n",
    "$$\n",
    "\\begin{align*}\n",
    "A&=\\arg\\min_{(x_{1},x_{2})\\in\\mathcal{X}}\\sqrt{\\left(x_{1}-y_{1}\\right)^{2}+\\left(x_{2}-y_{2}\\right)^{2}}\\text{ s.t. }x_{1}>y_{1}\\text{ and }x_{2}>y_{2}\\\\\n",
    "B&=\\arg\\min_{(x_{1},x_{2})\\in\\mathcal{X}}\\sqrt{\\left(x_{1}-y_{1}\\right)^{2}+\\left(x_{2}-y_{2}\\right)^{2}}\\text{ s.t. }x_{1}>y_{1}\\text{ and }x_{2}<y_{2}\\\\\n",
    "C&=\\arg\\min_{(x_{1},x_{2})\\in\\mathcal{X}}\\sqrt{\\left(x_{1}-y_{1}\\right)^{2}+\\left(x_{2}-y_{2}\\right)^{2}}\\text{ s.t. }x_{1}<y_{1}\\text{ and }x_{2}<y_{2}\\\\\n",
    "D&=\\arg\\min_{(x_{1},x_{2})\\in\\mathcal{X}}\\sqrt{\\left(x_{1}-y_{1}\\right)^{2}+\\left(x_{2}-y_{2}\\right)^{2}}\\text{ s.t. }x_{1}<y_{1}\\text{ and }x_{2}>y_{2}.\n",
    "\\end{align*}\n",
    "$$\n",
    "\n",
    "**Algorithm:**\n",
    "\n",
    "1. Compute $A$, $B$, $C$, and $D$. If not possible return `NaN`.\n",
    "1. If $y$ is inside the triangle $ABC$ return $r^{ABC}_1 f(A) + r^{ABC}_2 f(B) + r^{ABC}_3 f(C)$.\n",
    "1. If $y$ is inside the triangle $CDA$ return $r^{CDA}_1 f(C) + r^{CDA}_2 f(D) + r^{CDA}_3 f(A)$.\n",
    "1. Return `NaN`.\n",
    "\n"
   ]
  },
  {
   "cell_type": "markdown",
   "metadata": {},
   "source": [
    "**Sample:**"
   ]
  },
  {
   "cell_type": "code",
   "execution_count": null,
   "metadata": {},
   "outputs": [],
   "source": [
    "rng = np.random.default_rng(2024)\n",
    "\n",
    "X = rng.uniform(size=(50,2))\n",
    "y = rng.uniform(size=(2,))\n"
   ]
  },
  {
   "cell_type": "markdown",
   "metadata": {},
   "source": [
    "**Questions 1:** Find $A$, $B$, $C$ and $D$. Illustrate these together with $X$, $y$ and the triangles $ABC$ and $CDA$."
   ]
  },
  {
   "cell_type": "code",
   "execution_count": null,
   "metadata": {},
   "outputs": [],
   "source": [
    "# write your answer here"
   ]
  },
  {
   "cell_type": "markdown",
   "metadata": {},
   "source": [
    "**Question 2:** Compute the barycentric coordinates of the point $y$ with respect to the triangles $ABC$ and $CDA$. Which triangle is $y$ located inside?"
   ]
  },
  {
   "cell_type": "code",
   "execution_count": null,
   "metadata": {},
   "outputs": [],
   "source": [
    "# write your answer here"
   ]
  },
  {
   "cell_type": "markdown",
   "metadata": {},
   "source": [
    "Now consider the function:\n",
    "$$\n",
    "f(x_1,x_2) = x_1 \\cdot x_2\n",
    "$$"
   ]
  },
  {
   "cell_type": "code",
   "execution_count": null,
   "metadata": {},
   "outputs": [],
   "source": [
    "f = lambda x: x[0]*x[1]\n",
    "F = np.array([f(x) for x in X])"
   ]
  },
  {
   "cell_type": "markdown",
   "metadata": {},
   "source": [
    "**Question 3:** Compute the approximation of $f(y)$ using the full algorithm. Compare with the true value."
   ]
  },
  {
   "cell_type": "code",
   "execution_count": null,
   "metadata": {},
   "outputs": [],
   "source": [
    "# write your answer here"
   ]
  },
  {
   "cell_type": "markdown",
   "metadata": {},
   "source": [
    "**Question 4:** Repeat question 3 for all points in the set $Y$."
   ]
  },
  {
   "cell_type": "code",
   "execution_count": null,
   "metadata": {},
   "outputs": [],
   "source": [
    "Y = [(0.2,0.2),(0.8,0.2),(0.8,0.8),(0.8,0.2),(0.5,0.5)]"
   ]
  },
  {
   "cell_type": "code",
   "execution_count": null,
   "metadata": {},
   "outputs": [],
   "source": [
    "# write your answer here"
   ]
  }
 ],
 "metadata": {
  "kernelspec": {
   "display_name": "base",
   "language": "python",
   "name": "python3"
  },
  "language_info": {
   "codemirror_mode": {
    "name": "ipython",
    "version": 3
   },
   "file_extension": ".py",
   "mimetype": "text/x-python",
   "name": "python",
   "nbconvert_exporter": "python",
   "pygments_lexer": "ipython3",
   "version": "3.11.7"
  }
 },
 "nbformat": 4,
 "nbformat_minor": 2
}
