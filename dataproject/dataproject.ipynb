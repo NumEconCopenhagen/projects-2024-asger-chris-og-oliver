{
 "cells": [
  {
   "cell_type": "markdown",
   "metadata": {},
   "source": [
    "# CAPM Data Project\n",
    "## Table of contents\n",
    "1. [Data](#paragraph1)\n",
    "    1. [Importing data](#subparagraph1)\n",
    "    2. [Merging data](#subparagraph2)\n",
    "\n",
    "2. [Regression](#paragraph2)\n",
    "\n",
    "3. [Portfolios](#paragraph3)\n",
    "    1. [Return and covariance matrix](#subparagraph31)\n",
    "    2. [Minimum Variance Portfolio](#subparagraph32)\n",
    "    3. [Efficient Tangent Portfolio](#subparagraph33)\n",
    "    4. [Efficient Market Frontier](#subparagraph34)\n",
    "\n",
    "In this project we look the the Capital Asset Pricing Model from courses such as Business Economics and Financial Decision Making. The CAPM predicts a certain relationship between stock returns and their volatility and correlation with the market. \n",
    "\n",
    "In this project we look at three stocks and illustrate the main results from portfolio theory, and we also calculate the stock's betas i.e. their relative risk to the market."
   ]
  },
  {
   "cell_type": "markdown",
   "metadata": {},
   "source": [
    "First, we import the relevant packages, including the Yahoo Finance library, which allows us to fetch historical market data, and the API of Statsmodel, which is used for statistical modeling including regression models, time series analysis etc. If you do not have yfinance module then run the line above without the # to install it."
   ]
  },
  {
   "cell_type": "code",
   "execution_count": 1,
   "metadata": {},
   "outputs": [],
   "source": [
    "# Install yfinance package if neccesary\n",
    "#%pip install yfinance\n",
    "\n",
    "import yfinance as yf\n",
    "import pandas as pd\n",
    "import numpy as np\n",
    "import matplotlib.pyplot as plt\n",
    "from scipy import optimize\n",
    "import statsmodels.api as sm\n",
    "\n",
    "%load_ext autoreload\n",
    "%autoreload 2\n",
    "\n",
    "from dataproject import DataProject\n",
    "capm = DataProject()"
   ]
  },
  {
   "cell_type": "markdown",
   "metadata": {},
   "source": [
    "# 1 Data <a id=\"paragraph1\"></a>"
   ]
  },
  {
   "cell_type": "markdown",
   "metadata": {},
   "source": [
    "## 1.1 Importing data <a id=\"subparagraph1\"></a>"
   ]
  },
  {
   "cell_type": "markdown",
   "metadata": {},
   "source": [
    "In this section, we import the monthly stock data from Yahoo Finance for Miscrosoft, Novo Nordisk and Tesla, ranging from December 2019 to April 2024. We only import the Adjusted Close, which is the closing stock price, adjusted for corporate actions such as dividend payments or stock splits. The choice of stocks is arbitrary and the analysis could be done for any three stocks.\n",
    "\n",
    "Further, we calculate the monthly returns for the three stocks, cleaning the data with dropna() by removing the first observation which has missing data for percentage changes due to no preceding period."
   ]
  },
  {
   "cell_type": "code",
   "execution_count": 2,
   "metadata": {},
   "outputs": [
    {
     "name": "stderr",
     "output_type": "stream",
     "text": [
      "[*********************100%%**********************]  3 of 3 completed"
     ]
    },
    {
     "name": "stdout",
     "output_type": "stream",
     "text": [
      "Ticker            MSFT        NVO       TSLA  MSFT_returns  NVO_returns  \\\n",
      "Date                                                                      \n",
      "2020-01-01  163.442505  28.578432  43.371334      7.945465     5.096755   \n",
      "2020-02-01  155.550262  27.309950  44.532665     -4.828758    -4.438600   \n",
      "2020-03-01  151.835297  28.282457  34.933334     -2.388274     3.561001   \n",
      "2020-04-01  172.534439  29.752954  52.125332     13.632629     5.199326   \n",
      "2020-05-01  176.423935  30.979151  55.666668      2.254330     4.121259   \n",
      "\n",
      "Ticker      TSLA_returns  \n",
      "Date                      \n",
      "2020-01-01     55.515986  \n",
      "2020-02-01      2.677647  \n",
      "2020-03-01    -21.555707  \n",
      "2020-04-01     49.213732  \n",
      "2020-05-01      6.793887  \n"
     ]
    },
    {
     "name": "stderr",
     "output_type": "stream",
     "text": [
      "\n"
     ]
    }
   ],
   "source": [
    "# Importing monthly stock data from Yahoo Finance\n",
    "data = yf.download([\"MSFT\", \"NVO\", \"TSLA\"], start = \"2019-12-01\", end = \"2024-04-11\", interval = \"1mo\")\n",
    "data = data['Adj Close'] # Only look at the adjusted close stock price\n",
    "\n",
    "# Calculate monthly returns\n",
    "data[\"MSFT_returns\"] = data[\"MSFT\"].pct_change() * 100\n",
    "data[\"NVO_returns\"] = data[\"NVO\"].pct_change() * 100\n",
    "data[\"TSLA_returns\"] = data[\"TSLA\"].pct_change() * 100\n",
    "data = data.dropna() # Drops the first period which is NA\n",
    "\n",
    "print(data.head())"
   ]
  },
  {
   "cell_type": "markdown",
   "metadata": {},
   "source": [
    "## 1.2 Merging with Fama-French <a id=\"subparagraph2\"></a>"
   ]
  },
  {
   "cell_type": "markdown",
   "metadata": {},
   "source": [
    "In this section, we load the data with the market return and the risk free return from the Fama-French dataset. We define the first column of the dataframe as \"Date\" and setting it as the index, so we can match it and merge it later on with the stock data from 1.2. \n",
    "\n",
    "Fama-French is a database with financial data for several market factors, we have downloaded Mkt-Rf, and rf, which is the market excess return of all NYSE, AMEX, and NASDAQ firms and the one-month Treasury bill rate. \n",
    "\n",
    "[Data source](https://mba.tuck.dartmouth.edu/pages/faculty/ken.french/data_library.html)"
   ]
  },
  {
   "cell_type": "code",
   "execution_count": 3,
   "metadata": {},
   "outputs": [
    {
     "name": "stdout",
     "output_type": "stream",
     "text": [
      "        Mkt-RF    RF\n",
      "Date                \n",
      "192607    2.96  0.22\n",
      "192608    2.64  0.25\n",
      "192609    0.36  0.23\n",
      "192610   -3.24  0.32\n",
      "192611    2.53  0.31\n"
     ]
    }
   ],
   "source": [
    "# Load Data with market return and risk free return from Fama-French\n",
    "df = pd.read_excel('Fama-French.xlsx')\n",
    "df.columns = ['Date'] + list(df.columns[1:]) # Name first column Date\n",
    "df.set_index(\"Date\", inplace=True) # Set the date column as the index\n",
    "print(df.head())"
   ]
  },
  {
   "cell_type": "markdown",
   "metadata": {},
   "source": [
    "We change the format of the index to YYYY-MM-DD such that it matches the stock dataframe.\n",
    "The return_df dataframe creates a new dataframe from the existing 'data' dataframe, selecting only the columns of stock returns from data.\n",
    "\n",
    "We then merge 'return_df' with 'df' based in their indexes. The 'left_index' and 'right_index' parameters set to 'True' indicate that the merge should be done based on the df indexes. The 'how='inner' parameter specifices that the merge should be an inner join, meaning only those dates that appear in both DataFrames will be included in 'merged_data'.\n"
   ]
  },
  {
   "cell_type": "code",
   "execution_count": 4,
   "metadata": {},
   "outputs": [
    {
     "name": "stdout",
     "output_type": "stream",
     "text": [
      "            MSFT_returns  NVO_returns  TSLA_returns  Mkt-RF    RF\n",
      "Date                                                             \n",
      "2020-01-01      7.945465     5.096755     55.515986   -0.11  0.13\n",
      "2020-02-01     -4.828758    -4.438600      2.677647   -8.13  0.12\n",
      "2020-03-01     -2.388274     3.561001    -21.555707  -13.39  0.13\n",
      "2020-04-01     13.632629     5.199326     49.213732   13.65  0.00\n",
      "2020-05-01      2.254330     4.121259      6.793887    5.58  0.01\n"
     ]
    }
   ],
   "source": [
    "# Change the format of the index from YYYYDD to YYYY-MM-DD\n",
    "df.index = pd.to_datetime(df.index, format='%Y%m')\n",
    "\n",
    "# Create dataframe with returns\n",
    "return_df = data.iloc[:, 3:] \n",
    "\n",
    "# Inner merge the dataframes on the dates\n",
    "merged_data = return_df.merge(df, left_index=True, right_index=True, how='inner')\n",
    "\n",
    "# Print the first few rows of the merged dataframe to verify\n",
    "print(merged_data.head())"
   ]
  },
  {
   "cell_type": "markdown",
   "metadata": {},
   "source": [
    "Below we illustrate the stock returns and the market returns over the period from 2020 to 2024."
   ]
  },
  {
   "cell_type": "code",
   "execution_count": 5,
   "metadata": {},
   "outputs": [
    {
     "data": {
      "image/png": "[encoded data removed]",
      "text/plain": [
       "<Figure size 1000x600 with 1 Axes>"
      ]
     },
     "metadata": {},
     "output_type": "display_data"
    }
   ],
   "source": [
    "# Calculate the average monthly returns\n",
    "average_returns = merged_data[['MSFT_returns', 'NVO_returns', 'TSLA_returns']].mean()\n",
    "\n",
    "# Create temporary df to transform excess market return into market returns\n",
    "temp = merged_data[\"Mkt-RF\"] + merged_data[\"RF\"] # Mkt-Rf+Rf = Mkt\n",
    "average_returns[\"Mkt\"] = temp.mean() # Calculating mean market returns\n",
    "\n",
    "\n",
    "# Plot the average monthly returns\n",
    "fig, ax = plt.subplots(figsize=(10, 6)) \n",
    "bars = average_returns.plot(kind='bar', figsize=(10, 6), color=['blue', 'orange', 'green'])\n",
    "del temp # Delete temp\n",
    "\n",
    "# Add exact percentages on the bars\n",
    "ax.bar_label(bars.containers[0], fmt='%.2f%%', label_type='edge')\n",
    "plt.title('Average Monthly Returns')\n",
    "plt.xlabel('Stocks')\n",
    "plt.ylabel('Average Return (%)')\n",
    "plt.show()"
   ]
  },
  {
   "cell_type": "markdown",
   "metadata": {},
   "source": [
    "We now loop over each column in the return_df dataframe, creating 3 new columns which calculates the stock return minus the risk free return and adding it to the merged_data dataset, naming it the column name + '-RF'."
   ]
  },
  {
   "cell_type": "code",
   "execution_count": 6,
   "metadata": {},
   "outputs": [
    {
     "name": "stdout",
     "output_type": "stream",
     "text": [
      "            MSFT_returns  NVO_returns  TSLA_returns  Mkt-RF    RF  \\\n",
      "Date                                                                \n",
      "2020-01-01      7.945465     5.096755     55.515986   -0.11  0.13   \n",
      "2020-02-01     -4.828758    -4.438600      2.677647   -8.13  0.12   \n",
      "2020-03-01     -2.388274     3.561001    -21.555707  -13.39  0.13   \n",
      "2020-04-01     13.632629     5.199326     49.213732   13.65  0.00   \n",
      "2020-05-01      2.254330     4.121259      6.793887    5.58  0.01   \n",
      "\n",
      "            MSFT_returns-RF  NVO_returns-RF  TSLA_returns-RF  \n",
      "Date                                                          \n",
      "2020-01-01         7.815465        4.966755        55.385986  \n",
      "2020-02-01        -4.948758       -4.558600         2.557647  \n",
      "2020-03-01        -2.518274        3.431001       -21.685707  \n",
      "2020-04-01        13.632629        5.199326        49.213732  \n",
      "2020-05-01         2.244330        4.111259         6.783887  \n"
     ]
    }
   ],
   "source": [
    "# Loop over the columns to create new column with the stock return minus the risk free return\n",
    "for column in return_df.columns:\n",
    "    merged_data[column + '-RF'] = merged_data[column] - merged_data['RF']\n",
    "\n",
    "print(merged_data.head())\n"
   ]
  },
  {
   "cell_type": "markdown",
   "metadata": {},
   "source": [
    "# 2 Regression <a id=\"paragraph2\"></a>"
   ]
  },
  {
   "cell_type": "markdown",
   "metadata": {},
   "source": [
    "We run the regression of the excess return on the stocks to calculate the CAPM market betas. We define the independent variable X as the \"Mkt-RF\" column from merged_data. By writing add_constant, we add a constant column to X, which acts as the intercept in the regression model. The 'Mkt-RF' column represents the excess market returns, i.e. the market returns minus the risk-free rate. \n",
    "\n",
    "The for loop iterates over each column in merged_data, starting from the sixth column. The loop does the following, for example for column 6, MSFT_returns-RF: \n",
    "1) We define the column for MSFT_returns-RF as the dependent variable.\n",
    "2) We use the statsmodel package to do an OLS regression, regressing y on x, excluding potential nan.values.\n",
    "3) Thereafter, the regression model is fitted, and the results are stored in the dictionary 'results', keyed by the column name of the stock return.\n"
   ]
  },
  {
   "cell_type": "code",
   "execution_count": 7,
   "metadata": {},
   "outputs": [
    {
     "name": "stdout",
     "output_type": "stream",
     "text": [
      "Regression Results for MSFT_returns-RF:\n",
      "\n",
      "                            OLS Regression Results                            \n",
      "==============================================================================\n",
      "Dep. Variable:        MSFT_returns-RF   R-squared:                       0.508\n",
      "Model:                            OLS   Adj. R-squared:                  0.498\n",
      "Method:                 Least Squares   F-statistic:                     49.57\n",
      "Date:                Mon, 24 Jun 2024   Prob (F-statistic):           6.37e-09\n",
      "Time:                        13:23:02   Log-Likelihood:                -147.35\n",
      "No. Observations:                  50   AIC:                             298.7\n",
      "Df Residuals:                      48   BIC:                             302.5\n",
      "Df Model:                           1                                         \n",
      "Covariance Type:            nonrobust                                         \n",
      "==============================================================================\n",
      "                 coef    std err          t      P>|t|      [0.025      0.975]\n",
      "------------------------------------------------------------------------------\n",
      "const          1.2456      0.676      1.843      0.071      -0.113       2.604\n",
      "Mkt-RF         0.8156      0.116      7.041      0.000       0.583       1.049\n",
      "==============================================================================\n",
      "Omnibus:                        4.248   Durbin-Watson:                   1.922\n",
      "Prob(Omnibus):                  0.120   Jarque-Bera (JB):                3.921\n",
      "Skew:                           0.682   Prob(JB):                        0.141\n",
      "Kurtosis:                       2.861   Cond. No.                         5.93\n",
      "==============================================================================\n",
      "\n",
      "Notes:\n",
      "[1] Standard Errors assume that the covariance matrix of the errors is correctly specified.\n",
      "\n",
      "\n",
      "\n",
      "Regression Results for NVO_returns-RF:\n",
      "\n",
      "                            OLS Regression Results                            \n",
      "==============================================================================\n",
      "Dep. Variable:         NVO_returns-RF   R-squared:                       0.114\n",
      "Model:                            OLS   Adj. R-squared:                  0.095\n",
      "Method:                 Least Squares   F-statistic:                     6.150\n",
      "Date:                Mon, 24 Jun 2024   Prob (F-statistic):             0.0167\n",
      "Time:                        13:23:02   Log-Likelihood:                -157.21\n",
      "No. Observations:                  50   AIC:                             318.4\n",
      "Df Residuals:                      48   BIC:                             322.2\n",
      "Df Model:                           1                                         \n",
      "Covariance Type:            nonrobust                                         \n",
      "==============================================================================\n",
      "                 coef    std err          t      P>|t|      [0.025      0.975]\n",
      "------------------------------------------------------------------------------\n",
      "const          2.6591      0.823      3.231      0.002       1.004       4.314\n",
      "Mkt-RF         0.3499      0.141      2.480      0.017       0.066       0.634\n",
      "==============================================================================\n",
      "Omnibus:                        0.874   Durbin-Watson:                   2.121\n",
      "Prob(Omnibus):                  0.646   Jarque-Bera (JB):                0.888\n",
      "Skew:                           0.153   Prob(JB):                        0.641\n",
      "Kurtosis:                       2.423   Cond. No.                         5.93\n",
      "==============================================================================\n",
      "\n",
      "Notes:\n",
      "[1] Standard Errors assume that the covariance matrix of the errors is correctly specified.\n",
      "\n",
      "\n",
      "\n",
      "Regression Results for TSLA_returns-RF:\n",
      "\n",
      "                            OLS Regression Results                            \n",
      "==============================================================================\n",
      "Dep. Variable:        TSLA_returns-RF   R-squared:                       0.376\n",
      "Model:                            OLS   Adj. R-squared:                  0.363\n",
      "Method:                 Least Squares   F-statistic:                     28.97\n",
      "Date:                Mon, 24 Jun 2024   Prob (F-statistic):           2.17e-06\n",
      "Time:                        13:23:02   Log-Likelihood:                -216.20\n",
      "No. Observations:                  50   AIC:                             436.4\n",
      "Df Residuals:                      48   BIC:                             440.2\n",
      "Df Model:                           1                                         \n",
      "Covariance Type:            nonrobust                                         \n",
      "==============================================================================\n",
      "                 coef    std err          t      P>|t|      [0.025      0.975]\n",
      "------------------------------------------------------------------------------\n",
      "const          3.7063      2.678      1.384      0.173      -1.679       9.091\n",
      "Mkt-RF         2.4711      0.459      5.383      0.000       1.548       3.394\n",
      "==============================================================================\n",
      "Omnibus:                        4.619   Durbin-Watson:                   1.386\n",
      "Prob(Omnibus):                  0.099   Jarque-Bera (JB):                3.506\n",
      "Skew:                           0.520   Prob(JB):                        0.173\n",
      "Kurtosis:                       3.776   Cond. No.                         5.93\n",
      "==============================================================================\n",
      "\n",
      "Notes:\n",
      "[1] Standard Errors assume that the covariance matrix of the errors is correctly specified.\n",
      "\n",
      "\n",
      "\n"
     ]
    }
   ],
   "source": [
    "# Prepare the explanatory variable (Excess market returns), adding a constant for the intercept\n",
    "X = sm.add_constant(merged_data['Mkt-RF'])\n",
    "\n",
    "# Loop through each stock return column and perform regression\n",
    "results = {}\n",
    "for return_col in merged_data.iloc[:, 5:]:\n",
    "\n",
    "    # Prepare the dependent variable\n",
    "    y = merged_data[return_col]  # Dependent variable (stock excess returns)\n",
    "\n",
    "    # Fit the regression model\n",
    "    model = sm.OLS(y, X, missing='drop')  # OLS regression, excluding potential NaN values\n",
    "    results[return_col] = model.fit()\n",
    "\n",
    "    # Print the summary of the regression results\n",
    "    print(f\"Regression Results for {return_col}:\\n\")\n",
    "    print(results[return_col].summary())\n",
    "    print(\"\\n\\n\")\n"
   ]
  },
  {
   "cell_type": "markdown",
   "metadata": {},
   "source": [
    "We now call the beta_table function from dataproject.py. \n",
    "\n",
    "We note that, to use this function, we have to have a 'results' table already, containing key-value pairs, where the key is the name of the object and each value is a regression result object such as beta or a t-statistic.\n",
    "\n",
    "The function does the following:\n",
    "\n",
    "1) Extracts and rounds the 'Mkt-rf' beta coefficient and stores it in beta_values, extracts and rounds the constant term and stores it in constant_values\n",
    "2) Calculates the t-values for the 'Mkt-rf' coefficient by dividing the beta coefficient by its standard error, storing it in t_values. Same method for the t-values for the constant term, storing it in t_values_a.\n",
    "\n",
    "3) Having the values, the function constructs a dataframe with columns 'Stock', 'Beta', 't_Beta, 'cons', 't_cons', returning the dataframe."
   ]
  },
  {
   "cell_type": "markdown",
   "metadata": {},
   "source": [
    "Now, we call the beta_table function, printing the beta_table:"
   ]
  },
  {
   "cell_type": "code",
   "execution_count": 8,
   "metadata": {},
   "outputs": [
    {
     "data": {
      "text/html": [
       "<div>\n",
       "<style scoped>\n",
       "    .dataframe tbody tr th:only-of-type {\n",
       "        vertical-align: middle;\n",
       "    }\n",
       "\n",
       "    .dataframe tbody tr th {\n",
       "        vertical-align: top;\n",
       "    }\n",
       "\n",
       "    .dataframe thead th {\n",
       "        text-align: right;\n",
       "    }\n",
       "</style>\n",
       "<table border=\"1\" class=\"dataframe\">\n",
       "  <thead>\n",
       "    <tr style=\"text-align: right;\">\n",
       "      <th></th>\n",
       "      <th>Stock</th>\n",
       "      <th>Beta</th>\n",
       "      <th>t_Beta</th>\n",
       "      <th>cons</th>\n",
       "      <th>t_cons</th>\n",
       "    </tr>\n",
       "  </thead>\n",
       "  <tbody>\n",
       "    <tr>\n",
       "      <th>0</th>\n",
       "      <td>MSFT_returns-RF</td>\n",
       "      <td>0.816</td>\n",
       "      <td>7.04</td>\n",
       "      <td>1.246</td>\n",
       "      <td>1.84</td>\n",
       "    </tr>\n",
       "    <tr>\n",
       "      <th>1</th>\n",
       "      <td>NVO_returns-RF</td>\n",
       "      <td>0.350</td>\n",
       "      <td>2.48</td>\n",
       "      <td>2.659</td>\n",
       "      <td>3.23</td>\n",
       "    </tr>\n",
       "    <tr>\n",
       "      <th>2</th>\n",
       "      <td>TSLA_returns-RF</td>\n",
       "      <td>2.471</td>\n",
       "      <td>5.38</td>\n",
       "      <td>3.706</td>\n",
       "      <td>1.38</td>\n",
       "    </tr>\n",
       "  </tbody>\n",
       "</table>\n",
       "</div>"
      ],
      "text/plain": [
       "             Stock   Beta  t_Beta   cons  t_cons\n",
       "0  MSFT_returns-RF  0.816    7.04  1.246    1.84\n",
       "1   NVO_returns-RF  0.350    2.48  2.659    3.23\n",
       "2  TSLA_returns-RF  2.471    5.38  3.706    1.38"
      ]
     },
     "execution_count": 8,
     "metadata": {},
     "output_type": "execute_result"
    }
   ],
   "source": [
    "capm.beta_table(results)"
   ]
  },
  {
   "cell_type": "markdown",
   "metadata": {},
   "source": [
    "The beta and cons columns show the estimated correlation with the market and estimated constant. They have their respective t-values where t > 1.96 signifies that the estimate is significant at a 5% level.\n",
    "\n",
    "We find that Novo Nordisk has the lowest correlation with the market, followed by Microsoft and then Tesla. All beta coefficients are significant on a 5% significance level. Constants are insignificant from zero except for Novo Nordisk. The strict CAPM dictates that the constant should be zero, as a positive constant term implies you ccan have returns which systematically above its risk relative to the market, which violates CAPM."
   ]
  },
  {
   "cell_type": "markdown",
   "metadata": {},
   "source": [
    "# 3 Portfolios <a id=\"paragraph3\"></a>\n",
    "Our goal is to illustrate the Efficient Market Frontier from the CAPM. But first, we must calculate the two portfolios of interest, which are the Minimum Variance Portfolio and the Efficient Tangent Portfolio. \n",
    "\n",
    "These are the portfolios with the lowest possible variance from a combination of stocks and the portfolio with the highest return relative to its market risk respectively. \n",
    "\n",
    "We are interested in the portfolios because we know they are on the Efficient Market Frontier, and the Two-Mutual-Fund theorem says that any combination of efficient portfolios are themselves efficient, such that the frontier can be plotted as a linear combination of the MVP and ETP portfolios. "
   ]
  },
  {
   "cell_type": "markdown",
   "metadata": {},
   "source": [
    "## 3.1 Return and covariance matrix <a id=\"subparagraph31\"></a>\n",
    "We first create the average return matrix and the covariance matrix for our selected stocks."
   ]
  },
  {
   "cell_type": "code",
   "execution_count": 9,
   "metadata": {},
   "outputs": [
    {
     "name": "stdout",
     "output_type": "stream",
     "text": [
      "Ticker\n",
      "MSFT_returns    2.041229\n",
      "NVO_returns     3.199354\n",
      "TSLA_returns    5.979572\n",
      "dtype: float64\n"
     ]
    }
   ],
   "source": [
    "# Calculate the average return over the period\n",
    "return_matrix = np.mean(return_df, axis = 0)\n",
    "print(return_matrix)"
   ]
  },
  {
   "cell_type": "code",
   "execution_count": 10,
   "metadata": {},
   "outputs": [
    {
     "name": "stdout",
     "output_type": "stream",
     "text": [
      "covariance matrix\n",
      "Ticker        MSFT_returns  NVO_returns  TSLA_returns\n",
      "Ticker                                               \n",
      "MSFT_returns     44.281396    20.548337     83.368295\n",
      "NVO_returns      20.548337    35.634597     -2.050768\n",
      "TSLA_returns     83.368295    -2.050768    530.260672\n",
      "\n",
      "\n",
      "volatility matrix\n",
      "Ticker\n",
      "MSFT_returns     6.654427\n",
      "NVO_returns      5.969472\n",
      "TSLA_returns    23.027390\n",
      "dtype: float64\n"
     ]
    }
   ],
   "source": [
    "# Calculate covariance matrix\n",
    "cov_matrix = return_df.cov()\n",
    "print(\"covariance matrix\")\n",
    "print(cov_matrix)\n",
    "print(\"\\n\")\n",
    "\n",
    "# Calculates volatilities\n",
    "volatility_matrix = np.sqrt(np.var(return_df, axis=0, ddof=1))\n",
    "print(\"volatility matrix\")\n",
    "print(volatility_matrix)"
   ]
  },
  {
   "cell_type": "markdown",
   "metadata": {},
   "source": [
    "We create a portfolio function. The function calculates the expected return and volatility of any portfolio for given weights of the three stocks."
   ]
  },
  {
   "cell_type": "code",
   "execution_count": 11,
   "metadata": {},
   "outputs": [],
   "source": [
    "# Define portfolio function, which returns ER and Volatility for any portfolio weights W\n",
    "def portfolio(w1, w2, return_matrix=return_matrix, cov_matrix=cov_matrix): \n",
    "    '''Calculate expected return and volatility for given portfolio'''\n",
    "\n",
    "    index = return_matrix.index # Get index of return matrix\n",
    "    W = pd.DataFrame([w1,w2, 1-w1-w2], index=index) # Set weights to have matching index with returns\n",
    "    tW = W.transpose() # Transposed weight matrix\n",
    "\n",
    "    var = tW.dot(cov_matrix).dot(W) # Formula for calculating variance\n",
    "    sd = np.sqrt(var)[0][0] # Calculates volatility\n",
    "\n",
    "    e_r = tW.dot(return_matrix)[0] # Formula for expected return\n",
    "\n",
    "    return e_r, sd"
   ]
  },
  {
   "cell_type": "markdown",
   "metadata": {},
   "source": [
    "## 3.2 Minimum Variance Portfolio <a id=\"subparagraph32\"></a>\n",
    "Below we find the Minimum Variance Portfolio. To illustrate the result we plot the volatility as a function of the weights."
   ]
  },
  {
   "cell_type": "code",
   "execution_count": 12,
   "metadata": {},
   "outputs": [
    {
     "name": "stdout",
     "output_type": "stream",
     "text": [
      "Minimum variance weights: w1 = 0.400, w2 = 0.604, w3 = -0.004\n",
      "MVP return = 2.724, MVP SD = 5.456\n"
     ]
    }
   ],
   "source": [
    "# Calculate minimum variance portfolio by using mvp_w, which minimizes the variance for given portfolio of stocks\n",
    "w1_min, w2_min, min_vol = capm.mvp_w(portfolio)\n",
    "mvp = portfolio(w1_min, w2_min)\n",
    "\n",
    "print(f'Minimum variance weights: w1 = {w1_min:.3f}, w2 = {w2_min:.3f}, w3 = {1-w1_min-w2_min:.3f}')\n",
    "print(f'MVP return = {mvp[0]:.3f}, MVP SD = {mvp[1]:.3f}')\n"
   ]
  },
  {
   "cell_type": "markdown",
   "metadata": {},
   "source": [
    "The minimum variance portfolio consistents of longing 40% in Microsoft and 60% in Novo and slightly shorting Tesla, this makes sense because Tesla has by far the largest variance as seen in the covariance matrix, so you want a low weight in your portfolio.\n",
    "\n",
    "The MVP has a monthly return of 2.6% and a volatility of 5.43. This is the lowest possible variance and as per the diversification princible we see that the volatility is lower than holding just one of any of the individual stocks. "
   ]
  },
  {
   "cell_type": "markdown",
   "metadata": {},
   "source": [
    "Below we illustrate that we have indeed found the minimum variance portfolio. We show 3 plots with varying weights as well as the weights and return of the minimum variance portfolio. The portfolio function has two inputs, so to keep the plot 2-dimensional rather than 3-d, we hold w2 semi-fixed. We create 3 plots, one where w2 is set to w2_min and two others where w2 is changed by $\\pm$ delta. \n",
    "\n",
    "As such, w1 is fixed, w2 is held fixed for a given value of delta and w3 is residually calculated (w3=1-w1-w2)."
   ]
  },
  {
   "cell_type": "code",
   "execution_count": 13,
   "metadata": {},
   "outputs": [
    {
     "data": {
      "application/vnd.jupyter.widget-view+json": {
       "model_id": "834911bce7ce48ab80d2430bd0d3d963",
       "version_major": 2,
       "version_minor": 0
      },
      "text/plain": [
       "interactive(children=(FloatSlider(value=0.5, description='delta', max=0.5), Output()), _dom_classes=('widget-i…"
      ]
     },
     "metadata": {},
     "output_type": "display_data"
    },
    {
     "data": {
      "text/plain": [
       "<function ipywidgets.widgets.interaction._InteractFactory.__call__.<locals>.<lambda>(*args, **kwargs)>"
      ]
     },
     "execution_count": 13,
     "metadata": {},
     "output_type": "execute_result"
    }
   ],
   "source": [
    "%matplotlib inline\n",
    "import ipywidgets as widgets\n",
    "\n",
    "# Interactive widget showing volatility where w2 is held semi-fixed, to preserve 1-d plot\n",
    "widgets.interact(\n",
    "    capm.plot_variance,\n",
    "    portfolio=widgets.fixed(portfolio),\n",
    "    mvp_w=widgets.fixed(capm.mvp_w),\n",
    "delta=widgets.FloatSlider(min=0, max=0.5, step=0.1, value = 0.5),\n",
    ")"
   ]
  },
  {
   "cell_type": "markdown",
   "metadata": {},
   "source": [
    "We see from the graph that $w_1$ does indeed minimize the standard deviation of the portfolio. The plot at least shows that $w_{1, min}$ is correct, but we also see as we change $w_{2, min}$ by $delta > 0$, then the minima of the graphs increase, which shows that $w_{2, min}$ is also correct, and we indeed have found the minimum variance weights."
   ]
  },
  {
   "cell_type": "markdown",
   "metadata": {},
   "source": [
    "## 3.3 Efficient Tangent Portfolio <a id=\"subparagraph33\"></a>\n",
    "To calculate the efficient tangent portfolio we draw from the CAPM theory, which says that the ETP has the highest sharpe ratio, that is the highest excess return relative to its volatility. We therefore have a function which can calculate the sharpe ratio, and we will find the ETP weights by maximizing this function. "
   ]
  },
  {
   "cell_type": "code",
   "execution_count": 14,
   "metadata": {},
   "outputs": [],
   "source": [
    "def sharpe_ratio(w1, w2, portfolio=portfolio, rf = 0):\n",
    "    '''Calculate the sharpe ratio for any portfolio'''\n",
    "\n",
    "    rf = rf # Risk free rate\n",
    "    e_r, sd = portfolio(w1, w2) # Expected return and volatility\n",
    "\n",
    "    sharpe = (e_r - rf)/sd # Calculates Sharpe ratio\n",
    "    return sharpe"
   ]
  },
  {
   "cell_type": "markdown",
   "metadata": {},
   "source": [
    "We assume that the risk free rate is constant and set it equal to the mean of the risk free return from the Fama-French dataset."
   ]
  },
  {
   "cell_type": "code",
   "execution_count": 15,
   "metadata": {},
   "outputs": [],
   "source": [
    "rf_mean = np.mean(merged_data[\"RF\"])"
   ]
  },
  {
   "cell_type": "markdown",
   "metadata": {},
   "source": [
    "We found the ETP weights by maximizing the sharpe ratio using the etp_w function, which find the portfolio which has the highest Sharpe ratio."
   ]
  },
  {
   "cell_type": "code",
   "execution_count": 16,
   "metadata": {},
   "outputs": [
    {
     "name": "stdout",
     "output_type": "stream",
     "text": [
      "Efficient tangent portfolio weights: w1 = -0.503, w2 = 1.292 and w3 = 0.211\n",
      "\n",
      "ETP return = 4.370, ETP SD = 6.986, ETP Sharpe Ratio = 0.604\n"
     ]
    }
   ],
   "source": [
    "w1_etp, w2_etp, etp_sharp = capm.etp_w(sharpe_ratio, rf=rf_mean) # Weights that maximize the Sharpe ratio\n",
    "etp = portfolio(w1_etp, w2_etp)\n",
    "\n",
    "print(f'Efficient tangent portfolio weights: w1 = {w1_etp:.3f}, w2 = {w2_etp:.3f} and w3 = {1-w1_etp-w2_etp:.3f}\\n')\n",
    "print(f'ETP return = {etp[0]:.3f}, ETP SD = {etp[1]:.3f}, ETP Sharpe Ratio = {etp_sharp:.3f}')"
   ]
  },
  {
   "cell_type": "markdown",
   "metadata": {},
   "source": [
    "The Efficient Tangent Portfolio shorts microsoft and longs Novo heavily while also having some in Tesla. The ETP has a return of 4% per month and a volatility of 6.8, both of which are larger than the MVP as expected."
   ]
  },
  {
   "cell_type": "markdown",
   "metadata": {},
   "source": [
    "Below we plot the sharpe ratio as a function the weight on Microsoft, w1, and again to keep the plot 2-dimensional we hold w2 semi-fixed around w2_etp. "
   ]
  },
  {
   "cell_type": "code",
   "execution_count": 17,
   "metadata": {},
   "outputs": [
    {
     "data": {
      "application/vnd.jupyter.widget-view+json": {
       "model_id": "0b6c616bec30477785daa46f6adc8ff0",
       "version_major": 2,
       "version_minor": 0
      },
      "text/plain": [
       "interactive(children=(FloatSlider(value=0.6, description='delta', max=0.6, step=0.2), Output()), _dom_classes=…"
      ]
     },
     "metadata": {},
     "output_type": "display_data"
    },
    {
     "data": {
      "text/plain": [
       "<function ipywidgets.widgets.interaction._InteractFactory.__call__.<locals>.<lambda>(*args, **kwargs)>"
      ]
     },
     "execution_count": 17,
     "metadata": {},
     "output_type": "execute_result"
    }
   ],
   "source": [
    "%matplotlib inline\n",
    "\n",
    "widgets.interact(\n",
    "    capm.plot_sharp,\n",
    "    sharpe_ratio=widgets.fixed(sharpe_ratio),\n",
    "    etp_w = widgets.fixed(capm.etp_w),\n",
    "    rf=widgets.fixed(rf_mean),\n",
    "delta=widgets.FloatSlider(min=0, max=0.6, step=0.2, value = 0.6),\n",
    ")"
   ]
  },
  {
   "cell_type": "markdown",
   "metadata": {},
   "source": [
    "The plot shows that we have found the correct maximum as the point is at the peak of the sharpe ratio function, and the peaks are lower for the other functions where w2_etp is changed by delta."
   ]
  },
  {
   "cell_type": "markdown",
   "metadata": {},
   "source": [
    "## 3.4 Efficient market frontier <a id=\"subparagraph34\"></a>\n",
    "The mutual fund theorem of the CAPM says that any linear combination of any two portfolios which are efficient will also be efficient. Therefore we can create the efficient market frontier by taking linear combinations of the minimum variance portfolio and efficient tangent portfolio which we know are efficient. We will then plot all the different portfolio."
   ]
  },
  {
   "cell_type": "code",
   "execution_count": 18,
   "metadata": {},
   "outputs": [],
   "source": [
    "# Weights for the MVP and ETP\n",
    "mvp_weights = pd.DataFrame([w1_min, w2_min, 1 - w1_min - w2_min])\n",
    "etp_weights = pd.DataFrame([w1_etp, w2_etp, 1 - w1_etp - w2_etp])\n",
    "\n",
    "# Creating y_vec and lin_vec to store linear combinations\n",
    "y_vec = np.linspace(-3, 3, 100)\n",
    "lin_vec = []\n",
    "\n",
    "\n",
    "# Creating linear combinations from the two portfolio weights\n",
    "for y in y_vec:\n",
    "    linear = y*mvp_weights + (1-y)*etp_weights\n",
    "    lin_vec.append(linear[0][0:2])"
   ]
  },
  {
   "cell_type": "markdown",
   "metadata": {},
   "source": [
    "Plotting the efficient market frontier and the capital market line by calling plot_capm."
   ]
  },
  {
   "cell_type": "markdown",
   "metadata": {},
   "source": [
    "__Explanation of the plot_capm function:__\n",
    "\n",
    "1. First, a figure and an axis are created for plotting.\n",
    "\n",
    "2. Next, an empty list to store points of the efficient frontier is created. \n",
    "\n",
    "3. A loop iterates over 'lin_vec', and for each element in lin_vec, we call the portfolio function defined in section 3.1 to compute portfolio returns and volatilities. These values are then appended to \"frontier\". Lastly for this part, we unpack(unzip) the frontier and put them into the lists 'return_values' and 'vol_values'. We now have values for the efficient frontier, which shows the highest return given a level of risk.\n",
    "\n",
    "4. rf = rf, point_rf = [0,rf] and point_etp = [etp[1], etp[0]] defines the points for the risk-free rate and the ETP. By definition, risk-free rate is the risk-free return you can get at zero variance, so it is the y-intercept. The point for ETP is the point where the ETP intersects the Capital Market line.\n",
    "\n",
    "5. Next, we calculate the slope and the y-intercept of the capital market line, using the points for the riskfree rate and the etp. \n",
    "\n",
    "6. x and corresponding y values for the capital market line are calculated and we plot the capital market line.\n",
    "\n",
    "7. Lastly, we plot everything. We plot the efficient frontier, using the values defined in 3. (return_values and vol_values), we plot the points for  MVP and the ETP, marking it with green and red, we plot the point for the risk-free return. Further, we plot the stocks for NVO, MSFT and TSLA, annotate the text, set labels and add a legend."
   ]
  },
  {
   "cell_type": "code",
   "execution_count": 19,
   "metadata": {},
   "outputs": [
    {
     "data": {
      "image/png": "[encoded data removed]",
      "text/plain": [
       "<Figure size 640x480 with 1 Axes>"
      ]
     },
     "metadata": {},
     "output_type": "display_data"
    }
   ],
   "source": [
    "capm.plot_capm(mvp, etp, rf_mean, lin_vec, portfolio, return_matrix, volatility_matrix, data)"
   ]
  },
  {
   "cell_type": "markdown",
   "metadata": {},
   "source": [
    "Here we have plotted the efficient market frontier with the 3 stocks, the MVP and the ETP. We see as expected, that the minimum variance portfolio is the portfolio which the lowest volatility and that the ETP is exactly tangential with the efficient frontier and the risk-free return. \n",
    "\n",
    "CAPM dictates that any optimal portfolio should be on the capital market line, which is the line from the risk-free return which is tangential with the ETP or the market portfolio. This is because investors only care about risk and return. Any portfolio which is below the capital market line is achievable, but has either a lower return for the same volatility or a higher volatility for the same return. "
   ]
  }
 ],
 "metadata": {
  "kernelspec": {
   "display_name": "base",
   "language": "python",
   "name": "python3"
  },
  "language_info": {
   "codemirror_mode": {
    "name": "ipython",
    "version": 3
   },
   "file_extension": ".py",
   "mimetype": "text/x-python",
   "name": "python",
   "nbconvert_exporter": "python",
   "pygments_lexer": "ipython3",
   "version": "3.11.7"
  },
  "toc-autonumbering": true,
  "vscode": {
   "interpreter": {
    "hash": "47ef90cdf3004d3f859f1fb202523c65c07ba7c22eefd261b181f4744e2d0403"
   }
  }
 },
 "nbformat": 4,
 "nbformat_minor": 4
}
