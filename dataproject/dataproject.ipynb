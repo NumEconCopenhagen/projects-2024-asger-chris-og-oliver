{
 "cells": [
  {
   "cell_type": "markdown",
   "metadata": {},
   "source": [
    "# CAPM Data Project"
   ]
  },
  {
   "attachments": {},
   "cell_type": "markdown",
   "metadata": {},
   "source": [
    "> **Note the following:** \n",
    "> 1. This is *not* meant to be an example of an actual **data analysis project**, just an example of how to structure such a project.\n",
    "> 1. Remember the general advice on structuring and commenting your code\n",
    "> 1. The `dataproject.py` file includes a function which can be used multiple times in this notebook."
   ]
  },
  {
   "cell_type": "markdown",
   "metadata": {},
   "source": [
    "Imports and set magics:"
   ]
  },
  {
   "cell_type": "code",
   "execution_count": 2,
   "metadata": {},
   "outputs": [],
   "source": [
    "import yfinance as yf\n",
    "import pandas as pd\n",
    "import numpy as np\n",
    "import matplotlib.pyplot as plt\n",
    "\n",
    "%load_ext autoreload\n",
    "%autoreload 2\n",
    "\n",
    "from dataproject import *"
   ]
  },
  {
   "cell_type": "markdown",
   "metadata": {},
   "source": [
    "# 1 Data"
   ]
  },
  {
   "cell_type": "markdown",
   "metadata": {},
   "source": [
    "## 1.1 Importing data"
   ]
  },
  {
   "cell_type": "code",
   "execution_count": 3,
   "metadata": {},
   "outputs": [
    {
     "name": "stderr",
     "output_type": "stream",
     "text": [
      "[*********************100%%**********************]  3 of 3 completed"
     ]
    },
    {
     "name": "stdout",
     "output_type": "stream",
     "text": [
      "Ticker            MSFT        NVO       TSLA  NVO_returns  MSFT_returns  \\\n",
      "Date                                                                      \n",
      "2020-01-01  163.737305  28.578432  43.371334     5.096755      7.945464   \n",
      "2020-02-01  155.830795  27.309952  44.532665    -4.438593     -4.828777   \n",
      "2020-03-01  152.109177  28.282454  34.933334     3.560979     -2.388243   \n",
      "2020-04-01  172.845612  29.752953  52.125332     5.199333     13.632600   \n",
      "2020-05-01  176.742142  30.979155  55.666668     4.121278      2.254341   \n",
      "\n",
      "Ticker      TSLA_returns  \n",
      "Date                      \n",
      "2020-01-01     55.515986  \n",
      "2020-02-01      2.677647  \n",
      "2020-03-01    -21.555707  \n",
      "2020-04-01     49.213732  \n",
      "2020-05-01      6.793887  \n"
     ]
    },
    {
     "name": "stderr",
     "output_type": "stream",
     "text": [
      "\n"
     ]
    }
   ],
   "source": [
    "# Importing monthly data from Yahoo Finance\n",
    "data = yf.download([\"NVO\", \"MSFT\", \"TSLA\"], start = \"2019-12-01\", end = \"2024-04-11\", interval = \"1mo\")\n",
    "data = data['Adj Close'] # Only look at the adjusted close\n",
    "\n",
    "# Calculate monthly returns\n",
    "data[\"NVO_returns\"] = data[\"NVO\"].pct_change() * 100\n",
    "data[\"MSFT_returns\"] = data[\"MSFT\"].pct_change() * 100\n",
    "data[\"TSLA_returns\"] = data[\"TSLA\"].pct_change() * 100\n",
    "data = data.dropna()\n",
    "\n",
    "print(data.head())"
   ]
  },
  {
   "cell_type": "markdown",
   "metadata": {},
   "source": [
    "1.2 Merging with "
   ]
  },
  {
   "cell_type": "markdown",
   "metadata": {},
   "source": [
    "## 1.2 Return and covariance matrix"
   ]
  },
  {
   "cell_type": "code",
   "execution_count": 5,
   "metadata": {},
   "outputs": [
    {
     "name": "stdout",
     "output_type": "stream",
     "text": [
      "Ticker\n",
      "NVO_returns     3.155456\n",
      "MSFT_returns    2.217666\n",
      "TSLA_returns    5.884616\n",
      "dtype: float64\n"
     ]
    }
   ],
   "source": [
    "# Keep returns of Novo, Microsoft and Tesla\n",
    "returns = data.loc[:,['NVO_returns', 'MSFT_returns', 'TSLA_returns']]\n",
    "\n",
    "# Calculate the average return over the period\n",
    "return_matrix = np.mean(returns, axis = 0)\n",
    "print(return_matrix)"
   ]
  },
  {
   "cell_type": "code",
   "execution_count": 7,
   "metadata": {},
   "outputs": [
    {
     "name": "stdout",
     "output_type": "stream",
     "text": [
      "Ticker        NVO_returns  MSFT_returns  TSLA_returns\n",
      "Ticker                                               \n",
      "NVO_returns     35.962934     20.112401     -1.510381\n",
      "MSFT_returns    20.112401     42.481289     83.107820\n",
      "TSLA_returns    -1.510381     83.107820    531.062358\n",
      "\n",
      "\n",
      "Ticker\n",
      "NVO_returns      5.996910\n",
      "MSFT_returns     6.517767\n",
      "TSLA_returns    23.044790\n",
      "dtype: float64\n"
     ]
    }
   ],
   "source": [
    "# Calculate covariance matrix\n",
    "cov_matrix = returns.cov()\n",
    "print(cov_matrix)\n",
    "print(\"\\n\")\n",
    "\n",
    "# Prints standard deviations\n",
    "volatility_matrix = np.sqrt(np.var(returns, axis=0, ddof=1))\n",
    "print(volatility_matrix)"
   ]
  },
  {
   "cell_type": "markdown",
   "metadata": {},
   "source": [
    "# 2 CAPM Regression"
   ]
  },
  {
   "cell_type": "markdown",
   "metadata": {},
   "source": [
    "# 3 CAPM Efficient Market Frontier"
   ]
  }
 ],
 "metadata": {
  "kernelspec": {
   "display_name": "base",
   "language": "python",
   "name": "python3"
  },
  "language_info": {
   "codemirror_mode": {
    "name": "ipython",
    "version": 3
   },
   "file_extension": ".py",
   "mimetype": "text/x-python",
   "name": "python",
   "nbconvert_exporter": "python",
   "pygments_lexer": "ipython3",
   "version": "3.11.7"
  },
  "toc-autonumbering": true,
  "vscode": {
   "interpreter": {
    "hash": "47ef90cdf3004d3f859f1fb202523c65c07ba7c22eefd261b181f4744e2d0403"
   }
  }
 },
 "nbformat": 4,
 "nbformat_minor": 4
}
