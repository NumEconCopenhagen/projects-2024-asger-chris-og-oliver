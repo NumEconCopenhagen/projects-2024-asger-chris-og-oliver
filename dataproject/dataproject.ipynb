{
 "cells": [
  {
   "cell_type": "markdown",
   "metadata": {},
   "source": [
    "# CAPM Data Project"
   ]
  },
  {
   "cell_type": "markdown",
   "metadata": {},
   "source": [
    "First, we import the relevant packages, including the Yahoo Finance library, which allows us to fetch historical market data, and the API of Statsmodel, which is used for statistical modeling including regression models, time series analysis etc."
   ]
  },
  {
   "cell_type": "code",
   "execution_count": null,
   "metadata": {},
   "outputs": [],
   "source": [
    "# Install yfinance package\n",
    "%pip install yfinance"
   ]
  },
  {
   "cell_type": "code",
   "execution_count": 9,
   "metadata": {},
   "outputs": [
    {
     "name": "stdout",
     "output_type": "stream",
     "text": [
      "The autoreload extension is already loaded. To reload it, use:\n",
      "  %reload_ext autoreload\n"
     ]
    }
   ],
   "source": [
    "import yfinance as yf\n",
    "import pandas as pd\n",
    "import numpy as np\n",
    "import matplotlib.pyplot as plt\n",
    "from scipy import optimize\n",
    "import statsmodels.api as sm\n",
    "\n",
    "%load_ext autoreload\n",
    "%autoreload 2\n",
    "\n",
    "from dataproject import *"
   ]
  },
  {
   "cell_type": "markdown",
   "metadata": {},
   "source": [
    "# 1 Data"
   ]
  },
  {
   "cell_type": "markdown",
   "metadata": {},
   "source": [
    "## 1.1 Importing data"
   ]
  },
  {
   "cell_type": "markdown",
   "metadata": {},
   "source": [
    "In this section, we import the monthly stock data from Yahoo Finance for Miscrosoft, Novo Nordisk and Tesla, ranging from December 2019 to April 2024. We only import the Adjusted Close, which is the closing stock price, adjusted for corporate actions such as dividend payments or stock splits.\n",
    "\n",
    "Further, we calculate the monthly returns for the three stocks, cleaning the data with dropna() by removing the December 2019 rows which has missing data for percentage changes due to a lack of a preceding month's data."
   ]
  },
  {
   "cell_type": "code",
   "execution_count": 10,
   "metadata": {},
   "outputs": [
    {
     "name": "stderr",
     "output_type": "stream",
     "text": [
      "[*********************100%%**********************]  3 of 3 completed"
     ]
    },
    {
     "name": "stdout",
     "output_type": "stream",
     "text": [
      "Ticker            MSFT        NVO       TSLA  MSFT_returns  NVO_returns  \\\n",
      "Date                                                                      \n",
      "2020-01-01  163.737320  28.578432  43.371334      7.945496     5.096755   \n",
      "2020-02-01  155.830795  27.309950  44.532665     -4.828786    -4.438600   \n",
      "2020-03-01  152.109207  28.282452  34.933334     -2.388224     3.560980   \n",
      "2020-04-01  172.845612  29.752953  52.125332     13.632577     5.199340   \n",
      "2020-05-01  176.742157  30.979153  55.666668      2.254350     4.121272   \n",
      "\n",
      "Ticker      TSLA_returns  \n",
      "Date                      \n",
      "2020-01-01     55.515986  \n",
      "2020-02-01      2.677647  \n",
      "2020-03-01    -21.555707  \n",
      "2020-04-01     49.213732  \n",
      "2020-05-01      6.793887  \n"
     ]
    },
    {
     "name": "stderr",
     "output_type": "stream",
     "text": [
      "\n"
     ]
    }
   ],
   "source": [
    "# Importing monthly stock data from Yahoo Finance\n",
    "data = yf.download([\"MSFT\", \"NVO\", \"TSLA\"], start = \"2019-12-01\", end = \"2024-04-11\", interval = \"1mo\")\n",
    "data = data['Adj Close'] # Only look at the adjusted close stock price\n",
    "\n",
    "# Calculate monthly returns\n",
    "data[\"MSFT_returns\"] = data[\"MSFT\"].pct_change() * 100\n",
    "data[\"NVO_returns\"] = data[\"NVO\"].pct_change() * 100\n",
    "data[\"TSLA_returns\"] = data[\"TSLA\"].pct_change() * 100\n",
    "data = data.dropna() # Drops 2019-12-01 which is NA\n",
    "\n",
    "print(data.head())"
   ]
  },
  {
   "cell_type": "markdown",
   "metadata": {},
   "source": [
    "## 1.2 Merging with Fama-French"
   ]
  },
  {
   "cell_type": "markdown",
   "metadata": {},
   "source": [
    "In this section, we load the data with the market return and the risk free return from the Fama-French dataset. We define the first column of the dataframe as \"Date\" and setting it as the index, so we can match it and merge it later on with the stock data from 1.2. "
   ]
  },
  {
   "cell_type": "code",
   "execution_count": 11,
   "metadata": {},
   "outputs": [
    {
     "name": "stdout",
     "output_type": "stream",
     "text": [
      "        Mkt-RF    RF\n",
      "Date                \n",
      "192607    2.96  0.22\n",
      "192608    2.64  0.25\n",
      "192609    0.36  0.23\n",
      "192610   -3.24  0.32\n",
      "192611    2.53  0.31\n"
     ]
    }
   ],
   "source": [
    "# Load Data with market return and risk free return from Fama-French\n",
    "df = pd.read_excel('Fama-French.xlsx')\n",
    "df.columns = ['Date'] + list(df.columns[1:]) # Name first column Date\n",
    "df.set_index(\"Date\", inplace=True) # Set the date column as the index\n",
    "print(df.head())"
   ]
  },
  {
   "cell_type": "markdown",
   "metadata": {},
   "source": [
    "We change the format of the index to YYYY-MM-DD such that it matches the stock dataframe.\n",
    "The return_df dataframe creates a new dataframe from the existing 'data' dataframe, selecting all rows but only the columns starting from the fourth column (index 3), such that the return_df is a dataframe with only the calculated returns.\n",
    "\n",
    "We then merge 'return_df' with 'df' based in their indexes. The 'left_index' and 'right_index' parameters set to 'True' indicate that the merge should be done based on the df indexes. The 'how='inner' parameter specifices that the merge should be an inner join, meaning only those dates that appear in both DataFrames will be included in 'merged_data'. If the dates do not appear in both dataframes, the row does not merge.\n"
   ]
  },
  {
   "cell_type": "code",
   "execution_count": 12,
   "metadata": {},
   "outputs": [
    {
     "name": "stdout",
     "output_type": "stream",
     "text": [
      "            MSFT_returns  NVO_returns  TSLA_returns  Mkt-RF    RF\n",
      "Date                                                             \n",
      "2020-01-01      7.945496     5.096755     55.515986   -0.11  0.13\n",
      "2020-02-01     -4.828786    -4.438600      2.677647   -8.13  0.12\n",
      "2020-03-01     -2.388224     3.560980    -21.555707  -13.39  0.13\n",
      "2020-04-01     13.632577     5.199340     49.213732   13.65  0.00\n",
      "2020-05-01      2.254350     4.121272      6.793887    5.58  0.01\n"
     ]
    }
   ],
   "source": [
    "# Change the format of the index from YYYYDD to YYYY-MM-DD\n",
    "df.index = pd.to_datetime(df.index, format='%Y%m')\n",
    "\n",
    "# Create dataframe with returns\n",
    "return_df = data.iloc[:, 3:] \n",
    "\n",
    "# Inner merge the dataframes on the dates\n",
    "merged_data = return_df.merge(df, left_index=True, right_index=True, how='inner')\n",
    "\n",
    "# Print the first few rows of the merged dataframe to verify\n",
    "print(merged_data.head())"
   ]
  },
  {
   "cell_type": "markdown",
   "metadata": {},
   "source": [
    "We now loop over each column in the return_df dataframe, creating 3 new columns which calculates the stock return minus the risk free return and adding it to the merged_data dataset, naming it the column name + '-RF'."
   ]
  },
  {
   "cell_type": "code",
   "execution_count": 13,
   "metadata": {},
   "outputs": [
    {
     "name": "stdout",
     "output_type": "stream",
     "text": [
      "            MSFT_returns  NVO_returns  TSLA_returns  Mkt-RF    RF  \\\n",
      "Date                                                                \n",
      "2020-01-01      7.945496     5.096755     55.515986   -0.11  0.13   \n",
      "2020-02-01     -4.828786    -4.438600      2.677647   -8.13  0.12   \n",
      "2020-03-01     -2.388224     3.560980    -21.555707  -13.39  0.13   \n",
      "2020-04-01     13.632577     5.199340     49.213732   13.65  0.00   \n",
      "2020-05-01      2.254350     4.121272      6.793887    5.58  0.01   \n",
      "\n",
      "            MSFT_returns-RF  NVO_returns-RF  TSLA_returns-RF  \n",
      "Date                                                          \n",
      "2020-01-01         7.815496        4.966755        55.385986  \n",
      "2020-02-01        -4.948786       -4.558600         2.557647  \n",
      "2020-03-01        -2.518224        3.430980       -21.685707  \n",
      "2020-04-01        13.632577        5.199340        49.213732  \n",
      "2020-05-01         2.244350        4.111272         6.783887  \n"
     ]
    }
   ],
   "source": [
    "# Loop over the columns to create new column with the stock return minus the risk free return\n",
    "for column in return_df.columns:\n",
    "    merged_data[column + '-RF'] = merged_data[column] - merged_data['RF']\n",
    "\n",
    "print(merged_data.head())\n"
   ]
  },
  {
   "cell_type": "markdown",
   "metadata": {},
   "source": [
    "# 2 Regression"
   ]
  },
  {
   "cell_type": "markdown",
   "metadata": {},
   "source": [
    "First we create an independent variable X by selecting the \"Mkt-RF\" column from merged_data. By writing add_constant, we add a constant column to X, which acts as the intercept in the regression model. The 'Mkt-RF' column represents the excess market returns, i.e. the market returns minus the risk-free rate. \n",
    "\n",
    "The for loop iterates over each column in merged_data, starting from the sixth column. The loop does the following, for example for column 6, MSFT_returns-RF: \n",
    "1) We define the column for MSFT_returns-RF as the dependent variable.\n",
    "2) We use the statsmodel package to do an OLS regression, regressing y on x, excluding potential nan.values.\n",
    "3) Thereafter, the regression model is fitted, and the results are stored in the dictionary 'results', keyed by the column name of the stock return.\n"
   ]
  },
  {
   "cell_type": "code",
   "execution_count": 14,
   "metadata": {},
   "outputs": [],
   "source": [
    "# Prepare the explanatory variable (Excess market returns), adding a constant for the intercept\n",
    "X = sm.add_constant(merged_data['Mkt-RF'])\n",
    "\n",
    "# Loop through each stock return column and perform regression\n",
    "results = {}\n",
    "for return_col in merged_data.iloc[:, 5:]:\n",
    "    # Prepare the dependent variable\n",
    "    y = merged_data[return_col]  # Dependent variable (stock excess returns)\n",
    "\n",
    "    # Fit the regression model\n",
    "    model = sm.OLS(y, X, missing='drop')  # OLS regression, excluding potential NaN values\n",
    "    results[return_col] = model.fit()\n",
    "\n",
    "    # Print the summary of the regression results\n",
    "    #print(f\"Regression Results for {return_col}:\\n\")\n",
    "    #print(results[return_col].summary())\n",
    "    #print(\"\\n\\n\")\n"
   ]
  },
  {
   "cell_type": "markdown",
   "metadata": {},
   "source": [
    "We now call the beta_table function from dataproject.py. \n",
    "\n",
    "We note that, to use this function, we have to have a 'results' table already, containing key-value pairs, where the key is the name of the object and each value is a regression result object such as beta or a t-statistic.\n",
    "\n",
    "The function does the following:\n",
    "\n",
    "1) Extracts and rounds the 'Mkt-rf' beta coefficient and stores it in beta_values, extracts and rounds the constant term and stores it in constant_values\n",
    "2) Calculates the t-values for the 'Mkt-rf' coefficient by dividing the beta coefficient by its standard error, storing it in t_values. Same method for the t-values for the constant term, storing it in t_values_a.\n",
    "\n",
    "3) Having the values, the function constructs a dataframe with columns 'Stock', 'Beta', 't_Beta, 'cons', 't_cons', returning the dataframe."
   ]
  },
  {
   "cell_type": "markdown",
   "metadata": {},
   "source": [
    "Now, we call the beta_table function, printing the beta_table:"
   ]
  },
  {
   "cell_type": "code",
   "execution_count": 15,
   "metadata": {},
   "outputs": [
    {
     "data": {
      "text/html": [
       "<div>\n",
       "<style scoped>\n",
       "    .dataframe tbody tr th:only-of-type {\n",
       "        vertical-align: middle;\n",
       "    }\n",
       "\n",
       "    .dataframe tbody tr th {\n",
       "        vertical-align: top;\n",
       "    }\n",
       "\n",
       "    .dataframe thead th {\n",
       "        text-align: right;\n",
       "    }\n",
       "</style>\n",
       "<table border=\"1\" class=\"dataframe\">\n",
       "  <thead>\n",
       "    <tr style=\"text-align: right;\">\n",
       "      <th></th>\n",
       "      <th>Stock</th>\n",
       "      <th>Beta</th>\n",
       "      <th>t_Beta</th>\n",
       "      <th>cons</th>\n",
       "      <th>t_cons</th>\n",
       "    </tr>\n",
       "  </thead>\n",
       "  <tbody>\n",
       "    <tr>\n",
       "      <th>0</th>\n",
       "      <td>MSFT_returns-RF</td>\n",
       "      <td>0.816</td>\n",
       "      <td>7.04</td>\n",
       "      <td>1.246</td>\n",
       "      <td>1.84</td>\n",
       "    </tr>\n",
       "    <tr>\n",
       "      <th>1</th>\n",
       "      <td>NVO_returns-RF</td>\n",
       "      <td>0.350</td>\n",
       "      <td>2.48</td>\n",
       "      <td>2.659</td>\n",
       "      <td>3.23</td>\n",
       "    </tr>\n",
       "    <tr>\n",
       "      <th>2</th>\n",
       "      <td>TSLA_returns-RF</td>\n",
       "      <td>2.471</td>\n",
       "      <td>5.38</td>\n",
       "      <td>3.706</td>\n",
       "      <td>1.38</td>\n",
       "    </tr>\n",
       "  </tbody>\n",
       "</table>\n",
       "</div>"
      ],
      "text/plain": [
       "             Stock   Beta  t_Beta   cons  t_cons\n",
       "0  MSFT_returns-RF  0.816    7.04  1.246    1.84\n",
       "1   NVO_returns-RF  0.350    2.48  2.659    3.23\n",
       "2  TSLA_returns-RF  2.471    5.38  3.706    1.38"
      ]
     },
     "execution_count": 15,
     "metadata": {},
     "output_type": "execute_result"
    }
   ],
   "source": [
    "Dataproject.beta_table(results)"
   ]
  },
  {
   "cell_type": "markdown",
   "metadata": {},
   "source": [
    "We find that Novo Nordisk has the lowest correlation with the market, followed by Microsoft and then Tesla. All beta coefficients are significant on a 5% significance level."
   ]
  },
  {
   "cell_type": "markdown",
   "metadata": {},
   "source": [
    "# 3 Portfolios\n",
    "We illustrate the Efficient Market Frontier from the CAPM. We first find the two portfolios of interest, which are the Minimum Variance Portfolio and the Efficient Tangent Portfolio. These are the portfolios with the lowest possible variance and the portfolio with the highest return relative to its risk respectively. "
   ]
  },
  {
   "cell_type": "markdown",
   "metadata": {},
   "source": [
    "## 3.1 Return and covariance matrix\n",
    "We first create the average return matrix and the covariance matrix for our selected stocks."
   ]
  },
  {
   "cell_type": "code",
   "execution_count": 54,
   "metadata": {},
   "outputs": [
    {
     "name": "stdout",
     "output_type": "stream",
     "text": [
      "Ticker\n",
      "MSFT_returns    2.190104\n",
      "NVO_returns     3.142030\n",
      "TSLA_returns    5.845781\n",
      "dtype: float64\n"
     ]
    }
   ],
   "source": [
    "# Keep returns of Novo, Microsoft and Tesla\n",
    "returns = data.iloc[:,3:]\n",
    "\n",
    "# Calculate the average return over the period\n",
    "return_matrix = np.mean(returns, axis = 0)\n",
    "print(return_matrix)"
   ]
  },
  {
   "cell_type": "code",
   "execution_count": 55,
   "metadata": {},
   "outputs": [
    {
     "name": "stdout",
     "output_type": "stream",
     "text": [
      "Ticker        MSFT_returns  NVO_returns  TSLA_returns\n",
      "Ticker                                               \n",
      "MSFT_returns     42.549150    20.273110     83.367923\n",
      "NVO_returns      20.273110    36.103361     -1.203850\n",
      "TSLA_returns     83.367923    -1.203850    531.660423\n",
      "\n",
      "\n"
     ]
    }
   ],
   "source": [
    "# Calculate covariance matrix\n",
    "cov_matrix = returns.cov()\n",
    "print(cov_matrix)\n",
    "\n",
    "# Calculates volatilities\n",
    "volatility_matrix = np.sqrt(np.var(returns, axis=0, ddof=1))"
   ]
  },
  {
   "cell_type": "markdown",
   "metadata": {},
   "source": [
    "We create a portfolio function. The function calculates the expected return and volatility of any portfolio for given weights of the three stocks."
   ]
  },
  {
   "cell_type": "code",
   "execution_count": 18,
   "metadata": {},
   "outputs": [],
   "source": [
    "# Define portfolio function, which returns ER and Volatility for any portfolio weights W\n",
    "def portfolio(w1, w2, return_matrix=return_matrix, cov_matrix=cov_matrix): \n",
    "    '''Calculate expected return and volatility for given portfolio'''\n",
    "\n",
    "    index = return_matrix.index # Get index of return matrix\n",
    "    W = pd.DataFrame([w1,w2, 1-w1-w2], index=index) # Set weights to have matching index with returns\n",
    "    tW = W.transpose() # Transposed weight matrix\n",
    "\n",
    "    var = tW.dot(cov_matrix).dot(W) # Formula for calculating variance\n",
    "    sd = np.sqrt(var)[0][0] # Calculates volatility\n",
    "\n",
    "    e_r = tW.dot(return_matrix)[0] # Formula for expected return\n",
    "\n",
    "    return e_r, sd"
   ]
  },
  {
   "cell_type": "markdown",
   "metadata": {},
   "source": [
    "## 3.2 Minimum Variance Portfolio\n",
    "Below we find the Minimum Variance Portfolio. To illustrate the result we plot the volatility as a function of the weights."
   ]
  },
  {
   "cell_type": "code",
   "execution_count": 43,
   "metadata": {},
   "outputs": [
    {
     "name": "stdout",
     "output_type": "stream",
     "text": [
      "Minimum variance weights: w1 = 0.453, w2 = 0.561, w3 = -0.015\n",
      "MVP return = 2.671, MVP SD = 5.428\n"
     ]
    }
   ],
   "source": [
    "# Call Data project class\n",
    "capm = Dataproject\n",
    "\n",
    "# Calculate minimum variance portfolio by using mvp_w, which minimizes the variance for given portfolio of stocks\n",
    "w1_min, w2_min, min_vol = capm.mvp_w(portfolio)\n",
    "mvp = portfolio(w1_min, w2_min)\n",
    "\n",
    "print(f'Minimum variance weights: w1 = {w1_min:.3f}, w2 = {w2_min:.3f}, w3 = {1-w1_min-w2_min:.3f}')\n",
    "print(f'MVP return = {mvp[0]:.3f}, MVP SD = {mvp[1]:.3f}')\n"
   ]
  },
  {
   "cell_type": "markdown",
   "metadata": {},
   "source": [
    "The minimum variance portfolio consistents of longen just about half in Microsoft and Novo and slightly shorting Tesla, this makes sense because Tesla has by far the biggest variance as seen in the covariance matrix, so you want a low weight in your portfolio. '\n",
    "\n",
    "The MVP has a monthly return of 2.6% and a volatility of 5.43. "
   ]
  },
  {
   "cell_type": "markdown",
   "metadata": {},
   "source": [
    "Below we illustrate that we have indeed found the minimum variance portfolio. We show 3 plots with varying weights as well as the weights and return of the minimum variance portfolio. The portfolio function has two inputs, so to keep the plot 2-dimensional rather than 3-d, we hold w2 semi-fixed. We create 3 plots, one where w2 is set to w2_min and two others where w2 is changed by $\\pm$ delta."
   ]
  },
  {
   "cell_type": "code",
   "execution_count": 31,
   "metadata": {},
   "outputs": [
    {
     "data": {
      "application/vnd.jupyter.widget-view+json": {
       "model_id": "8e23a6d757be4e478a1b183bae2f245d",
       "version_major": 2,
       "version_minor": 0
      },
      "text/plain": [
       "interactive(children=(FloatSlider(value=0.3, description='delta', max=0.5), Output()), _dom_classes=('widget-i…"
      ]
     },
     "metadata": {},
     "output_type": "display_data"
    },
    {
     "data": {
      "text/plain": [
       "<function dataproject.Dataproject.plot_variance(portfolio, mvp_w, delta=0.5)>"
      ]
     },
     "execution_count": 31,
     "metadata": {},
     "output_type": "execute_result"
    }
   ],
   "source": [
    "%matplotlib inline\n",
    "import ipywidgets as widgets\n",
    "\n",
    "# Interactive widget showing volatility where w2 is held semi-fixed, to preserve 1-d plot\n",
    "widgets.interact(\n",
    "    capm.plot_variance,\n",
    "    portfolio=widgets.fixed(portfolio),\n",
    "    mvp_w=widgets.fixed(capm.mvp_w),\n",
    "delta=widgets.FloatSlider(min=0, max=0.5, step=0.1, value = 0.3),\n",
    ")"
   ]
  },
  {
   "cell_type": "markdown",
   "metadata": {},
   "source": [
    "We see from the plot the minimum that we found coincides with the graphs. This at least shows that w1_min is correct, but we also see as we change w2_min by delta, then the minima of the graphs increase, which shows that w2_min is also correct, and we indeed have found the minimum variance weights."
   ]
  },
  {
   "cell_type": "markdown",
   "metadata": {},
   "source": [
    "## 3.2 Efficient Tangent Portfolio\n",
    "To calculate the efficient tangent portfolio we draw from the CAPM theory, which says that the ETP has the highest sharpe ratio, that is the highest excess return relative to its volatility. We therefore have a function which can calculate the sharpe ratio, and we will find the ETP weights by maximizing this function. "
   ]
  },
  {
   "cell_type": "code",
   "execution_count": 34,
   "metadata": {},
   "outputs": [],
   "source": [
    "def sharpe_ratio(w1, w2, portfolio=portfolio, rf = 0):\n",
    "    '''Calculate the sharpe ratio for any portfolio'''\n",
    "\n",
    "    rf = rf # Risk free rate\n",
    "    e_r, sd = portfolio(w1, w2) # Expected return and volatility\n",
    "\n",
    "    sharpe = (e_r - rf)/sd # Calculates Sharpe ratio\n",
    "    return sharpe"
   ]
  },
  {
   "cell_type": "markdown",
   "metadata": {},
   "source": [
    "We assume that the risk free rate is constant and set it equal to the mean of the risk free return from the Fama-French dataset."
   ]
  },
  {
   "cell_type": "code",
   "execution_count": 35,
   "metadata": {},
   "outputs": [],
   "source": [
    "rf_mean = np.mean(df[\"RF\"])"
   ]
  },
  {
   "cell_type": "markdown",
   "metadata": {},
   "source": [
    "We found the ETP weights by maximizing the sharpe ratio using the etp_w function, which find the portfolio which has the highest Sharpe ratio."
   ]
  },
  {
   "cell_type": "code",
   "execution_count": 39,
   "metadata": {},
   "outputs": [
    {
     "name": "stdout",
     "output_type": "stream",
     "text": [
      "Efficient tangent portfolio weights: w1 = -0.402, w2 = 1.208 and w3 = 0.194\n",
      "\n",
      "ETP return = 4.051, ETP SD = 6.808, ETP Sharpe Ratio = 0.556\n"
     ]
    }
   ],
   "source": [
    "w1_etp, w2_etp, etp_sharp = capm.etp_w(sharpe_ratio, rf=rf_mean) # Weights that maximize the Sharpe ratio\n",
    "etp = portfolio(w1_etp, w2_etp)\n",
    "\n",
    "print(f'Efficient tangent portfolio weights: w1 = {w1_etp:.3f}, w2 = {w2_etp:.3f} and w3 = {1-w1_etp-w2_etp:.3f}\\n')\n",
    "print(f'ETP return = {etp[0]:.3f}, ETP SD = {etp[1]:.3f}, ETP Sharpe Ratio = {etp_sharp:.3f}')"
   ]
  },
  {
   "cell_type": "markdown",
   "metadata": {},
   "source": [
    "The Efficient Tangent Portfolio shorts microsoft and longs Novo heavily while also having some in Tesla. The ETP has a return of 4% per month and a volatility of 6.8, both of which are larger than the MVP as expected."
   ]
  },
  {
   "cell_type": "markdown",
   "metadata": {},
   "source": [
    "Below we plot the sharpe ratio as a function the weight on microsft, w1, and again to keep the plot 2-dimensional we hold w2 semi-fixed around w2_etp. "
   ]
  },
  {
   "cell_type": "code",
   "execution_count": 42,
   "metadata": {},
   "outputs": [
    {
     "data": {
      "application/vnd.jupyter.widget-view+json": {
       "model_id": "c7138bf009a94792937e1a7ee2495a77",
       "version_major": 2,
       "version_minor": 0
      },
      "text/plain": [
       "interactive(children=(FloatSlider(value=0.4, description='delta', max=0.6, step=0.2), Output()), _dom_classes=…"
      ]
     },
     "metadata": {},
     "output_type": "display_data"
    },
    {
     "data": {
      "text/plain": [
       "<function dataproject.Dataproject.plot_sharp(sharpe_ratio, etp_w, rf, delta=0.5)>"
      ]
     },
     "execution_count": 42,
     "metadata": {},
     "output_type": "execute_result"
    }
   ],
   "source": [
    "%matplotlib inline\n",
    "\n",
    "widgets.interact(\n",
    "    capm.plot_sharp,\n",
    "    sharpe_ratio=widgets.fixed(sharpe_ratio),\n",
    "    etp_w = widgets.fixed(capm.etp_w),\n",
    "    rf=widgets.fixed(rf_mean),\n",
    "delta=widgets.FloatSlider(min=0, max=0.6, step=0.2, value = 0.4),\n",
    ")"
   ]
  },
  {
   "cell_type": "markdown",
   "metadata": {},
   "source": [
    "The plot shows that we have found the correct maximum as the point is at the peak of the sharpe ratio function, and the peaks are lower for the other functions where w2_etp is changed by delta."
   ]
  },
  {
   "cell_type": "markdown",
   "metadata": {},
   "source": [
    "## 3.3 Efficient market frontier\n",
    "The mutual fund theorem of the CAPM says that any linear combination of any two portfolios which are efficient will also be efficient. Therefore we can create the efficient market frontier by taking linear combinations of the minimum variance portfolio and efficient tangent portfolio which we know are efficient. We will then plot all the different portfolio."
   ]
  },
  {
   "cell_type": "code",
   "execution_count": 48,
   "metadata": {},
   "outputs": [],
   "source": [
    "# Weights for the MVP and ETP\n",
    "mvp_weights = pd.DataFrame([w1_min, w2_min, 1 - w1_min - w2_min])\n",
    "etp_weights = pd.DataFrame([w1_etp, w2_etp, 1 - w1_etp - w2_etp])\n",
    "\n",
    "# Creating y_vec and lin_vec to store linear combinations\n",
    "y_vec = np.linspace(-3, 3, 100)\n",
    "lin_vec = []\n",
    "\n",
    "for y in y_vec:\n",
    "    linear = y*mvp_weights + (1-y)*etp_weights\n",
    "    lin_vec.append(linear[0][0:2])"
   ]
  },
  {
   "cell_type": "markdown",
   "metadata": {},
   "source": [
    "Plotting the efficient market frontier and the capital market line by calling plot_capm."
   ]
  },
  {
   "cell_type": "code",
   "execution_count": 68,
   "metadata": {},
   "outputs": [
    {
     "data": {
      "image/png": "[encoded data removed]",
      "text/plain": [
       "<Figure size 640x480 with 1 Axes>"
      ]
     },
     "metadata": {},
     "output_type": "display_data"
    }
   ],
   "source": [
    "capm.plot_capm(mvp, etp, rf_mean, lin_vec, portfolio, return_matrix, volatility_matrix, data)"
   ]
  },
  {
   "cell_type": "markdown",
   "metadata": {},
   "source": [
    "Here we have plotted the efficient market frontier with the 3 stocks, the MVP and the ETP. We see as expected, that the minimum variance portfolio is the portfolio which the lowest volatility and that the ETP is exactly tangential with the efficient frontier and the risk-free return. "
   ]
  }
 ],
 "metadata": {
  "kernelspec": {
   "display_name": "base",
   "language": "python",
   "name": "python3"
  },
  "language_info": {
   "codemirror_mode": {
    "name": "ipython",
    "version": 3
   },
   "file_extension": ".py",
   "mimetype": "text/x-python",
   "name": "python",
   "nbconvert_exporter": "python",
   "pygments_lexer": "ipython3",
   "version": "3.11.7"
  },
  "toc-autonumbering": true,
  "vscode": {
   "interpreter": {
    "hash": "47ef90cdf3004d3f859f1fb202523c65c07ba7c22eefd261b181f4744e2d0403"
   }
  }
 },
 "nbformat": 4,
 "nbformat_minor": 4
}
