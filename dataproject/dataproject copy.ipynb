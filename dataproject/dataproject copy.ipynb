{
 "cells": [
  {
   "cell_type": "markdown",
   "metadata": {},
   "source": [
    "# CAPM Data Project"
   ]
  },
  {
   "cell_type": "markdown",
   "metadata": {},
   "source": [
    "First, we import the relevant packages, including the Yahoo Finance library, which allows us to fetch historical market data, and the API of Statsmodel, which is used for statistical modeling including regression models, time series analysis etc."
   ]
  },
  {
   "cell_type": "code",
   "execution_count": 1,
   "metadata": {},
   "outputs": [],
   "source": [
    "#%pip install yfinance\n",
    "\n",
    "import yfinance as yf\n",
    "import pandas as pd\n",
    "import numpy as np\n",
    "import matplotlib.pyplot as plt\n",
    "from scipy import optimize\n",
    "import statsmodels.api as sm\n",
    "\n",
    "%load_ext autoreload\n",
    "%autoreload 2\n",
    "\n",
    "#from dataproject import *"
   ]
  },
  {
   "cell_type": "markdown",
   "metadata": {},
   "source": [
    "# 1 Data"
   ]
  },
  {
   "cell_type": "markdown",
   "metadata": {},
   "source": [
    "## 1.1 Importing data"
   ]
  },
  {
   "cell_type": "markdown",
   "metadata": {},
   "source": [
    "In this section, we import the monthly stock data from Yahoo Finance for Miscrosoft, Novo Nordisk and Tesla, ranging from December 2019 to April 2024. We only import the Adjusted Close, which is the closing stock price, adjusted for corporate actions such as dividend payments or stock splits.\n",
    "\n",
    "Further, we calculate the monthly returns for the three stocks, cleaning the data with dropna() by removing the December 2019 rows which has missing data for percentage changes due to a lack of a preceding month's data."
   ]
  },
  {
   "cell_type": "code",
   "execution_count": 2,
   "metadata": {},
   "outputs": [
    {
     "name": "stderr",
     "output_type": "stream",
     "text": [
      "[*********************100%%**********************]  3 of 3 completed"
     ]
    },
    {
     "name": "stdout",
     "output_type": "stream",
     "text": [
      "Ticker            MSFT        NVO       TSLA  MSFT_returns  NVO_returns  \\\n",
      "Date                                                                      \n",
      "2020-01-01  163.737289  28.578428  43.371334      7.945465     5.096733   \n",
      "2020-02-01  155.830841  27.309950  44.532665     -4.828740    -4.438587   \n",
      "2020-03-01  152.109161  28.282454  34.933334     -2.388282     3.560987   \n",
      "2020-04-01  172.845612  29.752954  52.125332     13.632611     5.199340   \n",
      "2020-05-01  176.742126  30.979149  55.666668      2.254333     4.121253   \n",
      "\n",
      "Ticker      TSLA_returns  \n",
      "Date                      \n",
      "2020-01-01     55.515986  \n",
      "2020-02-01      2.677647  \n",
      "2020-03-01    -21.555707  \n",
      "2020-04-01     49.213732  \n",
      "2020-05-01      6.793887  \n"
     ]
    },
    {
     "name": "stderr",
     "output_type": "stream",
     "text": [
      "\n"
     ]
    }
   ],
   "source": [
    "# Importing monthly stock data from Yahoo Finance\n",
    "data = yf.download([\"MSFT\", \"NVO\", \"TSLA\"], start = \"2019-12-01\", end = \"2024-04-11\", interval = \"1mo\")\n",
    "data = data['Adj Close'] # Only look at the adjusted close stock price\n",
    "\n",
    "# Calculate monthly returns\n",
    "data[\"MSFT_returns\"] = data[\"MSFT\"].pct_change() * 100\n",
    "data[\"NVO_returns\"] = data[\"NVO\"].pct_change() * 100\n",
    "data[\"TSLA_returns\"] = data[\"TSLA\"].pct_change() * 100\n",
    "data = data.dropna() # Drops 2019-12-01 which is NA\n",
    "\n",
    "print(data.head())"
   ]
  },
  {
   "cell_type": "markdown",
   "metadata": {},
   "source": [
    "## 1.2 Merging with Fama-French"
   ]
  },
  {
   "cell_type": "markdown",
   "metadata": {},
   "source": [
    "In this section, we load the data with the market return and the risk free return from the Fama-French dataset. We define the first column of the dataframe as \"Date\" and setting it as the index, so we can match it and merge it later on with the stock data from 1.2. "
   ]
  },
  {
   "cell_type": "code",
   "execution_count": 3,
   "metadata": {},
   "outputs": [
    {
     "name": "stdout",
     "output_type": "stream",
     "text": [
      "        Mkt-RF    RF\n",
      "Date                \n",
      "192607    2.96  0.22\n",
      "192608    2.64  0.25\n",
      "192609    0.36  0.23\n",
      "192610   -3.24  0.32\n",
      "192611    2.53  0.31\n"
     ]
    }
   ],
   "source": [
    "# Load Data with market return and risk free return from Fama-French\n",
    "df = pd.read_excel('Fama-French.xlsx')\n",
    "df.columns = ['Date'] + list(df.columns[1:]) # Name first column Date\n",
    "df.set_index(\"Date\", inplace=True) # Set the date column as the index\n",
    "print(df.head())"
   ]
  },
  {
   "cell_type": "markdown",
   "metadata": {},
   "source": [
    "We change the format of the index to YYYY-MM-DD such that it matches the stock dataframe.\n",
    "The return_df dataframe creates a new dataframe from the existing 'data' dataframe, selecting all rows but only the columns starting from the fourth column (index 3), such that the return_df is a dataframe with only the calculated returns.\n",
    "\n",
    "We then merge 'return_df' with 'df' based in their indexes. The 'left_index' and 'right_index' parameters set to 'True' indicate that the merge should be done based on the df indexes. The 'how='inner' parameter specifices that the merge should be an inner join, meaning only those dates that appear in both DataFrames will be included in 'merged_data'. If the dates do not appear in both dataframes, the row does not merge.\n"
   ]
  },
  {
   "cell_type": "code",
   "execution_count": 4,
   "metadata": {},
   "outputs": [
    {
     "name": "stdout",
     "output_type": "stream",
     "text": [
      "            MSFT_returns  NVO_returns  TSLA_returns  Mkt-RF    RF\n",
      "Date                                                             \n",
      "2020-01-01      7.945465     5.096733     55.515986   -0.11  0.13\n",
      "2020-02-01     -4.828740    -4.438587      2.677647   -8.13  0.12\n",
      "2020-03-01     -2.388282     3.560987    -21.555707  -13.39  0.13\n",
      "2020-04-01     13.632611     5.199340     49.213732   13.65  0.00\n",
      "2020-05-01      2.254333     4.121253      6.793887    5.58  0.01\n"
     ]
    }
   ],
   "source": [
    "# Change the format of the index from YYYYDD to YYYY-MM-DD\n",
    "df.index = pd.to_datetime(df.index, format='%Y%m')\n",
    "\n",
    "# Create dataframe with returns\n",
    "return_df = data.iloc[:, 3:] \n",
    "\n",
    "# Inner merge the dataframes on the dates\n",
    "merged_data = return_df.merge(df, left_index=True, right_index=True, how='inner')\n",
    "\n",
    "# Print the first few rows of the merged dataframe to verify\n",
    "print(merged_data.head())"
   ]
  },
  {
   "cell_type": "markdown",
   "metadata": {},
   "source": [
    "We now loop over each column in the return_df dataframe, creating 3 new columns which calculates the stock return minus the risk free return and adding it to the merged_data dataset, naming it the column name + '-RF'."
   ]
  },
  {
   "cell_type": "code",
   "execution_count": 5,
   "metadata": {},
   "outputs": [
    {
     "name": "stdout",
     "output_type": "stream",
     "text": [
      "            MSFT_returns  NVO_returns  TSLA_returns  Mkt-RF    RF  \\\n",
      "Date                                                                \n",
      "2020-01-01      7.945465     5.096733     55.515986   -0.11  0.13   \n",
      "2020-02-01     -4.828740    -4.438587      2.677647   -8.13  0.12   \n",
      "2020-03-01     -2.388282     3.560987    -21.555707  -13.39  0.13   \n",
      "2020-04-01     13.632611     5.199340     49.213732   13.65  0.00   \n",
      "2020-05-01      2.254333     4.121253      6.793887    5.58  0.01   \n",
      "\n",
      "            MSFT_returns-RF  NVO_returns-RF  TSLA_returns-RF  \n",
      "Date                                                          \n",
      "2020-01-01         7.815465        4.966733        55.385986  \n",
      "2020-02-01        -4.948740       -4.558587         2.557647  \n",
      "2020-03-01        -2.518282        3.430987       -21.685707  \n",
      "2020-04-01        13.632611        5.199340        49.213732  \n",
      "2020-05-01         2.244333        4.111253         6.783887  \n"
     ]
    }
   ],
   "source": [
    "# Loop over the columns to create new column with the stock return minus the risk free return\n",
    "for column in return_df.columns:\n",
    "    merged_data[column + '-RF'] = merged_data[column] - merged_data['RF']\n",
    "\n",
    "print(merged_data.head())\n"
   ]
  },
  {
   "cell_type": "markdown",
   "metadata": {},
   "source": [
    "# 2 Regression"
   ]
  },
  {
   "cell_type": "markdown",
   "metadata": {},
   "source": [
    "First we create an independent variable X by selecting the \"Mkt-RF\" column from merged_data. By writing add_constant, we add a constant column to X, which acts as the intercept in the regression model. The 'Mkt-RF' column represents the excess market returns, i.e. the market returns minus the risk-free rate. \n",
    "\n",
    "The for loop iterates over each column in merged_data, starting from the sixth column. The loop does the following, for example for column 6, MSFT_returns-RF: \n",
    "1) We define MSFT_returns-RF as the dependent variable.\n"
   ]
  },
  {
   "cell_type": "code",
   "execution_count": 6,
   "metadata": {},
   "outputs": [],
   "source": [
    "# Prepare the explanatory variable (Excess market returns), adding a constant for the intercept\n",
    "X = sm.add_constant(merged_data['Mkt-RF'])\n",
    "\n",
    "# Loop through each stock return column and perform regression\n",
    "results = {}\n",
    "for return_col in merged_data.iloc[:, 5:]:\n",
    "    # Prepare the dependent variable\n",
    "    y = merged_data[return_col]  # Dependent variable (stock excess returns)\n",
    "\n",
    "    # Fit the regression model\n",
    "    model = sm.OLS(y, X, missing='drop')  # OLS regression, excluding potential NaN values\n",
    "    results[return_col] = model.fit()\n",
    "\n",
    "    # Print the summary of the regression results\n",
    "    #print(f\"Regression Results for {return_col}:\\n\")\n",
    "    #print(results[return_col].summary())\n",
    "    #print(\"\\n\\n\")\n"
   ]
  },
  {
   "cell_type": "code",
   "execution_count": 7,
   "metadata": {},
   "outputs": [],
   "source": [
    "def beta_table(results):\n",
    "    '''Makes table with estimation coefficients and t-values'''\n",
    "    \n",
    "    # List to save beta values\n",
    "    beta_values = {}\n",
    "\n",
    "    for key, result in results.items():\n",
    "        beta_values[key] = round(result.params['Mkt-RF'], 3)\n",
    "\n",
    "    # Extract constant values\n",
    "    constant_values = {}\n",
    "\n",
    "    for key, result in results.items():\n",
    "        constant_values[key] = round(result.params['const'], 3)\n",
    "\n",
    "    # Calculate t-values for the 'Mkt-RF' coefficient\n",
    "    t_values = {}\n",
    "    for key, result in results.items():\n",
    "        t_values[key] = round(result.params['Mkt-RF'] / result.bse['Mkt-RF'], 2)\n",
    "    # Calculate t-values for the constant coefficient\n",
    "\n",
    "    t_values_a = {}\n",
    "    for key, result in results.items():\n",
    "        t_values_a[key] = round(result.params['const'] / result.bse['const'], 2)    \n",
    "\n",
    "    beta_table = pd.DataFrame(list(beta_values.items()), columns=['Stock', 'Beta'])\n",
    "\n",
    "    # Add constant values and t-values to the DataFrame\n",
    "    beta_table['t_Beta'] = t_values.values()\n",
    "    beta_table['cons'] = constant_values.values()\n",
    "    beta_table['t_cons'] = t_values_a.values()\n",
    "\n",
    "    return beta_table\n"
   ]
  },
  {
   "cell_type": "code",
   "execution_count": 8,
   "metadata": {},
   "outputs": [
    {
     "name": "stdout",
     "output_type": "stream",
     "text": [
      "             Stock   Beta  t_Beta   cons  t_cons\n",
      "0  MSFT_returns-RF  0.816    7.04  1.246    1.84\n",
      "1   NVO_returns-RF  0.350    2.48  2.659    3.23\n",
      "2  TSLA_returns-RF  2.471    5.38  3.706    1.38\n"
     ]
    }
   ],
   "source": [
    "print(beta_table(results))"
   ]
  },
  {
   "cell_type": "markdown",
   "metadata": {},
   "source": [
    "# 3 Portfolios\n",
    "\n",
    "We illustrate the Efficient Market Frontier from the CAPM. We first find the two portfolios of interest, which are the Minimum Variance Portfolio and the Efficient Tangent Portfolio. These are the portfolios with the lowest possible variance and the portfolio with the highest return relative to its risk respectively. "
   ]
  },
  {
   "cell_type": "markdown",
   "metadata": {},
   "source": [
    "## 3.1 Return and covariance matrix\n",
    "\n",
    "We first create the average return matrix and the covariance matrix for our selected stocks."
   ]
  },
  {
   "cell_type": "code",
   "execution_count": 9,
   "metadata": {},
   "outputs": [
    {
     "name": "stdout",
     "output_type": "stream",
     "text": [
      "Ticker\n",
      "MSFT_returns    2.190104\n",
      "NVO_returns     3.142030\n",
      "TSLA_returns    5.845781\n",
      "dtype: float64\n"
     ]
    }
   ],
   "source": [
    "# Keep returns of Novo, Microsoft and Tesla\n",
    "returns = data.iloc[:,3:]\n",
    "\n",
    "# Calculate the average return over the period\n",
    "return_matrix = np.mean(returns, axis = 0)\n",
    "print(return_matrix)"
   ]
  },
  {
   "cell_type": "code",
   "execution_count": 10,
   "metadata": {},
   "outputs": [
    {
     "name": "stdout",
     "output_type": "stream",
     "text": [
      "Ticker        MSFT_returns  NVO_returns  TSLA_returns\n",
      "Ticker                                               \n",
      "MSFT_returns     42.549123    20.273097     83.367866\n",
      "NVO_returns      20.273097    36.103353     -1.203882\n",
      "TSLA_returns     83.367866    -1.203882    531.660423\n",
      "\n",
      "\n",
      "Ticker\n",
      "MSFT_returns     6.522969\n",
      "NVO_returns      6.008607\n",
      "TSLA_returns    23.057763\n",
      "dtype: float64\n"
     ]
    }
   ],
   "source": [
    "# Calculate covariance matrix\n",
    "cov_matrix = returns.cov()\n",
    "print(cov_matrix)\n",
    "print(\"\\n\")\n",
    "\n",
    "# Prints standard deviations\n",
    "volatility_matrix = np.sqrt(np.var(returns, axis=0, ddof=1))\n",
    "print(volatility_matrix)"
   ]
  },
  {
   "cell_type": "markdown",
   "metadata": {},
   "source": [
    "We create a portfolio function. The function calculates the expected return and volatility of any portfolio for given weights of the three stocks."
   ]
  },
  {
   "cell_type": "code",
   "execution_count": 11,
   "metadata": {},
   "outputs": [],
   "source": [
    "# Define portfolio function, which returns ER and Volatility for any portfolio weights w1, w2, w3\n",
    "def portfolio(w1, w2, return_matrix=return_matrix, cov_matrix=cov_matrix): \n",
    "    '''Calculate expected return and volatility for given portfolio'''\n",
    "\n",
    "    index = return_matrix.index # Get index of return matrix\n",
    "    W = pd.DataFrame([w1,w2, 1-w1-w2], index=index) # Create weight matrix. Set weights to have matching index with returns\n",
    "    tW = W.transpose() # Transposed weight matrix\n",
    "\n",
    "    var = tW.dot(cov_matrix).dot(W) # Formula variance\n",
    "    sd = np.sqrt(var)[0][0] # Calculating volatility (standard deviation)\n",
    "\n",
    "    e_r = tW.dot(return_matrix)[0] # Formula for expected return\n",
    "\n",
    "    return e_r, sd"
   ]
  },
  {
   "cell_type": "code",
   "execution_count": 12,
   "metadata": {},
   "outputs": [
    {
     "name": "stdout",
     "output_type": "stream",
     "text": [
      "Expected return = 5.846, Volatility (standard deviation) = 23.058\n"
     ]
    }
   ],
   "source": [
    "er, sd = portfolio(0, 0)\n",
    "\n",
    "print(f'Expected return = {er:.3f}, Volatility (standard deviation) = {sd:.3f}')"
   ]
  },
  {
   "cell_type": "markdown",
   "metadata": {},
   "source": [
    "## 3.2 Minimum Variance Portfolio\n",
    "\n",
    "Below we find the Minimum Variance Portfolio. To illustrate the result we plot the volatility as a function of the weights."
   ]
  },
  {
   "cell_type": "code",
   "execution_count": 13,
   "metadata": {},
   "outputs": [
    {
     "name": "stdout",
     "output_type": "stream",
     "text": [
      "Minimum variance weights: w1 = 0.453, w2 = 0.561, w3 = -0.015\n",
      "MVP return = 2.671, MVP SD = 5.428\n"
     ]
    }
   ],
   "source": [
    "def mvp_w():\n",
    "    '''Calculates the weights for the minimum variance portfolio'''\n",
    "\n",
    "    # a. define function for volatility to minimize as a function of w1 and w2\n",
    "    def value_of_choice(x):\n",
    "        return portfolio(x[0], x[1])[1] \n",
    "    \n",
    "    # b. define bounds and restrictions\n",
    "    bounds = [(-2, 2), (-2, 2)]\n",
    "\n",
    "    # c. intitial guess and call optimizer\n",
    "    guess = [0, 0]\n",
    "    result = optimize.minimize(value_of_choice, guess, bounds = bounds, method='SLSQP')\n",
    "\n",
    "    w1_min = result.x[0]\n",
    "    w2_min = result.x[1]\n",
    "    min_vol = result.fun\n",
    "\n",
    "    return w1_min, w2_min, min_vol\n",
    "\n",
    "w1_min, w2_min, min_vol = mvp_w()\n",
    "mvp = portfolio(w1_min, w2_min)\n",
    "\n",
    "print(f'Minimum variance weights: w1 = {w1_min:.3f}, w2 = {w2_min:.3f}, w3 = {1-w1_min-w2_min:.3f}')\n",
    "print(f'MVP return = {mvp[0]:.3f}, MVP SD = {mvp[1]:.3f}')\n"
   ]
  },
  {
   "cell_type": "code",
   "execution_count": 14,
   "metadata": {},
   "outputs": [],
   "source": [
    "def plot_volatility(delta=0.5, portfolio=portfolio):\n",
    "    '''Plots volatility as a function of the first weight, white holding w2 semi-fixed'''\n",
    "\n",
    "    # Generate weight values\n",
    "    w_values = np.linspace(-0.344, 1.25, 100)\n",
    "\n",
    "    # Create a figure and axis\n",
    "    fig, ax = plt.subplots()\n",
    "\n",
    "    # Empty volatility values\n",
    "    volatility_values = []\n",
    "    volatility_values2 = []\n",
    "    volatility_values3 = []\n",
    "\n",
    "    # Change in w2\n",
    "    delta = delta\n",
    "\n",
    "    for w in w_values:\n",
    "        # Calculate the function values\n",
    "        volatility_values.append(portfolio(w, w2_min)[1])\n",
    "        volatility_values2.append(portfolio(w, w2_min - delta)[1])\n",
    "        volatility_values3.append(portfolio(w, w2_min + delta)[1])\n",
    "\n",
    "    # Plot functions value and optimum\n",
    "    ax.plot(w_values, volatility_values, label = \"volatility, w2_min\")\n",
    "    ax.scatter(w1_min, min_vol, c = \"red\", label = \"minimum variance portfolio\")\n",
    "\n",
    "    ax.plot(w_values, volatility_values2, label = \"volatility, w2_min - delta\")\n",
    "    ax.plot(w_values, volatility_values3, label = \"volatility, w2_min + delta\")\n",
    "\n",
    "\n",
    "    # Add labels and a legend\n",
    "    ax.set_xlabel('w1')\n",
    "    ax.set_ylabel('Standard deviation')\n",
    "    ax.legend(loc = \"upper right\")\n",
    "\n",
    "    ax.set_xlim(-0.344, 1.25)\n",
    "    ax.set_ylim(5, 8)\n",
    "    plt.show()"
   ]
  },
  {
   "cell_type": "markdown",
   "metadata": {},
   "source": [
    "Below we illustrate that we have indeed found the minimum variance portfolio. We show 3 plots with varying weights as well as the weights and return of the minimum variance portfolio. The portfolio function has two inputs, so to keep the plot 2-dimensional rather than 3-d, we hold w2 semi-fixed. We create 3 plots, one where w2 is set to w2_min and two others where w2 is changed by $\\pm$ delta."
   ]
  },
  {
   "cell_type": "code",
   "execution_count": 15,
   "metadata": {},
   "outputs": [
    {
     "data": {
      "application/vnd.jupyter.widget-view+json": {
       "model_id": "6d61f23d129b4423b54c7837fbc73c4f",
       "version_major": 2,
       "version_minor": 0
      },
      "text/plain": [
       "interactive(children=(FloatSlider(value=0.3, description='delta', max=0.5), Output()), _dom_classes=('widget-i…"
      ]
     },
     "metadata": {},
     "output_type": "display_data"
    },
    {
     "data": {
      "text/plain": [
       "<function __main__.plot_volatility(delta=0.5, portfolio=<function portfolio at 0x0000026B9CEE4D60>)>"
      ]
     },
     "execution_count": 15,
     "metadata": {},
     "output_type": "execute_result"
    }
   ],
   "source": [
    "%matplotlib inline\n",
    "import ipywidgets as widgets\n",
    "\n",
    "# Interactive widget showing volatility where w2 is held semi-fixed, to preserve 1-d plot\n",
    "widgets.interact(\n",
    "    plot_volatility,\n",
    "    portfolio=widgets.fixed(portfolio),\n",
    "delta=widgets.FloatSlider(min=0, max=0.5, step=0.1, value = 0.3),\n",
    ")"
   ]
  },
  {
   "cell_type": "markdown",
   "metadata": {},
   "source": [
    "We see from the plot the minimum that we found coincides with the graphs. This at least shows that w1_min is correct, but we also see as we change w2_min by delta, then the minimum of the graphs increases, which shows that w2_min is also correct, and we indeed have found the minimum variance weights."
   ]
  },
  {
   "cell_type": "markdown",
   "metadata": {},
   "source": [
    "## 3.2 Efficient Tangent Portfolio\n",
    "\n",
    "To calculate the efficient tangent portfolio we draw from the CAPM theory, which says that the ETP has the highest sharpe ratio, that is the highest excess return relative to its volatility. We therefore have a function which can calculate the sharpe ratio, and we will find the ETP weights by maximizing this function. "
   ]
  },
  {
   "cell_type": "code",
   "execution_count": 16,
   "metadata": {},
   "outputs": [],
   "source": [
    "def sharpe_ratio(w1, w2, portfolio=portfolio, rf = 0):\n",
    "    '''Calculate the sharpe ratio for any portfolio'''\n",
    "\n",
    "    rf = rf # Risk free rate\n",
    "    e_r, sd = portfolio(w1, w2) # Expected return and volatility\n",
    "\n",
    "    sharpe = (e_r - rf)/sd # Calculates Sharpe ratio\n",
    "    return sharpe"
   ]
  },
  {
   "cell_type": "markdown",
   "metadata": {},
   "source": [
    "As the risk-free return we calculate the mean of the risk free return from the df dataframe."
   ]
  },
  {
   "cell_type": "code",
   "execution_count": 17,
   "metadata": {},
   "outputs": [],
   "source": [
    "rf_mean = np.mean(df[\"RF\"])"
   ]
  },
  {
   "cell_type": "code",
   "execution_count": 18,
   "metadata": {},
   "outputs": [],
   "source": [
    "def etp_w(rf=0):\n",
    "    '''Calculates weights for efficient tangent portfolio by maximizing sharpe ratio'''\n",
    "\n",
    "    # a. define Sharpe ratio function to maximize as a function of w1 and w2\n",
    "    def value_of_choice(x):\n",
    "        return -sharpe_ratio(x[0], x[1], rf = rf) \n",
    "    \n",
    "    # b. define bounds and restrictions\n",
    "    bounds = [(-2, 2), (-2, 2)]\n",
    "\n",
    "    # c. intitial guess and call optimizer\n",
    "    guess = [0, 0]\n",
    "    result = optimize.minimize(value_of_choice, guess, bounds = bounds, method='SLSQP')\n",
    "\n",
    "    w1_etp = result.x[0]\n",
    "    w2_etp = result.x[1]\n",
    "    etp_sharp = -result.fun\n",
    "\n",
    "    return w1_etp, w2_etp, etp_sharp"
   ]
  },
  {
   "cell_type": "markdown",
   "metadata": {},
   "source": [
    "We found the ETP weights by maximizing the sharpe ratio."
   ]
  },
  {
   "cell_type": "code",
   "execution_count": 19,
   "metadata": {},
   "outputs": [
    {
     "name": "stdout",
     "output_type": "stream",
     "text": [
      "Efficient tangent portfolio weights: w1 = -0.402, w2 = 1.208 and w3 = 0.194\n",
      "ETP return = 4.051, ETP SD = 6.808\n",
      "0.5556330519430345\n"
     ]
    }
   ],
   "source": [
    "w1_etp, w2_etp, etp_sharp = etp_w(rf=rf_mean)\n",
    "etp = portfolio(w1_etp, w2_etp)\n",
    "\n",
    "print(f'Efficient tangent portfolio weights: w1 = {w1_etp:.3f}, w2 = {w2_etp:.3f} and w3 = {1-w1_etp-w2_etp:.3f}')\n",
    "print(f'ETP return = {etp[0]:.3f}, ETP SD = {etp[1]:.3f}')\n",
    "print(etp_sharp)"
   ]
  },
  {
   "cell_type": "markdown",
   "metadata": {},
   "source": [
    "Below we plot the sharpe ratio as a function the weight on stock 1, w1, and again to keep the plot 2-dimensional we hold w2 semi-fixed around w2_etp. "
   ]
  },
  {
   "cell_type": "code",
   "execution_count": 20,
   "metadata": {},
   "outputs": [],
   "source": [
    "def plot_sharp(rf, delta=0.5):\n",
    "    '''Plots Sharpe ratios and the efficient tangent portfolio'''\n",
    "\n",
    "    # Generate the values for w1\n",
    "    w1_values = np.linspace(-1.25, 0.5, 100)\n",
    "\n",
    "    # Create a figure and axis\n",
    "    fig, ax = plt.subplots()\n",
    "\n",
    "    # Plot the values of the function for each w2 value\n",
    "    function_values = []\n",
    "    function_values2 = []\n",
    "    function_values3 = []\n",
    "\n",
    "    # Change in w2\n",
    "    delta = delta\n",
    "\n",
    "    # Loop through weights and save function values\n",
    "    for w1 in w1_values:\n",
    "        function_values.append(sharpe_ratio(w1, w2_etp, rf = rf))\n",
    "        function_values2.append(sharpe_ratio(w1, w2_etp - delta, rf = rf)) \n",
    "        function_values3.append(sharpe_ratio(w1, w2_etp + delta, rf = rf))  \n",
    "\n",
    "    ax.plot(w1_values, function_values, label = \"sharpe ratio, w2_etp\")\n",
    "    ax.plot(w1_values, function_values2, label = \"sharpe ratio, w2_etp - delta\")\n",
    "    ax.plot(w1_values, function_values3, label = \"sharpe ratio, w2_etp + delta\")\n",
    "    ax.scatter(w1_etp, etp_sharp, c = \"red\", label = \"efficient tangent portfolio\")\n",
    "\n",
    "    # Add labels and a legend\n",
    "    ax.set_xlabel('w1')\n",
    "    ax.set_ylabel('Sharpe ratio')\n",
    "    ax.legend(loc = \"lower right\")\n",
    "\n",
    "    ax.set_xlim(-1.25, 0.5)\n",
    "    ax.set_ylim(0.3, .62)\n",
    "    plt.show()"
   ]
  },
  {
   "cell_type": "code",
   "execution_count": 21,
   "metadata": {},
   "outputs": [
    {
     "data": {
      "application/vnd.jupyter.widget-view+json": {
       "model_id": "e3dfeee6013041f5bf1d617525c9ce5e",
       "version_major": 2,
       "version_minor": 0
      },
      "text/plain": [
       "interactive(children=(FloatSlider(value=0.4, description='delta', max=0.6, step=0.2), Output()), _dom_classes=…"
      ]
     },
     "metadata": {},
     "output_type": "display_data"
    },
    {
     "data": {
      "text/plain": [
       "<function __main__.plot_sharp(rf, delta=0.5)>"
      ]
     },
     "execution_count": 21,
     "metadata": {},
     "output_type": "execute_result"
    }
   ],
   "source": [
    "%matplotlib inline\n",
    "\n",
    "widgets.interact(\n",
    "    plot_sharp,\n",
    "    portfolio=widgets.fixed(portfolio),\n",
    "    rf=widgets.fixed(rf_mean),\n",
    "delta=widgets.FloatSlider(min=0, max=0.6, step=0.2, value = 0.4),\n",
    ")"
   ]
  },
  {
   "cell_type": "markdown",
   "metadata": {},
   "source": [
    "The plot shows that we have found the correct maximum as the point is at the peak of the sharpe ratio function, and the peaks are lower for the other functions where w2_etp is changed by delta."
   ]
  },
  {
   "cell_type": "markdown",
   "metadata": {},
   "source": [
    "## 3.3 Efficient market frontier\n",
    "\n",
    "The mutual fund theorem of the CAPM says that any linear combination of any two portfolios which are efficient will also be efficient. Therefore we can create the efficient market frontier by taking linear combinations of the minimum variance portfolio and efficient tangent portfolio which we know are efficient. We will then plot all the different portfolio."
   ]
  },
  {
   "cell_type": "code",
   "execution_count": 22,
   "metadata": {},
   "outputs": [],
   "source": [
    "# Weights for the MVP and ETP\n",
    "mvp_weights = pd.DataFrame([w1_min, w2_min, 1 - w1_min - w2_min])\n",
    "etp_weights = pd.DataFrame([w1_etp, w2_etp, 1 - w1_etp - w2_etp])\n",
    "\n",
    "# Creating y_vec and lin_vec to store linear combinations\n",
    "y_vec = np.linspace(-3, 3, 100)\n",
    "lin_vec = []\n",
    "\n",
    "for y in y_vec:\n",
    "    linear = y*mvp_weights + (1-y)*etp_weights\n",
    "    lin_vec.append(linear[0][0:2])"
   ]
  },
  {
   "cell_type": "code",
   "execution_count": 52,
   "metadata": {},
   "outputs": [],
   "source": [
    "def plot_capm(mvp, etp, lin_vec, portfolio=portfolio):\n",
    "    '''Plots the efficient frontier and the capital market line'''\n",
    "    fig, ax = plt.subplots()\n",
    "\n",
    "    # Empty vector to store frontier\n",
    "    frontier = []\n",
    "\n",
    "    for l in lin_vec:\n",
    "        # Calculate the function values\n",
    "        frontier.append(portfolio(l[0], l[1])) \n",
    "        \n",
    "    return_values, vol_values = zip(*frontier)\n",
    "\n",
    "    rf = rf_mean\n",
    "    point_rf = [0, rf]\n",
    "    point_etp = [etp[1], etp[0]]\n",
    "\n",
    "    # Compute the equation of the line passing through the two points\n",
    "    # y = mx + c, where m is the slope and c is the y-intercept\n",
    "    slope = (point_etp[1] - point_rf[1]) / (point_etp[0] - point_rf[0])\n",
    "    y_intercept = point_rf[1] - slope * point_rf[0]\n",
    "\n",
    "    # Generate x values for the line\n",
    "    x_values = np.linspace(0, 10, 100)\n",
    "    # Compute corresponding y values\n",
    "    y_values = slope * x_values + y_intercept\n",
    "\n",
    "    # Plot the capital market line i.e. tangent line\n",
    "    plt.plot(x_values, y_values, label='Capital market line', linewidth = 0.5, color = \"black\")\n",
    "\n",
    "    # Plot Efficient frontier and different portfolios and stocks\n",
    "    ax.plot(vol_values, return_values, label = \"efficient frontier\", linewidth = 0.5, color = \"blue\")\n",
    "    ax.scatter(mvp[1], mvp[0], c = \"green\", label = \"minimum variance portfolio\")\n",
    "    ax.scatter(etp[1], etp[0], c = \"red\", label = \"efficient tangent portfolio\")\n",
    "    ax.scatter(0, rf, c = \"orange\", label = \"RF\")\n",
    "\n",
    "    # Plot stocks\n",
    "    volatility_values = volatility_matrix.values\n",
    "    return_values = return_matrix.values\n",
    "    \n",
    "    ax.scatter(volatility_values, return_values, c = [\"purple\", \"blue\", \"black\"])\n",
    "\n",
    "    for i, txt in enumerate(data.columns[0:3]):\n",
    "        ax.annotate(txt, (volatility_values[i], return_values[i]), xytext=(5, 5), textcoords='offset points')\n",
    "\n",
    "    ax.annotate(\"MVP\", (mvp[1], mvp[0]), xytext=(-38, -3), textcoords='offset points', arrowprops=dict(arrowstyle='->'))\n",
    "    ax.annotate(\"ETP\", (etp[1], etp[0]), xytext=(-38, -3), textcoords='offset points', arrowprops=dict(arrowstyle='->'))\n",
    "\n",
    "\n",
    "    # Add labels and a legend\n",
    "    ax.set_xlabel('volatility')\n",
    "    ax.set_ylabel('return')\n",
    "    ax.legend()\n",
    "\n",
    "    ax.set_xlim(0, 10)\n",
    "    ax.set_ylim(0, 6)\n",
    "    plt.show()"
   ]
  },
  {
   "cell_type": "code",
   "execution_count": 53,
   "metadata": {},
   "outputs": [
    {
     "data": {
      "image/png": "[encoded data removed]",
      "text/plain": [
       "<Figure size 640x480 with 1 Axes>"
      ]
     },
     "metadata": {},
     "output_type": "display_data"
    }
   ],
   "source": [
    "plot_capm(mvp, etp, lin_vec)"
   ]
  },
  {
   "cell_type": "markdown",
   "metadata": {},
   "source": [
    "Here we have plotted the efficient market frontier with the 3 stocks, the MVP and the ETP. We see as expected, that the minimum variance portfolio is the portfolio which the lowest volatility and that the ETP is exactly tangential with the efficient frontier and the risk-free return. "
   ]
  }
 ],
 "metadata": {
  "kernelspec": {
   "display_name": "base",
   "language": "python",
   "name": "python3"
  },
  "language_info": {
   "codemirror_mode": {
    "name": "ipython",
    "version": 3
   },
   "file_extension": ".py",
   "mimetype": "text/x-python",
   "name": "python",
   "nbconvert_exporter": "python",
   "pygments_lexer": "ipython3",
   "version": "3.11.7"
  },
  "toc-autonumbering": true,
  "vscode": {
   "interpreter": {
    "hash": "47ef90cdf3004d3f859f1fb202523c65c07ba7c22eefd261b181f4744e2d0403"
   }
  }
 },
 "nbformat": 4,
 "nbformat_minor": 4
}
