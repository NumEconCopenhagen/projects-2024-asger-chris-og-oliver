{
 "cells": [
  {
   "cell_type": "code",
   "execution_count": 14,
   "metadata": {},
   "outputs": [
    {
     "data": {
      "text/html": [
       "<div>\n",
       "<style scoped>\n",
       "    .dataframe tbody tr th:only-of-type {\n",
       "        vertical-align: middle;\n",
       "    }\n",
       "\n",
       "    .dataframe tbody tr th {\n",
       "        vertical-align: top;\n",
       "    }\n",
       "\n",
       "    .dataframe thead th {\n",
       "        text-align: right;\n",
       "    }\n",
       "</style>\n",
       "<table border=\"1\" class=\"dataframe\">\n",
       "  <thead>\n",
       "    <tr style=\"text-align: right;\">\n",
       "      <th></th>\n",
       "      <th>Open</th>\n",
       "      <th>High</th>\n",
       "      <th>Low</th>\n",
       "      <th>Close</th>\n",
       "      <th>Volume</th>\n",
       "      <th>Dividends</th>\n",
       "      <th>Stock Splits</th>\n",
       "    </tr>\n",
       "    <tr>\n",
       "      <th>Date</th>\n",
       "      <th></th>\n",
       "      <th></th>\n",
       "      <th></th>\n",
       "      <th></th>\n",
       "      <th></th>\n",
       "      <th></th>\n",
       "      <th></th>\n",
       "    </tr>\n",
       "  </thead>\n",
       "  <tbody>\n",
       "    <tr>\n",
       "      <th>2021-04-12 00:00:00-04:00</th>\n",
       "      <td>33.371405</td>\n",
       "      <td>33.486663</td>\n",
       "      <td>33.275360</td>\n",
       "      <td>33.356998</td>\n",
       "      <td>1147400</td>\n",
       "      <td>0.0</td>\n",
       "      <td>0.0</td>\n",
       "    </tr>\n",
       "    <tr>\n",
       "      <th>2021-04-13 00:00:00-04:00</th>\n",
       "      <td>33.866045</td>\n",
       "      <td>34.048536</td>\n",
       "      <td>33.760397</td>\n",
       "      <td>33.986103</td>\n",
       "      <td>1627200</td>\n",
       "      <td>0.0</td>\n",
       "      <td>0.0</td>\n",
       "    </tr>\n",
       "    <tr>\n",
       "      <th>2021-04-14 00:00:00-04:00</th>\n",
       "      <td>34.202207</td>\n",
       "      <td>34.221416</td>\n",
       "      <td>33.731576</td>\n",
       "      <td>33.880451</td>\n",
       "      <td>1913000</td>\n",
       "      <td>0.0</td>\n",
       "      <td>0.0</td>\n",
       "    </tr>\n",
       "    <tr>\n",
       "      <th>2021-04-15 00:00:00-04:00</th>\n",
       "      <td>34.182995</td>\n",
       "      <td>34.523960</td>\n",
       "      <td>34.182995</td>\n",
       "      <td>34.341473</td>\n",
       "      <td>1944200</td>\n",
       "      <td>0.0</td>\n",
       "      <td>0.0</td>\n",
       "    </tr>\n",
       "    <tr>\n",
       "      <th>2021-04-16 00:00:00-04:00</th>\n",
       "      <td>34.668031</td>\n",
       "      <td>34.773683</td>\n",
       "      <td>34.533566</td>\n",
       "      <td>34.658424</td>\n",
       "      <td>2641200</td>\n",
       "      <td>0.0</td>\n",
       "      <td>0.0</td>\n",
       "    </tr>\n",
       "    <tr>\n",
       "      <th>...</th>\n",
       "      <td>...</td>\n",
       "      <td>...</td>\n",
       "      <td>...</td>\n",
       "      <td>...</td>\n",
       "      <td>...</td>\n",
       "      <td>...</td>\n",
       "      <td>...</td>\n",
       "    </tr>\n",
       "    <tr>\n",
       "      <th>2024-04-03 00:00:00-04:00</th>\n",
       "      <td>125.379997</td>\n",
       "      <td>128.130005</td>\n",
       "      <td>125.379997</td>\n",
       "      <td>126.989998</td>\n",
       "      <td>3616400</td>\n",
       "      <td>0.0</td>\n",
       "      <td>0.0</td>\n",
       "    </tr>\n",
       "    <tr>\n",
       "      <th>2024-04-04 00:00:00-04:00</th>\n",
       "      <td>126.900002</td>\n",
       "      <td>127.480003</td>\n",
       "      <td>123.769997</td>\n",
       "      <td>123.959999</td>\n",
       "      <td>4006800</td>\n",
       "      <td>0.0</td>\n",
       "      <td>0.0</td>\n",
       "    </tr>\n",
       "    <tr>\n",
       "      <th>2024-04-05 00:00:00-04:00</th>\n",
       "      <td>124.669998</td>\n",
       "      <td>126.169998</td>\n",
       "      <td>124.599998</td>\n",
       "      <td>125.860001</td>\n",
       "      <td>4995400</td>\n",
       "      <td>0.0</td>\n",
       "      <td>0.0</td>\n",
       "    </tr>\n",
       "    <tr>\n",
       "      <th>2024-04-08 00:00:00-04:00</th>\n",
       "      <td>127.000000</td>\n",
       "      <td>127.629997</td>\n",
       "      <td>125.989998</td>\n",
       "      <td>127.459999</td>\n",
       "      <td>3017100</td>\n",
       "      <td>0.0</td>\n",
       "      <td>0.0</td>\n",
       "    </tr>\n",
       "    <tr>\n",
       "      <th>2024-04-09 00:00:00-04:00</th>\n",
       "      <td>126.180000</td>\n",
       "      <td>126.739998</td>\n",
       "      <td>124.220001</td>\n",
       "      <td>124.860001</td>\n",
       "      <td>3214300</td>\n",
       "      <td>0.0</td>\n",
       "      <td>0.0</td>\n",
       "    </tr>\n",
       "  </tbody>\n",
       "</table>\n",
       "<p>754 rows × 7 columns</p>\n",
       "</div>"
      ],
      "text/plain": [
       "                                 Open        High         Low       Close  \\\n",
       "Date                                                                        \n",
       "2021-04-12 00:00:00-04:00   33.371405   33.486663   33.275360   33.356998   \n",
       "2021-04-13 00:00:00-04:00   33.866045   34.048536   33.760397   33.986103   \n",
       "2021-04-14 00:00:00-04:00   34.202207   34.221416   33.731576   33.880451   \n",
       "2021-04-15 00:00:00-04:00   34.182995   34.523960   34.182995   34.341473   \n",
       "2021-04-16 00:00:00-04:00   34.668031   34.773683   34.533566   34.658424   \n",
       "...                               ...         ...         ...         ...   \n",
       "2024-04-03 00:00:00-04:00  125.379997  128.130005  125.379997  126.989998   \n",
       "2024-04-04 00:00:00-04:00  126.900002  127.480003  123.769997  123.959999   \n",
       "2024-04-05 00:00:00-04:00  124.669998  126.169998  124.599998  125.860001   \n",
       "2024-04-08 00:00:00-04:00  127.000000  127.629997  125.989998  127.459999   \n",
       "2024-04-09 00:00:00-04:00  126.180000  126.739998  124.220001  124.860001   \n",
       "\n",
       "                            Volume  Dividends  Stock Splits  \n",
       "Date                                                         \n",
       "2021-04-12 00:00:00-04:00  1147400        0.0           0.0  \n",
       "2021-04-13 00:00:00-04:00  1627200        0.0           0.0  \n",
       "2021-04-14 00:00:00-04:00  1913000        0.0           0.0  \n",
       "2021-04-15 00:00:00-04:00  1944200        0.0           0.0  \n",
       "2021-04-16 00:00:00-04:00  2641200        0.0           0.0  \n",
       "...                            ...        ...           ...  \n",
       "2024-04-03 00:00:00-04:00  3616400        0.0           0.0  \n",
       "2024-04-04 00:00:00-04:00  4006800        0.0           0.0  \n",
       "2024-04-05 00:00:00-04:00  4995400        0.0           0.0  \n",
       "2024-04-08 00:00:00-04:00  3017100        0.0           0.0  \n",
       "2024-04-09 00:00:00-04:00  3214300        0.0           0.0  \n",
       "\n",
       "[754 rows x 7 columns]"
      ]
     },
     "execution_count": 14,
     "metadata": {},
     "output_type": "execute_result"
    }
   ],
   "source": [
    "import yfinance as yf\n",
    "import pandas as pd\n",
    "import numpy as np\n",
    "\n",
    "novo = yf.Ticker(\"NVO\")\n",
    "\n",
    "novo.history(period = \"3y\")"
   ]
  },
  {
   "cell_type": "code",
   "execution_count": 18,
   "metadata": {},
   "outputs": [
    {
     "name": "stdout",
     "output_type": "stream",
     "text": [
      "[*********************100%***********************]  3 of 3 completed\n",
      "Microsoft - Variance: 2.9779675682024034  Standard Deviation: 1.7256788716914868\n",
      "Novo - Variance: 3.539586886118516  Standard Deviation: 1.8813789852442053\n",
      "S&P 500 - Variance: 1.188950547110858  Standard Deviation: 1.0903900894225231\n"
     ]
    }
   ],
   "source": [
    "data = yf.download([\"^GSPC\", \"NVO\", \"MSFT\"], start=\"2021-04-08\", end=\"2024-04-08\", interval=\"1d\")\n",
    "\n",
    "# Selecting only the \"Adj Close\" prices for all symbols\n",
    "data = data[\"Adj Close\"]\n",
    "\n",
    "# Calculate percentage change for the S&P 500 index\n",
    "data['Sp500_returns'] = data['^GSPC'].pct_change() * 100\n",
    "\n",
    "data[\"msft_returns\"] = data[\"MSFT\"].pct_change() * 100\n",
    "data[\"nvo_returns\"] = data[\"NVO\"].pct_change() * 100\n",
    "\n",
    "# Drop NaN values\n",
    "\n",
    "data = data.dropna()\n",
    "\n",
    "\n",
    "varianceMicrosoft = data[\"msft_returns\"].var()\n",
    "sdMicrosoft = np.sqrt(varianceMicrosoft)\n",
    "\n",
    "varianceNovo = data[\"nvo_returns\"].var()\n",
    "sdNovo = np.sqrt(varianceNovo)\n",
    "\n",
    "varianceSP500 = data[\"Sp500_returns\"].var()\n",
    "sdSp500 = np.sqrt(varianceSP500)\n",
    "\n",
    "# Display results\n",
    "print(\"Microsoft - Variance:\", varianceMicrosoft, \" Standard Deviation:\", sdMicrosoft)\n",
    "print(\"Novo - Variance:\", varianceNovo, \" Standard Deviation:\", sdNovo)\n",
    "print(\"S&P 500 - Variance:\", varianceSP500, \" Standard Deviation:\", sdSp500)"
   ]
  },
  {
   "cell_type": "code",
   "execution_count": 25,
   "metadata": {},
   "outputs": [
    {
     "name": "stdout",
     "output_type": "stream",
     "text": [
      "Beta for Microsoft (MSFT): 1.2537342903241118\n",
      "Beta for Novo Nordisk (NVO): 0.5336573638021458\n"
     ]
    }
   ],
   "source": [
    "covariance_msft_sp500 = data['msft_returns'].cov(data['Sp500_returns'])\n",
    "beta_msft = covariance_msft_sp500 / varianceSP500\n",
    "\n",
    "covariance_nvo_sp500 = data['nvo_returns'].cov(data['Sp500_returns'])\n",
    "beta_nvo = covariance_nvo_sp500 / varianceSP500\n",
    "\n",
    "print(\"Beta for Microsoft (MSFT):\", beta_msft)\n",
    "print(\"Beta for Novo Nordisk (NVO):\", beta_nvo)"
   ]
  },
  {
   "cell_type": "code",
   "execution_count": 24,
   "metadata": {},
   "outputs": [
    {
     "name": "stdout",
     "output_type": "stream",
     "text": [
      "Beta for Microsoft (MSFT) using OLS regression: 1.2537342903241122\n",
      "Beta for Novo Nordisk (NVO) using OLS regression: 0.5336573638021459\n"
     ]
    }
   ],
   "source": [
    "import statsmodels.api as sm\n",
    "\n",
    "\n",
    "X = sm.add_constant(data['Sp500_returns'])\n",
    "\n",
    "\n",
    "y_msft = data['msft_returns']\n",
    "y_nvo = data['nvo_returns']\n",
    "\n",
    "model_msft = sm.OLS(y_msft, X, missing='drop')\n",
    "results_msft = model_msft.fit()\n",
    "beta_msft_ols = results_msft.params[1]\n",
    "\n",
    "\n",
    "model_nvo = sm.OLS(y_nvo, X, missing='drop')\n",
    "results_nvo = model_nvo.fit()\n",
    "beta_nvo_ols = results_nvo.params[1]\n",
    "\n",
    "print(\"Beta for Microsoft (MSFT) using OLS regression:\", beta_msft_ols)\n",
    "print(\"Beta for Novo Nordisk (NVO) using OLS regression:\", beta_nvo_ols)"
   ]
  },
  {
   "cell_type": "markdown",
   "metadata": {},
   "source": [
    "# HERFRA OLIVER\n"
   ]
  },
  {
   "cell_type": "code",
   "execution_count": 1,
   "metadata": {},
   "outputs": [],
   "source": [
    "import yfinance as yf\n",
    "import pandas as pd\n",
    "import numpy as np\n",
    "import matplotlib.pyplot as plt\n",
    "\n",
    "%load_ext autoreload\n",
    "%autoreload 2\n",
    "\n",
    "from dataproject import *"
   ]
  },
  {
   "cell_type": "code",
   "execution_count": 2,
   "metadata": {},
   "outputs": [
    {
     "name": "stdout",
     "output_type": "stream",
     "text": [
      "[*********************100%***********************]  4 of 4 completed\n"
     ]
    }
   ],
   "source": [
    "# Importing monthly data from Yahoo Finance\n",
    "data = yf.download([\"^GSPC\", \"NVO\", \"MSFT\",\"TSLA\"], start = \"2020-01-01\", end = \"2024-04-08\", interval = \"1mo\")\n",
    "data = data[\"Adj Close\"] # Only look at the adjusted close\n",
    "\n",
    "# Calculate monthly returns\n",
    "data['sp500_returns'] = data['^GSPC'].pct_change() * 100 \n",
    "data[\"msft_returns\"] = data[\"MSFT\"].pct_change() * 100\n",
    "data[\"TSLA_returns\"] = data[\"TSLA\"].pct_change() * 100\n",
    "data[\"nvo_returns\"] = data[\"NVO\"].pct_change() * 100\n",
    "data = data.dropna() # First observation which is NA\n",
    "\n",
    "# print(data.tail())"
   ]
  },
  {
   "cell_type": "code",
   "execution_count": 3,
   "metadata": {},
   "outputs": [
    {
     "name": "stdout",
     "output_type": "stream",
     "text": [
      "msft_returns    2.105357\n",
      "TSLA_returns    4.911452\n",
      "nvo_returns     3.117391\n",
      "dtype: float64\n"
     ]
    }
   ],
   "source": [
    "# Keep returns of Microsoft and Novo\n",
    "#print(data.iloc[:,[7,5,6]])\n",
    "returns = data.iloc[:, [5,6,7]]\n",
    "\n",
    "# Calculate the average return over the period\n",
    "return_matrix = np.mean(returns, axis = 0)\n",
    "print(return_matrix)"
   ]
  },
  {
   "cell_type": "code",
   "execution_count": 4,
   "metadata": {},
   "outputs": [
    {
     "name": "stdout",
     "output_type": "stream",
     "text": [
      "              msft_returns  TSLA_returns  nvo_returns\n",
      "msft_returns     42.661935     78.973008    20.287921\n",
      "TSLA_returns     78.973008    491.452159    -3.505344\n",
      "nvo_returns      20.287921     -3.505344    36.605325\n",
      "\n",
      "\n",
      "              msft_returns  TSLA_returns  nvo_returns\n",
      "msft_returns      6.531610      8.886676     4.504211\n",
      "TSLA_returns      8.886676     22.168720          NaN\n",
      "nvo_returns       4.504211           NaN     6.050233\n"
     ]
    },
    {
     "name": "stderr",
     "output_type": "stream",
     "text": [
      "c:\\Users\\Asger Nielsen\\AppData\\Local\\Programs\\Python\\Python310\\lib\\site-packages\\pandas\\core\\internals\\blocks.py:402: RuntimeWarning: invalid value encountered in sqrt\n",
      "  result = func(self.values, **kwargs)\n"
     ]
    }
   ],
   "source": [
    "# Calculate covariance matrix\n",
    "cov_matrix = returns.cov()\n",
    "print(cov_matrix)\n",
    "print(\"\\n\")\n",
    "\n",
    "# Prints volatility\n",
    "print(np.sqrt(cov_matrix))"
   ]
  },
  {
   "cell_type": "code",
   "execution_count": 5,
   "metadata": {},
   "outputs": [],
   "source": [
    "def portfolio(w, return_matrix=return_matrix, cov_matrix=cov_matrix):\n",
    "    '''Calculate expected returns and volatility (standard deviation) for given portfolio weights'''\n",
    "    W = pd.DataFrame([w, 1-w,2-w], index=[return_matrix.index[0], return_matrix.index[1],return_matrix.index[2]]) # Creates weights, gives same index at return matrix\n",
    "    tW = W.transpose() # Transposes weights\n",
    "    var = tW.dot(cov_matrix).dot(W) # Formula for variance of portfolio\n",
    "    sd = np.sqrt(var)[0][0] # take the square root\n",
    "    e_r = tW.dot(return_matrix)[0] # Calculate the expected return\n",
    "    return e_r, sd"
   ]
  },
  {
   "cell_type": "code",
   "execution_count": 6,
   "metadata": {},
   "outputs": [
    {
     "name": "stdout",
     "output_type": "stream",
     "text": [
      "Minimum variance weights: w1 = 1.182, w2 = -0.182\n",
      "\n",
      "MVP return = 4.146, MVP volatility = 10.328\n"
     ]
    }
   ],
   "source": [
    "w_min = mvp_w(100, portfolio)\n",
    "print(f'Minimum variance weights: w1 = {w_min:.3f}, w2 = {1 - w_min:.3f}\\n')\n",
    "\n",
    "mvp = portfolio(w_min)\n",
    "print(f'MVP return = {mvp[0]:.3f}, MVP volatility = {mvp[1]:.3f}')"
   ]
  },
  {
   "cell_type": "code",
   "execution_count": 7,
   "metadata": {},
   "outputs": [
    {
     "data": {
      "image/png": "[encoded data removed]",
      "text/plain": [
       "<Figure size 432x288 with 1 Axes>"
      ]
     },
     "metadata": {
      "needs_background": "light"
     },
     "output_type": "display_data"
    }
   ],
   "source": [
    "plot_variance(portfolio)"
   ]
  },
  {
   "cell_type": "code",
   "execution_count": 8,
   "metadata": {},
   "outputs": [
    {
     "name": "stdout",
     "output_type": "stream",
     "text": [
      "Efficient tangent portfolio weights: w1 = 0.758, w2 = 0.242\n",
      "\n",
      "ETP return = 6.659, ETP volatility = 13.227\n"
     ]
    }
   ],
   "source": [
    "w_etp = etp_w(100, portfolio)\n",
    "print(f'Efficient tangent portfolio weights: w1 = {w_etp:.3f}, w2 = {1 - w_etp:.3f}\\n')\n",
    "\n",
    "etp = portfolio(w_etp)\n",
    "print(f'ETP return = {etp[0]:.3f}, ETP volatility = {etp[1]:.3f}')"
   ]
  },
  {
   "cell_type": "code",
   "execution_count": 9,
   "metadata": {},
   "outputs": [
    {
     "data": {
      "image/png": "[encoded data removed]",
      "text/plain": [
       "<Figure size 432x288 with 1 Axes>"
      ]
     },
     "metadata": {
      "needs_background": "light"
     },
     "output_type": "display_data"
    }
   ],
   "source": [
    "plot_sharp(portfolio)"
   ]
  },
  {
   "cell_type": "code",
   "execution_count": 10,
   "metadata": {},
   "outputs": [],
   "source": [
    "# Weights for the MVP and ETP\n",
    "mvp_weights = pd.DataFrame([w_min, 1 - w_min])\n",
    "etp_weights = pd.DataFrame([w_etp, 1 - w_etp])\n",
    "\n",
    "# Creating y_vec and lin_vec to store linear combinations\n",
    "y_vec = np.linspace(-3, 3, 100)\n",
    "lin_vec = []\n",
    "\n",
    "for y in y_vec:\n",
    "    linear = y*mvp_weights + (1-y)*etp_weights\n",
    "    lin_vec.append(linear[0][0])"
   ]
  },
  {
   "cell_type": "code",
   "execution_count": 11,
   "metadata": {},
   "outputs": [
    {
     "data": {
      "image/png": "[encoded data removed]",
      "text/plain": [
       "<Figure size 432x288 with 1 Axes>"
      ]
     },
     "metadata": {
      "needs_background": "light"
     },
     "output_type": "display_data"
    }
   ],
   "source": [
    "plot_capm(mvp, etp, lin_vec, portfolio)"
   ]
  },
  {
   "cell_type": "code",
   "execution_count": 12,
   "metadata": {},
   "outputs": [
    {
     "name": "stderr",
     "output_type": "stream",
     "text": [
      "C:\\Users\\Asger Nielsen\\AppData\\Local\\Temp\\ipykernel_20200\\2366787023.py:9: SettingWithCopyWarning: \n",
      "A value is trying to be set on a copy of a slice from a DataFrame.\n",
      "Try using .loc[row_indexer,col_indexer] = value instead\n",
      "\n",
      "See the caveats in the documentation: https://pandas.pydata.org/pandas-docs/stable/user_guide/indexing.html#returning-a-view-versus-a-copy\n",
      "  newdata['Mkt-RF'] = newdf['Mkt-RF']\n",
      "C:\\Users\\Asger Nielsen\\AppData\\Local\\Temp\\ipykernel_20200\\2366787023.py:10: SettingWithCopyWarning: \n",
      "A value is trying to be set on a copy of a slice from a DataFrame.\n",
      "Try using .loc[row_indexer,col_indexer] = value instead\n",
      "\n",
      "See the caveats in the documentation: https://pandas.pydata.org/pandas-docs/stable/user_guide/indexing.html#returning-a-view-versus-a-copy\n",
      "  newdata['RF'] = newdf['RF']\n"
     ]
    }
   ],
   "source": [
    "import numpy as np\n",
    "df = pd.read_excel('Fama-French.xlsx') # Datasæt med returns for markedsporteføljen og risk free bonds\n",
    "df.columns = ['Date'] + list(df.columns[1:])\n",
    "df.set_index(\"Date\", inplace=True)\n",
    "\n",
    "newdf = df[len(df)-len(data)+2:]\n",
    "newdata = data[:-2]\n",
    "newdf.index = pd.to_datetime(newdf.index, format='%Y%m')\n",
    "newdata['Mkt-RF'] = newdf['Mkt-RF']\n",
    "newdata['RF'] = newdf['RF']\n"
   ]
  },
  {
   "cell_type": "code",
   "execution_count": null,
   "metadata": {},
   "outputs": [],
   "source": [
    "novoMriskfree = []\n",
    "microMriskfree = []\n",
    "teslaMriskfree = []\n",
    "#print(newdata['nvo_returns'])\n",
    "\n",
    "for index, row in newdata.iterrows():\n",
    "        nvo_return = row['nvo_returns']\n",
    "        microsoft_return = row['msft_returns']\n",
    "        tesla_return = row['TSLA_returns']\n",
    "        risk_free = row['RF']\n",
    "        novoMriskfree.append(nvo_return - risk_free)\n",
    "        microMriskfree.append(microsoft_return-risk_free)\n",
    "        teslaMriskfree.append(tesla_return)\n",
    "\n",
    "cov_matrix_novo = np.cov(novoMriskfree, newdata['sp500_returns'])\n",
    "B_i_novo = cov_matrix_novo[0, 1] / cov_matrix_novo[1, 1]\n",
    "print(\"Beta for Novo:\", B_i_novo)\n",
    "\n",
    "cov_matrix_microsoft = np.cov(microMriskfree, newdata['sp500_returns'])\n",
    "B_i_microsoft = cov_matrix_microsoft[0, 1] / cov_matrix_microsoft[1, 1]\n",
    "print(\"Beta for Microsoft:\", B_i_microsoft)\n",
    "\n",
    "cov_matrix_tesla = np.cov(teslaMriskfree, newdata['sp500_returns'])\n",
    "B_i_tesla = cov_matrix_tesla[0, 1] / cov_matrix_tesla[1, 1]\n",
    "print(\"Beta for tesla:\", B_i_tesla)"
   ]
  }
 ],
 "metadata": {
  "kernelspec": {
   "display_name": "Python 3",
   "language": "python",
   "name": "python3"
  },
  "language_info": {
   "codemirror_mode": {
    "name": "ipython",
    "version": 3
   },
   "file_extension": ".py",
   "mimetype": "text/x-python",
   "name": "python",
   "nbconvert_exporter": "python",
   "pygments_lexer": "ipython3",
   "version": "3.10.2"
  }
 },
 "nbformat": 4,
 "nbformat_minor": 2
}
