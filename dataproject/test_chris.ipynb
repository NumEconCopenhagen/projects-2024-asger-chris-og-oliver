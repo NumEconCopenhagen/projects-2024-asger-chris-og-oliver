{
 "cells": [
  {
   "attachments": {
    "image.png": {
     "image/png": "[encoded data removed]"
    }
   },
   "cell_type": "markdown",
   "metadata": {},
   "source": [
    "Data project:\n",
    "\n",
    "CAPM - financial data\n",
    "\n",
    "Choose 2 stocks and market (SP-500)\n",
    "1. Data\n",
    "- Import stock data from csv/api\n",
    "- Merge stock data together\n",
    "- Calculate expected return matrix\n",
    "- Calculate covariance matrix\n",
    "\n",
    "2. CAPM Regression\n",
    "- Calculate stock regression.\n",
    "\n",
    "![image.png](attachment:image.png)\n",
    "\n",
    "- What is the market exposure/risk premium (Betas)\n",
    "- Does CAPM hold? (Is alpha = 0)\n",
    "\n",
    "3. CAPM: Portfolio\n",
    "- Find Minimum variance portfolio and Efficient tangent portfolio (Highest sharpe ratio).\n",
    "- Plot portfolios in volatility-return diagram.\n",
    "\n"
   ]
  },
  {
   "cell_type": "code",
   "execution_count": 2,
   "metadata": {},
   "outputs": [],
   "source": [
    "import yfinance as yf\n",
    "import pandas as pd\n",
    "import numpy as np\n"
   ]
  },
  {
   "cell_type": "markdown",
   "metadata": {},
   "source": [
    "## 1.1) Importing data"
   ]
  },
  {
   "cell_type": "code",
   "execution_count": 3,
   "metadata": {},
   "outputs": [
    {
     "name": "stderr",
     "output_type": "stream",
     "text": [
      "[*********************100%%**********************]  3 of 3 completed"
     ]
    },
    {
     "name": "stdout",
     "output_type": "stream",
     "text": [
      "Ticker            MSFT         NVO        ^GSPC  sp500_returns  msft_returns  \\\n",
      "Date                                                                           \n",
      "2020-02-01  155.830811   27.309950  2954.219971      -8.411048     -4.828759   \n",
      "2020-03-01  152.109161   28.282450  2584.590088     -12.511928     -2.388263   \n",
      "2020-04-01  172.845627   29.752953  2912.429932      12.684404     13.632621   \n",
      "2020-05-01  176.742126   30.979151  3044.310059       4.528182      2.254324   \n",
      "2020-06-01  196.829300   30.763044  3100.290039       1.838840     11.365244   \n",
      "2020-07-01  198.280014   30.692570  3271.120117       5.510132      0.737042   \n",
      "2020-08-01  218.126419   31.026131  3500.310059       7.006467     10.009282   \n",
      "2020-09-01  203.917191   32.873466  3363.000000      -3.922797     -6.514217   \n",
      "2020-10-01  196.296799   30.250414  3269.959961      -2.766579     -3.737003   \n",
      "2020-11-01  207.543121   31.784473  3621.629883      10.754564      5.729244   \n",
      "2020-12-01  216.203064   33.072334  3756.070068       3.712146      4.172599   \n",
      "2021-01-01  225.476440   32.953960  3714.239990      -1.113666      4.289198   \n",
      "2021-02-01  225.884689   33.735195  3811.149902       2.609145      0.181061   \n",
      "2021-03-01  229.707794   31.921783  3972.889893       4.243863      1.692503   \n",
      "2021-04-01  245.695831   35.513241  4181.169922       5.242532      6.960163   \n",
      "2021-05-01  243.260101   37.890400  4204.109863       0.548649     -0.991360   \n",
      "2021-06-01  264.543976   40.229134  4297.500000       2.221401      8.749431   \n",
      "2021-07-01  278.225281   44.469589  4395.259766       2.274805      5.171656   \n",
      "2021-08-01  294.797089   48.008911  4522.680176       2.899042      5.956255   \n",
      "2021-09-01  275.832458   46.358471  4307.540039      -4.756917     -6.433113   \n",
      "2021-10-01  324.459290   53.176319  4605.379883       6.914384     17.629119   \n",
      "2021-11-01  323.451477   51.582909  4567.000000      -0.833371     -0.310613   \n",
      "2021-12-01  329.659821   54.079247  4766.180176       4.361291      1.919405   \n",
      "2022-01-01  304.821625   48.222275  4515.549805      -5.258517     -7.534493   \n",
      "2022-02-01  292.872986   49.709446  4373.939941      -3.136049     -3.919879   \n",
      "2022-03-01  302.829315   53.620544  4530.410156       3.577329      3.399538   \n",
      "2022-04-01  272.586639   55.573246  4131.930176      -8.795671     -9.986707   \n",
      "2022-05-01  267.037109   53.818302  4132.149902       0.005318     -2.035877   \n",
      "2022-06-01  252.852005   54.320412  3785.379883      -8.392000     -5.312035   \n",
      "2022-07-01  276.391663   56.577461  4130.290039       9.111639      9.309658   \n",
      "2022-08-01  257.420135   51.722118  3955.000000      -4.244013     -6.864001   \n",
      "2022-09-01  229.779373   48.830219  3585.620117      -9.339567    -10.737607   \n",
      "2022-10-01  229.019699   53.344181  3871.979980       7.986341     -0.330610   \n",
      "2022-11-01  251.721390   61.068401  4080.110107       5.375289      9.912549   \n",
      "2022-12-01  237.273438   66.332253  3839.500000      -5.897147     -5.739660   \n",
      "2023-01-01  245.178604   68.018250  4076.600098       6.175286      3.331669   \n",
      "2023-02-01  246.771515   69.101402  3970.149902      -2.611249      0.649694   \n",
      "2023-03-01  285.953064   77.997002  4109.310059       3.505161     15.877663   \n",
      "2023-04-01  304.758728   82.549599  4169.479980       1.464234      6.576486   \n",
      "2023-05-01  325.716766   79.274101  4179.830078       0.248235      6.876928   \n",
      "2023-06-01  338.506226   79.950935  4450.379883       6.472746      3.926558   \n",
      "2023-07-01  333.913818   79.590286  4588.959961       3.113893     -1.356668   \n",
      "2023-08-01  325.802582   91.704208  4507.660156      -1.771639     -2.429141   \n",
      "2023-09-01  314.528809   90.288582  4288.049805      -4.871937     -3.460308   \n",
      "2023-10-01  336.802307   95.878250  4193.799805      -2.197969      7.081545   \n",
      "2023-11-01  377.444519  101.110497  4567.799805       8.917927     12.067082   \n",
      "2023-12-01  375.345886  102.708961  4769.830078       4.422923     -0.556011   \n",
      "2024-01-01  396.846130  113.918091  4845.649902       1.589571      5.728115   \n",
      "2024-02-01  412.876495  118.912056  5096.270020       5.172064      4.039441   \n",
      "2024-03-01  420.720001  127.480232  5254.350098       3.101878      1.899722   \n",
      "2024-04-01  423.260010  124.930000  5160.640137      -1.783474      0.603729   \n",
      "\n",
      "Ticker      nvo_returns  \n",
      "Date                     \n",
      "2020-02-01    -4.438600  \n",
      "2020-03-01     3.560973  \n",
      "2020-04-01     5.199348  \n",
      "2020-05-01     4.121266  \n",
      "2020-06-01    -0.697587  \n",
      "2020-07-01    -0.229089  \n",
      "2020-08-01     1.086781  \n",
      "2020-09-01     5.954129  \n",
      "2020-10-01    -7.979239  \n",
      "2020-11-01     5.071202  \n",
      "2020-12-01     4.051855  \n",
      "2021-01-01    -0.357924  \n",
      "2021-02-01     2.370685  \n",
      "2021-03-01    -5.375430  \n",
      "2021-04-01    11.250804  \n",
      "2021-05-01     6.693726  \n",
      "2021-06-01     6.172365  \n",
      "2021-07-01    10.540758  \n",
      "2021-08-01     7.958971  \n",
      "2021-09-01    -3.437779  \n",
      "2021-10-01    14.706801  \n",
      "2021-11-01    -2.996466  \n",
      "2021-12-01     4.839467  \n",
      "2022-01-01   -10.830350  \n",
      "2022-02-01     3.083992  \n",
      "2022-03-01     7.867918  \n",
      "2022-04-01     3.641704  \n",
      "2022-05-01    -3.157893  \n",
      "2022-06-01     0.932972  \n",
      "2022-07-01     4.155067  \n",
      "2022-08-01    -8.581762  \n",
      "2022-09-01    -5.591223  \n",
      "2022-10-01     9.244197  \n",
      "2022-11-01    14.479968  \n",
      "2022-12-01     8.619599  \n",
      "2023-01-01     2.541745  \n",
      "2023-02-01     1.592444  \n",
      "2023-03-01    12.873254  \n",
      "2023-04-01     5.836887  \n",
      "2023-05-01    -3.967914  \n",
      "2023-06-01     0.853790  \n",
      "2023-07-01    -0.451088  \n",
      "2023-08-01    15.220352  \n",
      "2023-09-01    -1.543688  \n",
      "2023-10-01     6.190892  \n",
      "2023-11-01     5.457178  \n",
      "2023-12-01     1.580909  \n",
      "2024-01-01    10.913487  \n",
      "2024-02-01     4.383821  \n",
      "2024-03-01     7.205473  \n",
      "2024-04-01    -2.000492  \n"
     ]
    },
    {
     "name": "stderr",
     "output_type": "stream",
     "text": [
      "\n"
     ]
    }
   ],
   "source": [
    "data = yf.download([\"^GSPC\", \"NVO\", \"MSFT\"], start = \"2020-01-01\", end = \"2024-04-08\", interval = \"1mo\")\n",
    "#data = data.iloc[:, :2]\n",
    "data = data[\"Adj Close\"]\n",
    "\n",
    "data['sp500_returns'] = data['^GSPC'].pct_change() * 100\n",
    "data[\"msft_returns\"] = data[\"MSFT\"].pct_change() * 100\n",
    "data[\"nvo_returns\"] = data[\"NVO\"].pct_change() * 100\n",
    "data = data.dropna()\n",
    "\n",
    "print(data)"
   ]
  },
  {
   "cell_type": "markdown",
   "metadata": {},
   "source": [
    "## 1.2 Return and covariance matrix"
   ]
  },
  {
   "cell_type": "code",
   "execution_count": 4,
   "metadata": {},
   "outputs": [
    {
     "name": "stdout",
     "output_type": "stream",
     "text": [
      "Ticker\n",
      "msft_returns    2.083592\n",
      "nvo_returns     3.110162\n",
      "dtype: float64\n"
     ]
    }
   ],
   "source": [
    "returns = data.iloc[:, [4,5]]\n",
    "return_matrix = np.mean(returns, axis = 0)\n",
    "print(return_matrix)"
   ]
  },
  {
   "cell_type": "code",
   "execution_count": 5,
   "metadata": {},
   "outputs": [
    {
     "name": "stdout",
     "output_type": "stream",
     "text": [
      "Ticker        msft_returns  nvo_returns\n",
      "Ticker                                 \n",
      "msft_returns     42.703475    20.404266\n",
      "nvo_returns      20.404266    36.678026\n"
     ]
    }
   ],
   "source": [
    "cov_matrix = returns.cov()\n",
    "print(cov_matrix)"
   ]
  },
  {
   "cell_type": "markdown",
   "metadata": {},
   "source": [
    "## 3 Portfolios"
   ]
  },
  {
   "cell_type": "code",
   "execution_count": 8,
   "metadata": {},
   "outputs": [],
   "source": [
    "def portfolio(return_matrix, cov_matrix, x):\n",
    "    w = pd.DataFrame([x, 1-x], index=['msft_returns', 'nvo_returns'])\n",
    "    tw = w.transpose()\n",
    "    var = tw.dot(cov_matrix).dot(w)\n",
    "    sd = np.sqrt(var)[0][0]\n",
    "    \n",
    "    e_r = tw.dot(return_matrix)[0]\n",
    "\n",
    "    return e_r, sd"
   ]
  },
  {
   "cell_type": "code",
   "execution_count": 12,
   "metadata": {},
   "outputs": [
    {
     "name": "stdout",
     "output_type": "stream",
     "text": [
      "Expected return = 3.110, Expected volatility = 6.056\n"
     ]
    }
   ],
   "source": [
    "er, sd = portfolio(return_matrix, cov_matrix, 0)\n",
    "\n",
    "print(f'Expected return = {er:.3f}, Expected volatility = {sd:.3f}')"
   ]
  },
  {
   "cell_type": "code",
   "execution_count": 42,
   "metadata": {},
   "outputs": [
    {
     "data": {
      "image/png": "[encoded data removed]",
      "text/plain": [
       "<Figure size 640x480 with 1 Axes>"
      ]
     },
     "metadata": {},
     "output_type": "display_data"
    }
   ],
   "source": [
    "import matplotlib.pyplot as plt\n",
    "import numpy as np\n",
    "\n",
    "# Define the function\n",
    "\n",
    "# Generate the values for x, y, and z\n",
    "x_values = np.linspace(-1, 2, 100)  # Varying values for the third input\n",
    "\n",
    "# Create a figure and axis\n",
    "fig, ax = plt.subplots()\n",
    "\n",
    "# Plot the values of the function for each z value\n",
    "function_values = []\n",
    "\n",
    "for x in x_values:\n",
    "    # Calculate the function values\n",
    "    function_values.append(portfolio(return_matrix, cov_matrix, x)[1]) \n",
    "    \n",
    "    # Plot the function values\n",
    "    \n",
    "ax.plot(x_values, function_values)\n",
    "# Add labels and a legend\n",
    "ax.set_xlabel('x')\n",
    "ax.set_ylabel('Function Value')\n",
    "\n",
    "ax.set_xlim(0, 1)\n",
    "plt.show()\n"
   ]
  },
  {
   "cell_type": "markdown",
   "metadata": {},
   "source": [
    "## Minimum Variance Portfolio"
   ]
  },
  {
   "cell_type": "code",
   "execution_count": 59,
   "metadata": {},
   "outputs": [],
   "source": [
    "def mvp(return_matrix, cov_matrix, N):\n",
    "    N = N\n",
    "    x_vec = np.linspace(-1, 2, N)\n",
    "    vol_best = np.inf\n",
    "    x_best = 0\n",
    "    for x in x_vec:\n",
    "        vol = portfolio(return_matrix, cov_matrix, x)[1]\n",
    "        if vol < vol_best:\n",
    "            vol_best = vol\n",
    "            x_best = x\n",
    "    return x_best\n",
    "\n",
    "x_min = mvp(return_matrix, cov_matrix, 1000)"
   ]
  },
  {
   "cell_type": "code",
   "execution_count": 62,
   "metadata": {},
   "outputs": [
    {
     "name": "stdout",
     "output_type": "stream",
     "text": [
      "MVP return = 2.679, MVP volatility = 5.460\n"
     ]
    }
   ],
   "source": [
    "mvp = portfolio(return_matrix, cov_matrix, x_min)\n",
    "print(f'MVP return = {mvp[0]:.3f}, MVP volatility = {mvp[1]:.3f}')"
   ]
  },
  {
   "cell_type": "markdown",
   "metadata": {},
   "source": [
    "## Efficient Tangent Portfolio"
   ]
  },
  {
   "cell_type": "code",
   "execution_count": null,
   "metadata": {},
   "outputs": [],
   "source": []
  },
  {
   "attachments": {
    "image-2.png": {
     "image/png": "[encoded data removed]"
    }
   },
   "cell_type": "markdown",
   "metadata": {},
   "source": [
    "Efficient markeds rand;\n",
    "\n",
    "![image-2.png](attachment:image-2.png)"
   ]
  }
 ],
 "metadata": {
  "kernelspec": {
   "display_name": "base",
   "language": "python",
   "name": "python3"
  },
  "language_info": {
   "codemirror_mode": {
    "name": "ipython",
    "version": 3
   },
   "file_extension": ".py",
   "mimetype": "text/x-python",
   "name": "python",
   "nbconvert_exporter": "python",
   "pygments_lexer": "ipython3",
   "version": "3.11.7"
  }
 },
 "nbformat": 4,
 "nbformat_minor": 2
}
