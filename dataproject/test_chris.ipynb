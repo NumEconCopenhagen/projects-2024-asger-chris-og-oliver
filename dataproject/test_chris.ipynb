{
 "cells": [
  {
   "cell_type": "markdown",
   "metadata": {},
   "source": [
    "Data project:\n",
    "\n",
    "CAPM - financial data\n",
    "\n",
    "Choose 3 stocks and market (SP-500)\n",
    "1. Import stock data from csv/api\n",
    "2. Merge stock data together\n",
    "\n",
    "3. Calculate returns and volatilities for each\n",
    "4. Calculate different portfolios. Minimum variance portfolio. Efficient tangent portfolio.\n",
    "5. Plot portfolios in volatility-return diagram. Efficient frontier, market line.\n",
    "6. Regress stocks on market portfolio to calculate beta coefficients. Does CAPM hold?"
   ]
  }
 ],
 "metadata": {
  "language_info": {
   "name": "python"
  }
 },
 "nbformat": 4,
 "nbformat_minor": 2
}
