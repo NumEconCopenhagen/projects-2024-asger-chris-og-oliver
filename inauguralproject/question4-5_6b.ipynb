{
 "cells": [
  {
   "cell_type": "code",
   "execution_count": 13,
   "metadata": {},
   "outputs": [
    {
     "name": "stdout",
     "output_type": "stream",
     "text": [
      "The autoreload extension is already loaded. To reload it, use:\n",
      "  %reload_ext autoreload\n"
     ]
    }
   ],
   "source": [
    "# ExchangeEconomyClass\n",
    "\n",
    "%load_ext autoreload\n",
    "%autoreload 2\n",
    "from chris import ExchangeEconomyClass\n",
    "\n",
    "# Creating market from class\n",
    "\n",
    "market = ExchangeEconomyClass()"
   ]
  },
  {
   "cell_type": "markdown",
   "metadata": {},
   "source": [
    "# Question 4a\n",
    "## A chooses the price\n",
    "We call A_sets_price from market. The function loops through all prices in P_1 and calculates the utility for consumer A. The function saves utility each time it finds a utility which is higher than the previous highest utility, thus leaving us with the highest utility for the prices in $\\mathcal{P}_1$."
   ]
  },
  {
   "cell_type": "code",
   "execution_count": 20,
   "metadata": {},
   "outputs": [
    {
     "name": "stdout",
     "output_type": "stream",
     "text": [
      "A chooses the market price\n",
      "-----------------------------\n",
      "Consumption of good 1: 0.6193\n",
      "Consumption of good 2: 0.6409\n",
      "Utility of A: 0.6336\n",
      "Utility of B: 0.3734\n",
      "The optimal price: 1.8867\n"
     ]
    }
   ],
   "source": [
    "P_1 = market.P_1()\n",
    "x1a_4a, x2a_4a, util_4a, p1_4a = market.A_sets_price(P_1)\n",
    "\n",
    "\n",
    "print(f'A chooses the market price')\n",
    "print(f'-----------------------------')\n",
    "print(f'Consumption of good 1: {x1a_4a:.4f}')\n",
    "print(f'Consumption of good 2: {x2a_4a:.4f}')\n",
    "print(f'Utility of A: {util_4a:.4f}')\n",
    "print(f'Utility of B: {market.utility_B(1-x1a_4a, 1-x2a_4a):.4f}')\n",
    "print(f'The optimal price: {p1_4a:.5}')"
   ]
  },
  {
   "cell_type": "markdown",
   "metadata": {},
   "source": [
    "We plot the utility function of A from the prices in $\\mathcal{P}_1$ and the maximum which we found."
   ]
  },
  {
   "cell_type": "code",
   "execution_count": 17,
   "metadata": {},
   "outputs": [
    {
     "data": {
      "image/png": "[encoded data removed]",
      "text/plain": [
       "<Figure size 640x480 with 1 Axes>"
      ]
     },
     "metadata": {},
     "output_type": "display_data"
    }
   ],
   "source": [
    "market.plot_utility_A(P_1)"
   ]
  },
  {
   "cell_type": "markdown",
   "metadata": {},
   "source": [
    "# Question 4b\n",
    "We now call an optimizer to solve the maximization problem. We call A_sets_price_optimize() from market. The function uses the same utility function as in 4a, but now uses np.optimize with the method \"SLSQP\" to solve the problem."
   ]
  },
  {
   "cell_type": "code",
   "execution_count": 9,
   "metadata": {},
   "outputs": [
    {
     "name": "stdout",
     "output_type": "stream",
     "text": [
      "Restricted price = 1.887\n",
      "Restricted utility = 0.6336\n",
      "\n",
      "Unrestricted price = 1.897\n",
      "Unrestricted utility = 0.6336\n",
      "\n",
      "difference in price = 0.010\n",
      "difference in utility = 0.000005\n"
     ]
    }
   ],
   "source": [
    "x1a_4b, x2a_4b, util_4b, p1_4b = market.A_sets_price_optimize()\n",
    "\n",
    "# Compare with numerical optimization\n",
    "\n",
    "print(f'Restricted price = {p1_4a:.3f}\\nRestricted utility = {util_4a:.4f}\\n')\n",
    "print(f'Unrestricted price = {p1_4b:.3f}\\nUnrestricted utility = {util_4b:.4f}\\n')\n",
    "\n",
    "diff_p = p1_4b - p1_4a\n",
    "diff_util = util_4b - util_4a\n",
    "print(f'difference in price = {diff_p:.3f}')\n",
    "print(f'difference in utility = {diff_util:.6f}')"
   ]
  },
  {
   "cell_type": "markdown",
   "metadata": {},
   "source": [
    "The optimizer is better as it finds a higher utility because it freely chooses any point rather than a fixed set. However, the results are very similar when comparing the two methods. There is a slight difference in price and the utility is almost exactly the same. The tiny difference in utility is explained by the utility function being very flat around it's peak."
   ]
  },
  {
   "cell_type": "markdown",
   "metadata": {},
   "source": [
    "# Question 5a\n",
    "## A is the market maker\n",
    "\n",
    "A now chooses the Pareto point in $\\mathcal{C}$ that maximizes his own utility. The function A_market_maker loops through all 1543 Pareto combinations of $x_1^A$ and $x_2^A$ and saves the utility each time a combination leads to a higher utility than the previous combination."
   ]
  },
  {
   "cell_type": "code",
   "execution_count": 19,
   "metadata": {},
   "outputs": [
    {
     "name": "stdout",
     "output_type": "stream",
     "text": [
      "x1A = 0.5811\n",
      "x2A = 0.8378\n",
      "\n",
      "utility_A = 0.7416\n",
      "utility_B = 0.3053\n"
     ]
    }
   ],
   "source": [
    "x1a_5a, x2a_5a, util_5a = market.A_market_maker()\n",
    "\n",
    "print(f'x1A = {x1a_5a:.4f}')\n",
    "print(f'x2A = {x2a_5a:.4f}\\n')\n",
    "print(f'utility_A = {util_5a:.4f}')\n",
    "print(f'utility_B = {market.utility_B(1-x1a_5a, 1-x2a_5a):.4f}')\n"
   ]
  },
  {
   "cell_type": "markdown",
   "metadata": {},
   "source": [
    "As expected the utility of consumer A is now higher than in 4, because A can now freely choose the point in C which benefits him the most rather than having to trade with consumer B.\n",
    "\n",
    "A now consumes more of good 2 which he derives more utility from and less of good 1. The utility of B has understandbly fallen. "
   ]
  },
  {
   "cell_type": "markdown",
   "metadata": {},
   "source": [
    "## Question 5B\n",
    "We now repeat the same analysis but with a constrained optimizer. A_market_maker_optimize calls a constrained optimizer which maximizes the utility of A under the constraint that the utility of B is at least equal to $\\bar{u}_B$, which is the utility when consuming the intial endowment.\n"
   ]
  },
  {
   "cell_type": "code",
   "execution_count": 25,
   "metadata": {},
   "outputs": [
    {
     "name": "stdout",
     "output_type": "stream",
     "text": [
      "x1A = 0.5757\n",
      "x2A = 0.8444\n",
      "utility of A = 0.7432\n",
      "utility of B = 0.3037\n",
      "\n",
      "Comparing 5a and 5b:\n",
      "difference in utility of A = 0.0016\n"
     ]
    }
   ],
   "source": [
    "x1a_5b, x2a_5b, util_5b = market.A_market_maker_optimize()\n",
    "\n",
    "print(f'x1A = {x1a_5b:.4f}')\n",
    "print(f'x2A = {x2a_5b:.4f}')\n",
    "print(f'utility of A = {util_5b:.4f}')\n",
    "print(f'utility of B = {market.utility_B(1-x1a_5b, 1-x2a_5b):.4f}\\n')\n",
    "print(f'Comparing 5a and 5b:')\n",
    "print(f'difference in utility of A = {util_5b - util_5a:.4f}')"
   ]
  },
  {
   "cell_type": "markdown",
   "metadata": {},
   "source": [
    "The optimizer again beats the manual looping as expected, but the difference in consumption and utility is again very small."
   ]
  }
 ],
 "metadata": {
  "kernelspec": {
   "display_name": "base",
   "language": "python",
   "name": "python3"
  },
  "language_info": {
   "codemirror_mode": {
    "name": "ipython",
    "version": 3
   },
   "file_extension": ".py",
   "mimetype": "text/x-python",
   "name": "python",
   "nbconvert_exporter": "python",
   "pygments_lexer": "ipython3",
   "version": "3.11.7"
  }
 },
 "nbformat": 4,
 "nbformat_minor": 2
}
