{
 "cells": [
  {
   "cell_type": "code",
   "execution_count": 1,
   "metadata": {},
   "outputs": [],
   "source": [
    "import numpy as np\n",
    "\n",
    "# autoreload modules when code is run. Otherwise, python will not see recent changes. \n",
    "%load_ext autoreload\n",
    "%autoreload 2\n",
    "\n",
    "# Import your own code\n",
    "import inauguralproject"
   ]
  },
  {
   "cell_type": "markdown",
   "metadata": {},
   "source": [
    "# Question 1"
   ]
  },
  {
   "cell_type": "code",
   "execution_count": 54,
   "metadata": {},
   "outputs": [],
   "source": [
    "from types import SimpleNamespace\n",
    "\n",
    "class ExchangeEconomyClass:\n",
    "\n",
    "    def __init__(self):\n",
    "\n",
    "        par = self.par = SimpleNamespace()\n",
    "\n",
    "        # a. preferences\n",
    "        par.alpha = 1/3\n",
    "        par.beta = 2/3\n",
    "\n",
    "\n",
    "        # b. endowments\n",
    "        par.w1A = 0.8\n",
    "        par.w2A = 0.3\n",
    "        par.w1B = 1 - par.w1A\n",
    "        par.w2B = 1 - par.w2A\n",
    "\n",
    "    def utility_A(self,x1A,x2A):\n",
    "        par = self.par\n",
    "        util_A = x1A**(par.alpha)*x2A**(1-par.alpha)\n",
    "\n",
    "        return util_A\n",
    "        \n",
    "\n",
    "    def utility_B(self,x1B,x2B):\n",
    "        par = self.par\n",
    "        util_A = x1B**(par.beta)*x2B**(1-par.beta)\n",
    "\n",
    "        return util_B\n",
    "\n",
    "    def demand_A(self,p1):\n",
    "        par = self.par\n",
    "        I_A = p1*par.w1A + par.w2A\n",
    "        x1A_star = par.alpha*((I_A)/(p1))\n",
    "        x2A_star = (1-par.alpha)*((I_A))\n",
    "\n",
    "        return x1A_star,x2A_star\n",
    "\n",
    "    def demand_B(self,p1):\n",
    "        par = self.par\n",
    "        I_B = p1*par.w1B + par.w2B\n",
    "        x1B_star = par.beta*((I_B)/(p1))\n",
    "        x2B_star = (1-par.beta)*((I_B)/(p1))\n",
    "\n",
    "        return x1B_star,x2B_star\n",
    "        \n",
    "\n",
    "    def check_market_clearing(self,p1):\n",
    "\n",
    "        par = self.par\n",
    "\n",
    "        x1A,x2A = self.demand_A(p1)\n",
    "        x1B,x2B = self.demand_B(p1)\n",
    "\n",
    "        eps1 = x1A-par.w1A + x1B-(1-par.w1A)\n",
    "        eps2 = x2A-par.w2A + x2B-(1-par.w2A)\n",
    "\n",
    "        return eps1,eps2"
   ]
  },
  {
   "cell_type": "code",
   "execution_count": 55,
   "metadata": {},
   "outputs": [
    {
     "name": "stdout",
     "output_type": "stream",
     "text": [
      "(0.4666666666666666, 0.4666666666666667)\n",
      "(0.5999999999999999, 0.3)\n",
      "(0.16576576576576557, -0.023351351351351246)\n"
     ]
    }
   ],
   "source": [
    "\n",
    "util_a = ExchangeEconomyClass()\n",
    "\n",
    "demand_a = util_a.demand_A(0.5)\n",
    "print(demand_a)\n",
    "\n",
    "demand_b = util_a.demand_B(1)\n",
    "print(demand_b)\n",
    "\n",
    "check = util_a.check_market_clearing(0.74)\n",
    "\n",
    "print(check)"
   ]
  },
  {
   "cell_type": "code",
   "execution_count": null,
   "metadata": {},
   "outputs": [],
   "source": [
    "\n"
   ]
  },
  {
   "cell_type": "code",
   "execution_count": null,
   "metadata": {},
   "outputs": [],
   "source": []
  }
 ],
 "metadata": {
  "kernelspec": {
   "display_name": "base",
   "language": "python",
   "name": "python3"
  },
  "language_info": {
   "codemirror_mode": {
    "name": "ipython",
    "version": 3
   },
   "file_extension": ".py",
   "mimetype": "text/x-python",
   "name": "python",
   "nbconvert_exporter": "python",
   "pygments_lexer": "ipython3",
   "version": "3.11.7"
  }
 },
 "nbformat": 4,
 "nbformat_minor": 2
}
