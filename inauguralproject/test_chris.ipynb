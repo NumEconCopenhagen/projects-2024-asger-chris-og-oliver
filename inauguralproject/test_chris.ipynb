{
 "cells": [
  {
   "cell_type": "code",
   "execution_count": 26,
   "metadata": {},
   "outputs": [
    {
     "name": "stdout",
     "output_type": "stream",
     "text": [
      "The autoreload extension is already loaded. To reload it, use:\n",
      "  %reload_ext autoreload\n"
     ]
    }
   ],
   "source": [
    "import numpy as np\n",
    "\n",
    "# autoreload modules when code is run. Otherwise, python will not see recent changes. \n",
    "%load_ext autoreload\n",
    "%autoreload 2\n",
    "\n",
    "# Import your own code\n",
    "# import inauguralproject"
   ]
  },
  {
   "cell_type": "markdown",
   "metadata": {},
   "source": [
    "# Question 1"
   ]
  },
  {
   "cell_type": "code",
   "execution_count": 2,
   "metadata": {},
   "outputs": [],
   "source": [
    "from types import SimpleNamespace\n",
    "\n",
    "class ExchangeEconomyClass:\n",
    "\n",
    "    def __init__(self):\n",
    "\n",
    "        par = self.par = SimpleNamespace()\n",
    "\n",
    "        # a. preferences\n",
    "        par.alpha = 1/3\n",
    "        par.beta = 2/3\n",
    "\n",
    "        # b. endowments\n",
    "        par.w1A = 0.8\n",
    "        par.w2A = 0.3\n",
    "        par.w1B = 1 - par.w1A\n",
    "        par.w2B = 1 - par.w2A\n",
    "\n",
    "    def utility_A(self,x1A,x2A):\n",
    "        par = self.par\n",
    "        if x1A < 0 or x2A < 0:\n",
    "            util_A = 0\n",
    "        else:\n",
    "            util_A = x1A**(par.alpha)*x2A**(1-par.alpha)\n",
    "        return util_A\n",
    "        \n",
    "\n",
    "    def utility_B(self,x1B,x2B):\n",
    "        par = self.par\n",
    "        if x1B < 0 or x2B < 0:\n",
    "            util_B = 0\n",
    "        else:\n",
    "            util_B = x1B**(par.beta)*x2B**(1-par.beta)\n",
    "\n",
    "        return util_B\n",
    "\n",
    "    def demand_A(self,p1):\n",
    "        par = self.par\n",
    "        I_A = p1*par.w1A + par.w2A\n",
    "        x1A_star = par.alpha*((I_A)/(p1))\n",
    "        x2A_star = (1-par.alpha)*I_A\n",
    "\n",
    "        return x1A_star,x2A_star\n",
    "\n",
    "    def demand_B(self,p1):\n",
    "        par = self.par\n",
    "        I_B = p1*par.w1B + par.w2B\n",
    "        x1B_star = par.beta*((I_B)/(p1))\n",
    "        x2B_star = (1-par.beta)*I_B\n",
    "\n",
    "        return x1B_star,x2B_star\n",
    "        \n",
    "\n",
    "    def check_market_clearing(self,p1):\n",
    "\n",
    "        par = self.par\n",
    "\n",
    "        x1A,x2A = self.demand_A(p1)\n",
    "        x1B,x2B = self.demand_B(p1)\n",
    "\n",
    "        eps1 = x1A-par.w1A + x1B-(1-par.w1A)\n",
    "        eps2 = x2A-par.w2A + x2B-(1-par.w2A)\n",
    "\n",
    "        return eps1,eps2"
   ]
  },
  {
   "cell_type": "code",
   "execution_count": 31,
   "metadata": {},
   "outputs": [
    {
     "name": "stdout",
     "output_type": "stream",
     "text": [
      "(-3.5293910036204856e-06, 3.3333333335772153e-06)\n"
     ]
    }
   ],
   "source": [
    "\n",
    "market = ExchangeEconomyClass()\n",
    "\n",
    "#demand_a = market.demand_A(5)\n",
    "#print(demand_a)\n",
    "\n",
    "#demand_b = market.demand_B(5)\n",
    "#print(demand_b)\n",
    "\n",
    "check = market.check_market_clearing(0.94445)\n",
    "\n",
    "print(check)"
   ]
  },
  {
   "cell_type": "code",
   "execution_count": 4,
   "metadata": {},
   "outputs": [
    {
     "name": "stdout",
     "output_type": "stream",
     "text": [
      "0.41601676461038084\n",
      "0.30365889718756617\n",
      "\n",
      "\n",
      "[[nan nan nan ... nan nan nan]\n",
      " [nan nan nan ... nan nan nan]\n",
      " [nan nan nan ... nan nan nan]\n",
      " ...\n",
      " [nan nan nan ... nan nan nan]\n",
      " [nan nan nan ... nan nan nan]\n",
      " [nan nan nan ... nan nan nan]]\n"
     ]
    }
   ],
   "source": [
    "\n",
    "# 1 Lav x1A og x2A fra 0 til 1 med 75 intervallerpunkter\n",
    "N = 75\n",
    "x1A_vec = np.linspace(0,1,N)\n",
    "x2A_vec = np.linspace(0,1,N)\n",
    "utility = np.zeros((N, N))\n",
    "utility[:] = np.nan\n",
    "\n",
    "#print(utility)\n",
    "\n",
    "uA_bar = market.utility_A(market.par.w1A, market.par.w2A)\n",
    "uB_bar = market.utility_B(market.par.w1B, market.par.w2B)\n",
    "print(uA_bar)\n",
    "print(uB_bar)\n",
    "print(\"\\n\")\n",
    "\n",
    "# Lav for loop der kører gennem de to vektorer\n",
    "for i, x1a in enumerate(x1A_vec):\n",
    "      for j, x2a in enumerate(x2A_vec):\n",
    "        uA = market.utility_A(x1a, x2a)\n",
    "        x1b = 1 - x1a\n",
    "        x2b = 1 - x2a\n",
    "        uB = market.utility_B(x1b, x2b)\n",
    "        if uA >= uA_bar and uB >= uB_bar:\n",
    "            utility[i, j] = market.utility_A(x1a, x2a)\n",
    "     \n",
    "print(utility)\n"
   ]
  },
  {
   "cell_type": "code",
   "execution_count": 35,
   "metadata": {},
   "outputs": [
    {
     "name": "stdout",
     "output_type": "stream",
     "text": [
      "(0.08108108108108109, 0.945945945945946)\n",
      "1543\n"
     ]
    }
   ],
   "source": [
    "kombinationer = []\n",
    "\n",
    "for x1a in x1A_vec:\n",
    "      for x2a in x2A_vec:\n",
    "        uA = market.utility_A(x1a, x2a)\n",
    "        x1b = 1 - x1a\n",
    "        x2b = 1 - x2a\n",
    "        uB = market.utility_B(x1b, x2b)\n",
    "        if uA >= uA_bar and uB >= uB_bar:\n",
    "            kombinationer.append((x1a, x2a))\n",
    "\n",
    "\n",
    "print(kombinationer[0])\n",
    "\n",
    "\n",
    "print(len(kombinationer))\n",
    "# Sammenlign utility fra alle kombinationer"
   ]
  },
  {
   "cell_type": "markdown",
   "metadata": {},
   "source": [
    "## Basic Edgeworth box"
   ]
  },
  {
   "cell_type": "code",
   "execution_count": 6,
   "metadata": {},
   "outputs": [
    {
     "data": {
      "image/png": "[encoded data removed]",
      "text/plain": [
       "<Figure size 600x600 with 3 Axes>"
      ]
     },
     "metadata": {},
     "output_type": "display_data"
    }
   ],
   "source": [
    "import matplotlib.pyplot as plt\n",
    "plt.rcParams.update({\"axes.grid\":True,\"grid.color\":\"black\",\"grid.alpha\":\"0.25\",\"grid.linestyle\":\"--\"})\n",
    "plt.rcParams.update({'font.size': 14})\n",
    "\n",
    "par = market.par\n",
    "\n",
    "# a. total endowment\n",
    "w1bar = 1.0\n",
    "w2bar = 1.0\n",
    "\n",
    "# b. figure set up\n",
    "fig = plt.figure(frameon=False,figsize=(6,6), dpi=100)\n",
    "ax_A = fig.add_subplot(1, 1, 1)\n",
    "\n",
    "ax_A.set_xlabel(\"$x_1^A$\")\n",
    "ax_A.set_ylabel(\"$x_2^A$\")\n",
    "\n",
    "temp = ax_A.twinx()\n",
    "temp.set_ylabel(\"$x_2^B$\")\n",
    "ax_B = temp.twiny()\n",
    "ax_B.set_xlabel(\"$x_1^B$\")\n",
    "ax_B.invert_xaxis()\n",
    "ax_B.invert_yaxis()\n",
    "\n",
    "# A\n",
    "\n",
    "\n",
    "x1, x2 = zip(*kombinationer)\n",
    "ax_A.scatter(x1,x2,marker='o',color='royalblue',label='pareto improvements')\n",
    "ax_A.scatter(par.w1A,par.w2A,marker='s',color='black',label='endowment', s = 50)\n",
    "\n",
    "#ax_A.scatter(0.5810810810810811,0.8378378378378379, color = \"red\")\n",
    "\n",
    "# limits\n",
    "ax_A.plot([0,w1bar],[0,0],lw=2,color='black')\n",
    "ax_A.plot([0,w1bar],[w2bar,w2bar],lw=2,color='black')\n",
    "ax_A.plot([0,0],[0,w2bar],lw=2,color='black')\n",
    "ax_A.plot([w1bar,w1bar],[0,w2bar],lw=2,color='black')\n",
    "\n",
    "ax_A.set_xlim([-0.1, w1bar + 0.1])\n",
    "ax_A.set_ylim([-0.1, w2bar + 0.1])    \n",
    "ax_B.set_xlim([w1bar + 0.1, -0.1])\n",
    "ax_B.set_ylim([w2bar + 0.1, -0.1])\n",
    "\n",
    "ax_A.legend(frameon=True,loc='upper right',bbox_to_anchor=(1.6,1.0));"
   ]
  },
  {
   "cell_type": "markdown",
   "metadata": {},
   "source": [
    "# Question 2\n",
    "## Market error"
   ]
  },
  {
   "cell_type": "code",
   "execution_count": 29,
   "metadata": {},
   "outputs": [
    {
     "name": "stdout",
     "output_type": "stream",
     "text": [
      "[0.5, 0.5266666666666666, 0.5533333333333333, 0.58, 0.6066666666666667, 0.6333333333333333, 0.66, 0.6866666666666666, 0.7133333333333334, 0.74, 0.7666666666666666, 0.7933333333333333, 0.8200000000000001, 0.8466666666666667, 0.8733333333333333, 0.9, 0.9266666666666667, 0.9533333333333334, 0.98, 1.0066666666666668, 1.0333333333333332, 1.06, 1.0866666666666667, 1.1133333333333333, 1.1400000000000001, 1.1666666666666665, 1.1933333333333334, 1.22, 1.2466666666666666, 1.2733333333333334, 1.3, 1.3266666666666667, 1.3533333333333335, 1.38, 1.4066666666666667, 1.4333333333333333, 1.46, 1.4866666666666668, 1.5133333333333334, 1.54, 1.5666666666666667, 1.5933333333333333, 1.62, 1.6466666666666667, 1.6733333333333333, 1.7, 1.7266666666666666, 1.7533333333333334, 1.78, 1.8066666666666666, 1.8333333333333333, 1.86, 1.8866666666666667, 1.9133333333333333, 1.94, 1.9666666666666666, 1.9933333333333334, 2.02, 2.046666666666667, 2.0733333333333333, 2.1, 2.126666666666667, 2.1533333333333333, 2.1799999999999997, 2.206666666666667, 2.2333333333333334, 2.26, 2.2866666666666666, 2.3133333333333335, 2.34, 2.3666666666666667, 2.3933333333333335, 2.42, 2.4466666666666668, 2.4733333333333336, 2.5]\n",
      "\n",
      "\n",
      "-0.005594405594405827\n",
      "0.005333333333333523\n",
      "0.9533333333333334\n",
      "\n",
      "\n",
      "(0.011510791366906414, -0.01066666666666638)\n",
      "(-0.005594405594405827, 0.005333333333333523)\n",
      "(-0.0217687074829932, 0.021333333333333537)\n"
     ]
    }
   ],
   "source": [
    "# a\n",
    "# Create price vector from 0.5 to 2.5\n",
    "N = 75\n",
    "\n",
    "P_1 = []\n",
    "i = 0\n",
    "P_1.append(0.5)\n",
    "\n",
    "while P_1[i] < 2.5:\n",
    "    i += 1\n",
    "    P_1.append(0.5 + (2*i)/N)\n",
    "\n",
    "print(P_1)\n",
    "print(\"\\n\")\n",
    "\n",
    "# b\n",
    "# Calculate market error for all prices in the price vector\n",
    "e1 = 10\n",
    "e2 = 10\n",
    "\n",
    "for p1 in P_1:\n",
    "    e1_now, e2_now = market.check_market_clearing(p1)\n",
    "    if np.abs(e1_now) < np.abs(e1) and np.abs(e2_now) < np.abs(e2):\n",
    "        e1 = e1_now\n",
    "        e2 = e2_now\n",
    "        e1_best = e1_now\n",
    "        e2_best = e2_now\n",
    "        p1_best = p1\n",
    "\n",
    "# c\n",
    "# Find price which results in smallest error\n",
    "print(e1_best)\n",
    "print(e2_best)\n",
    "print(p1_best)\n",
    "print(\"\\n\")\n",
    "\n",
    "# Checking market error for prices just above and below p1_best\n",
    "print(market.check_market_clearing(0.9266666666666667)) \n",
    "print(market.check_market_clearing(0.9533333333333334))\n",
    "print(market.check_market_clearing(0.98))\n"
   ]
  },
  {
   "cell_type": "markdown",
   "metadata": {},
   "source": [
    "# Question 3\n",
    "## Market clearing price"
   ]
  },
  {
   "cell_type": "code",
   "execution_count": 30,
   "metadata": {},
   "outputs": [
    {
     "name": "stdout",
     "output_type": "stream",
     "text": [
      "Market clearing price = 0.9533\n"
     ]
    }
   ],
   "source": [
    "print(f'Market clearing price = {p1_best:.4f}')\n"
   ]
  },
  {
   "cell_type": "markdown",
   "metadata": {},
   "source": [
    "# Question 4a\n",
    "## Max utility_A in P_1"
   ]
  },
  {
   "cell_type": "code",
   "execution_count": 22,
   "metadata": {},
   "outputs": [
    {
     "name": "stdout",
     "output_type": "stream",
     "text": [
      "0.633615985237553\n",
      "utility of A: 0.6336 \n",
      "consumption of good 1: 0.6193 \n",
      "consumption of good 2: 0.6409\n",
      "The optimal price: 1.8867\n"
     ]
    }
   ],
   "source": [
    "uA_0 = -np.inf\n",
    "\n",
    "for p1 in P_1:\n",
    "    x1_A = 1 - market.demand_B(p1)[0]\n",
    "    x2_A = 1 - market.demand_B(p1)[1]\n",
    "    uA_now = market.utility_A(x1_A, x2_A)\n",
    "    if uA_now > uA_0:\n",
    "        uA_0 = uA_now\n",
    "        uA_best = uA_now\n",
    "        x1_A_best = x1_A\n",
    "        x2_A_best = x2_A\n",
    "        p1_A_best = p1\n",
    "\n",
    "print(f\"utility of A: {uA_best:.4f} \\nconsumption of good 1: {x1_A_best:.4f} \\nconsumption of good 2: {x2_A_best:.4f}\\nThe optimal price: {p1_A_best:.4f}\")"
   ]
  },
  {
   "cell_type": "code",
   "execution_count": 10,
   "metadata": {},
   "outputs": [
    {
     "data": {
      "image/png": "[encoded data removed]",
      "text/plain": [
       "<Figure size 640x480 with 1 Axes>"
      ]
     },
     "metadata": {},
     "output_type": "display_data"
    }
   ],
   "source": [
    "# Plot utility of A for different prices\n",
    "\n",
    "import matplotlib.pyplot as plt\n",
    "\n",
    "# Create an empty list to store the utility values\n",
    "utility_values = []\n",
    "\n",
    "# Iterate over each value of p1 in P_1\n",
    "for p1 in P_1:\n",
    "    x1_A = 1 - market.demand_B(p1)[0]\n",
    "    x2_A = 1 - market.demand_B(p1)[1]\n",
    "    # Calculate the utility for the given p1\n",
    "    utility = market.utility_A(x1_A, x2_A)\n",
    "    utility_values.append(utility)\n",
    "\n",
    "# Plot the utility values\n",
    "#plt.plot(P_1, utility_values)\n",
    "#plt.scatter(p1_A_best, uA_best, c = \"red\")\n",
    "\n",
    "# Plot the utility values\n",
    "plt.plot(P_1, utility_values, label = \"utility value\")\n",
    "plt.scatter(p1_A_best, uA_best, c=\"red\", zorder=10, label = \"maximum\")  \n",
    "plt.ylabel('Utility')\n",
    "plt.title('Utility of A for different prices')\n",
    "plt.legend()\n",
    "plt.show()\n"
   ]
  },
  {
   "cell_type": "markdown",
   "metadata": {},
   "source": [
    "# Question 4b\n",
    "## Max utility_A in p1 > 0"
   ]
  },
  {
   "cell_type": "code",
   "execution_count": 15,
   "metadata": {},
   "outputs": [
    {
     "name": "stdout",
     "output_type": "stream",
     "text": [
      "optimal price = 1.8968\n",
      "optimal utility = 0.6336\n"
     ]
    }
   ],
   "source": [
    "from scipy import optimize\n",
    "\n",
    "# Call an optimizer to solve the problem\n",
    "\n",
    "# a. define objective function to minimize as a function of p\n",
    "obj = lambda p: -market.utility_A(1 - market.demand_B(p)[0], 1 - market.demand_B(p)[1]) \n",
    "\n",
    "# b. define bounds\n",
    "bounds = (1e-8, 100)\n",
    "\n",
    "# c. intitial guess and call optimizer\n",
    "p0 = 1\n",
    "result = optimize.minimize(obj,p0,method='SLSQP')\n",
    "\n",
    "\n",
    "#sol.p1 = result.x[0]\n",
    "\n",
    "p = result.x[0]\n",
    "util = -result.fun\n",
    "print(f'optimal price = {p:.4f}\\noptimal utility = {util:.4f}')"
   ]
  },
  {
   "cell_type": "code",
   "execution_count": 16,
   "metadata": {},
   "outputs": [
    {
     "name": "stdout",
     "output_type": "stream",
     "text": [
      "Restricted price = 1.8867\n",
      "Restricted utility = 0.6336\n",
      "\n",
      "Unrestricted price = 1.8968\n",
      "Unrestricted utility = 0.6336\n",
      "\n",
      "difference in utility = 0.00000467\n"
     ]
    }
   ],
   "source": [
    "# Compare with numerical optimization\n",
    "\n",
    "print(f'Restricted price = {p1_A_best:.4f}\\nRestricted utility = {uA_best:.4f}\\n')\n",
    "print(f'Unrestricted price = {p:.4f}\\nUnrestricted utility = {util:.4f}\\n')\n",
    "\n",
    "diff = util - uA_best\n",
    "\n",
    "print(f'difference in utility = {diff:.8f}')"
   ]
  },
  {
   "cell_type": "markdown",
   "metadata": {},
   "source": [
    "# Question 5a"
   ]
  },
  {
   "cell_type": "code",
   "execution_count": 24,
   "metadata": {},
   "outputs": [
    {
     "name": "stdout",
     "output_type": "stream",
     "text": [
      "x1A = 0.5811\n",
      "x2A = 0.8378\n",
      "utility = 0.7416\n"
     ]
    }
   ],
   "source": [
    "kombinationer[0][1]\n",
    "\n",
    "util_0 = 0\n",
    "\n",
    "for i in kombinationer:\n",
    "    util_now = market.utility_A(*i)\n",
    "    if util_now > util_0:\n",
    "        util_0 = util_now\n",
    "        util_best = util_now\n",
    "        x1_best, x2_best = i\n",
    "\n",
    "print(f'x1A = {x1_best:.4f}')\n",
    "print(f'x2A = {x2_best:.4f}')\n",
    "print(f'utility = {util_best:.4f}')\n",
    "\n",
    "\n"
   ]
  },
  {
   "cell_type": "markdown",
   "metadata": {},
   "source": [
    "## Question 5B"
   ]
  },
  {
   "cell_type": "code",
   "execution_count": 66,
   "metadata": {},
   "outputs": [
    {
     "name": "stdout",
     "output_type": "stream",
     "text": [
      "allocation = 0.5757, 0.8444\n",
      "maximum utility = 0.7432\n",
      "\n",
      "difference in utility = 0.0016\n"
     ]
    }
   ],
   "source": [
    "# Call an optimizer to solve the problem in two dimensions\n",
    "\n",
    "# a. define objective function to minimize as a function of x1 and x2\n",
    "def value_of_choice(x):\n",
    "    return -market.utility_A(x[0], x[1]) \n",
    "\n",
    "# b. define bounds and restrictions\n",
    "bounds = [(0, 1), (0, 1)]\n",
    "constraints = ({'type': 'eq', 'fun': lambda x: market.utility_B(1 - x[0], 1 - x[1]) - uB_bar})\n",
    "\n",
    "# c. intitial guess and call optimizer\n",
    "guess = [market.par.w1A, market.par.w2A]\n",
    "result = optimize.minimize(value_of_choice, guess, bounds = bounds, constraints = constraints, method='SLSQP')\n",
    "\n",
    "\n",
    "x1_5b = result.x[0]\n",
    "x2_5b = result.x[1]\n",
    "util_5b = -result.fun\n",
    "print(f'allocation = {x1_5b:.4f}, {x2_5b:.4f}\\nmaximum utility = {util_5b:.4f}\\n')\n",
    "\n",
    "print(f'difference in utility = {util_5b - util_best:.4f}')"
   ]
  },
  {
   "cell_type": "markdown",
   "metadata": {},
   "source": [
    "## Question 6"
   ]
  }
 ],
 "metadata": {
  "kernelspec": {
   "display_name": "base",
   "language": "python",
   "name": "python3"
  },
  "language_info": {
   "codemirror_mode": {
    "name": "ipython",
    "version": 3
   },
   "file_extension": ".py",
   "mimetype": "text/x-python",
   "name": "python",
   "nbconvert_exporter": "python",
   "pygments_lexer": "ipython3",
   "version": "3.11.7"
  }
 },
 "nbformat": 4,
 "nbformat_minor": 2
}
