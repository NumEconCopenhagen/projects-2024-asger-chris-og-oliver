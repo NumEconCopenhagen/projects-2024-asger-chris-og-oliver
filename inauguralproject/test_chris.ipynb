{
 "cells": [
  {
   "cell_type": "code",
   "execution_count": null,
   "metadata": {},
   "outputs": [],
   "source": [
    "'''\n",
    "dddd\n",
    "\n",
    "dsds\n",
    "\n",
    "\n",
    "sdsds\n",
    "\n",
    "'''\n",
    "\n",
    "# 1\n",
    "# Lav 75x75 matrix. Skab punkter der opfylder de tre betingelser\n",
    "\n",
    "# 2\n",
    "# Plot graf af priser/errors?\n",
    "\n",
    "# 3 \n",
    "# \n",
    "\n",
    "# 4\n",
    "# For loop. Optimize, men så skal man restriktere til punkterne i 75x75. \n",
    "\n",
    "# 5\n",
    "# \n",
    "\n",
    "\n",
    "# 7 & 8\n",
    "# Tegn en edgeworth boks"
   ]
  },
  {
   "cell_type": "code",
   "execution_count": null,
   "metadata": {},
   "outputs": [],
   "source": [
    "import numpy as np\n",
    "\n",
    "# autoreload modules when code is run. Otherwise, python will not see recent changes. \n",
    "%load_ext autoreload\n",
    "%autoreload 2\n",
    "\n",
    "# Import your own code\n",
    "import inauguralproject"
   ]
  },
  {
   "cell_type": "markdown",
   "metadata": {},
   "source": [
    "# Question 1"
   ]
  },
  {
   "cell_type": "code",
   "execution_count": null,
   "metadata": {},
   "outputs": [],
   "source": [
    "# Question 1\n",
    "# code for solving the model (remember documentation and comments)\n",
    "# Lav set C\n",
    "# Lav 75x75 matrix. Skab punkter der opfylder de tre betingelser\n",
    "\n",
    "a = np.array([1,2,3])\n",
    "b = inauguralproject.square(a)\n",
    "print(b)\n"
   ]
  },
  {
   "cell_type": "code",
   "execution_count": 13,
   "metadata": {},
   "outputs": [],
   "source": [
    "from types import SimpleNamespace\n",
    "\n",
    "class ExchangeEconomyClass:\n",
    "\n",
    "    def __init__(self):\n",
    "\n",
    "        par = self.par = SimpleNamespace()\n",
    "\n",
    "        # a. preferences\n",
    "        par.alpha = 1/3\n",
    "        par.beta = 2/3\n",
    "\n",
    "        # b. endowments\n",
    "        par.w1A = 0.8\n",
    "        par.w2A = 0.3\n",
    "\n",
    "    def utility_A(self,x1A,x2A):\n",
    "        par = self.par = SimpleNamespace()\n",
    "        print(\"test\")\n",
    "        return x1A**(par.alpha)*x2A**(1-par.alpha)\n",
    "\n",
    "    def utility_B(self,x1B,x2B):\n",
    "        pass\n",
    "\n",
    "    def demand_A(self,p1):\n",
    "        pass\n",
    "\n",
    "    def demand_B(self,p1):\n",
    "        pass\n",
    "\n",
    "    def check_market_clearing(self,p1):\n",
    "\n",
    "        par = self.par\n",
    "\n",
    "        x1A,x2A = self.demand_A(p1)\n",
    "        x1B,x2B = self.demand_B(p1)\n",
    "\n",
    "        eps1 = x1A-par.w1A + x1B-(1-par.w1A)\n",
    "        eps2 = x2A-par.w2A + x2B-(1-par.w2A)\n",
    "\n",
    "        return eps1,eps2"
   ]
  },
  {
   "cell_type": "code",
   "execution_count": 11,
   "metadata": {},
   "outputs": [],
   "source": [
    "from inauguralproject import ExchangeEconomyClass\n",
    "\n",
    "utilityA = ExchangeEconomyClass()\n"
   ]
  },
  {
   "cell_type": "code",
   "execution_count": 14,
   "metadata": {},
   "outputs": [
    {
     "name": "stdout",
     "output_type": "stream",
     "text": [
      "test\n",
      "test\n",
      "0.6299605249474366\n"
     ]
    }
   ],
   "source": [
    "utilityA = ExchangeEconomyClass()\n",
    "\n",
    "utilityA.utility_A(1, 0.5)\n",
    "\n",
    "print(utilityA.utility_A(1, 0.5))"
   ]
  },
  {
   "cell_type": "code",
   "execution_count": null,
   "metadata": {},
   "outputs": [],
   "source": []
  }
 ],
 "metadata": {
  "kernelspec": {
   "display_name": "base",
   "language": "python",
   "name": "python3"
  },
  "language_info": {
   "codemirror_mode": {
    "name": "ipython",
    "version": 3
   },
   "file_extension": ".py",
   "mimetype": "text/x-python",
   "name": "python",
   "nbconvert_exporter": "python",
   "pygments_lexer": "ipython3",
   "version": "3.11.5"
  }
 },
 "nbformat": 4,
 "nbformat_minor": 2
}
