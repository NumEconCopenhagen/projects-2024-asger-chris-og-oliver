{
 "cells": [
  {
   "cell_type": "code",
   "execution_count": 2,
   "metadata": {},
   "outputs": [],
   "source": [
    "import numpy as np\n",
    "\n",
    "# autoreload modules when code is run. Otherwise, python will not see recent changes. \n",
    "%load_ext autoreload\n",
    "%autoreload 2\n",
    "\n",
    "# Import your own code\n",
    "# import inauguralproject"
   ]
  },
  {
   "cell_type": "markdown",
   "metadata": {},
   "source": [
    "# Question 1"
   ]
  },
  {
   "cell_type": "code",
   "execution_count": 3,
   "metadata": {},
   "outputs": [],
   "source": [
    "from types import SimpleNamespace\n",
    "\n",
    "class ExchangeEconomyClass:\n",
    "\n",
    "    def __init__(self):\n",
    "\n",
    "        par = self.par = SimpleNamespace()\n",
    "\n",
    "        # a. preferences\n",
    "        par.alpha = 1/3\n",
    "        par.beta = 2/3\n",
    "\n",
    "        # b. endowments\n",
    "        par.w1A = 0.8\n",
    "        par.w2A = 0.3\n",
    "        par.w1B = 1 - par.w1A\n",
    "        par.w2B = 1 - par.w2A\n",
    "\n",
    "    def utility_A(self,x1A,x2A):\n",
    "        par = self.par\n",
    "        util_A = x1A**(par.alpha)*x2A**(1-par.alpha)\n",
    "\n",
    "        return util_A\n",
    "        \n",
    "\n",
    "    def utility_B(self,x1B,x2B):\n",
    "        par = self.par\n",
    "        util_B = x1B**(par.beta)*x2B**(1-par.beta)\n",
    "\n",
    "        return util_B\n",
    "\n",
    "    def demand_A(self,p1):\n",
    "        par = self.par\n",
    "        I_A = p1*par.w1A + par.w2A\n",
    "        x1A_star = par.alpha*((I_A)/(p1))\n",
    "        x2A_star = (1-par.alpha)*I_A\n",
    "\n",
    "        return x1A_star,x2A_star\n",
    "\n",
    "    def demand_B(self,p1):\n",
    "        par = self.par\n",
    "        I_B = p1*par.w1B + par.w2B\n",
    "        x1B_star = par.beta*((I_B)/(p1))\n",
    "        x2B_star = (1-par.beta)*I_B\n",
    "\n",
    "        return x1B_star,x2B_star\n",
    "        \n",
    "\n",
    "    def check_market_clearing(self,p1):\n",
    "\n",
    "        par = self.par\n",
    "\n",
    "        x1A,x2A = self.demand_A(p1)\n",
    "        x1B,x2B = self.demand_B(p1)\n",
    "\n",
    "        eps1 = x1A-par.w1A + x1B-(1-par.w1A)\n",
    "        eps2 = x2A-par.w2A + x2B-(1-par.w2A)\n",
    "\n",
    "        return eps1,eps2"
   ]
  },
  {
   "cell_type": "code",
   "execution_count": 4,
   "metadata": {},
   "outputs": [
    {
     "name": "stdout",
     "output_type": "stream",
     "text": [
      "(0.2866666666666666, 2.8666666666666667)\n",
      "(0.22666666666666663, 0.5666666666666667)\n",
      "(-3.5293910036204856e-06, 3.3333333335772153e-06)\n"
     ]
    }
   ],
   "source": [
    "\n",
    "market = ExchangeEconomyClass()\n",
    "\n",
    "demand_a = market.demand_A(5)\n",
    "print(demand_a)\n",
    "\n",
    "demand_b = market.demand_B(5)\n",
    "print(demand_b)\n",
    "\n",
    "check = market.check_market_clearing(0.94445)\n",
    "\n",
    "print(check)"
   ]
  },
  {
   "cell_type": "code",
   "execution_count": 5,
   "metadata": {},
   "outputs": [
    {
     "name": "stdout",
     "output_type": "stream",
     "text": [
      "0.41601676461038084\n",
      "0.30365889718756617\n",
      "\n",
      "\n",
      "[[nan nan nan ... nan nan nan]\n",
      " [nan nan nan ... nan nan nan]\n",
      " [nan nan nan ... nan nan nan]\n",
      " ...\n",
      " [nan nan nan ... nan nan nan]\n",
      " [nan nan nan ... nan nan nan]\n",
      " [nan nan nan ... nan nan nan]]\n"
     ]
    }
   ],
   "source": [
    "\n",
    "# 1 Lav x1A og x2A fra 0 til 1 med 75 intervallerpunkter\n",
    "N = 150\n",
    "x1A_vec = np.linspace(0,1,N)\n",
    "x2A_vec = np.linspace(0,1,N)\n",
    "utility = np.zeros((N, N))\n",
    "utility[:] = np.nan\n",
    "\n",
    "#print(utility)\n",
    "\n",
    "uA_bar = market.utility_A(market.par.w1A, market.par.w2A)\n",
    "uB_bar = market.utility_B(market.par.w1B, market.par.w2B)\n",
    "print(uA_bar)\n",
    "print(uB_bar)\n",
    "print(\"\\n\")\n",
    "\n",
    "# Lav for loop der kører gennem de to vektorer\n",
    "for i, x1a in enumerate(x1A_vec):\n",
    "      for j, x2a in enumerate(x2A_vec):\n",
    "        uA = market.utility_A(x1a, x2a)\n",
    "        x1b = 1 - x1a\n",
    "        x2b = 1 - x2a\n",
    "        uB = market.utility_B(x1b, x2b)\n",
    "        if uA >= uA_bar and uB >= uB_bar:\n",
    "            utility[i, j] = market.utility_A(x1a, x2a)\n",
    "     \n",
    "print(utility)\n"
   ]
  },
  {
   "cell_type": "code",
   "execution_count": 38,
   "metadata": {},
   "outputs": [
    {
     "name": "stdout",
     "output_type": "stream",
     "text": [
      "[(0.08053691275167785, 0.9463087248322147), (0.08053691275167785, 0.9530201342281879), (0.08053691275167785, 0.959731543624161), (0.08053691275167785, 0.9664429530201342), (0.087248322147651, 0.912751677852349)]\n"
     ]
    }
   ],
   "source": [
    "kombinationer = []\n",
    "\n",
    "for x1a in x1A_vec:\n",
    "      for x2a in x2A_vec:\n",
    "        uA = market.utility_A(x1a, x2a)\n",
    "        x1b = 1 - x1a\n",
    "        x2b = 1 - x2a\n",
    "        uB = market.utility_B(x1b, x2b)\n",
    "        if uA >= uA_bar and uB >= uB_bar:\n",
    "            kombinationer.append((x1a, x2a))\n",
    "\n",
    "\n",
    "print(kombinationer[:5])\n",
    "\n",
    "# Sammenlign utility fra alle kombinationer"
   ]
  },
  {
   "cell_type": "markdown",
   "metadata": {},
   "source": [
    "# Question 1\n",
    "## Basic Edgeworth box"
   ]
  },
  {
   "cell_type": "code",
   "execution_count": 8,
   "metadata": {},
   "outputs": [
    {
     "data": {
      "image/png": "[encoded data removed]",
      "text/plain": [
       "<Figure size 600x600 with 3 Axes>"
      ]
     },
     "metadata": {},
     "output_type": "display_data"
    }
   ],
   "source": [
    "import matplotlib.pyplot as plt\n",
    "plt.rcParams.update({\"axes.grid\":True,\"grid.color\":\"black\",\"grid.alpha\":\"0.25\",\"grid.linestyle\":\"--\"})\n",
    "plt.rcParams.update({'font.size': 14})\n",
    "\n",
    "par = market.par\n",
    "\n",
    "# a. total endowment\n",
    "w1bar = 1.0\n",
    "w2bar = 1.0\n",
    "\n",
    "# b. figure set up\n",
    "fig = plt.figure(frameon=False,figsize=(6,6), dpi=100)\n",
    "ax_A = fig.add_subplot(1, 1, 1)\n",
    "\n",
    "ax_A.set_xlabel(\"$x_1^A$\")\n",
    "ax_A.set_ylabel(\"$x_2^A$\")\n",
    "\n",
    "temp = ax_A.twinx()\n",
    "temp.set_ylabel(\"$x_2^B$\")\n",
    "ax_B = temp.twiny()\n",
    "ax_B.set_xlabel(\"$x_1^B$\")\n",
    "ax_B.invert_xaxis()\n",
    "ax_B.invert_yaxis()\n",
    "\n",
    "# A\n",
    "\n",
    "\n",
    "x1, x2 = zip(*kombinationer)\n",
    "ax_A.scatter(x1,x2,marker='o',color='blue',label='pareto improvements')\n",
    "ax_A.scatter(par.w1A,par.w2A,marker='s',color='black',label='endowment', s = 50)\n",
    "\n",
    "\n",
    "# limits\n",
    "ax_A.plot([0,w1bar],[0,0],lw=2,color='black')\n",
    "ax_A.plot([0,w1bar],[w2bar,w2bar],lw=2,color='black')\n",
    "ax_A.plot([0,0],[0,w2bar],lw=2,color='black')\n",
    "ax_A.plot([w1bar,w1bar],[0,w2bar],lw=2,color='black')\n",
    "\n",
    "ax_A.set_xlim([-0.1, w1bar + 0.1])\n",
    "ax_A.set_ylim([-0.1, w2bar + 0.1])    \n",
    "ax_B.set_xlim([w1bar + 0.1, -0.1])\n",
    "ax_B.set_ylim([w2bar + 0.1, -0.1])\n",
    "\n",
    "ax_A.legend(frameon=True,loc='upper right',bbox_to_anchor=(1.6,1.0));"
   ]
  },
  {
   "cell_type": "code",
   "execution_count": 35,
   "metadata": {},
   "outputs": [
    {
     "name": "stdout",
     "output_type": "stream",
     "text": [
      "[0.5, 0.5266666666666666, 0.5533333333333333, 0.58, 0.6066666666666667, 0.6333333333333333, 0.66, 0.6866666666666666, 0.7133333333333334, 0.74, 0.7666666666666666, 0.7933333333333333, 0.8200000000000001, 0.8466666666666667, 0.8733333333333333, 0.9, 0.9266666666666667, 0.9533333333333334, 0.98, 1.0066666666666668, 1.0333333333333332, 1.06, 1.0866666666666667, 1.1133333333333333, 1.1400000000000001, 1.1666666666666665, 1.1933333333333334, 1.22, 1.2466666666666666, 1.2733333333333334, 1.3, 1.3266666666666667, 1.3533333333333335, 1.38, 1.4066666666666667, 1.4333333333333333, 1.46, 1.4866666666666668, 1.5133333333333334, 1.54, 1.5666666666666667, 1.5933333333333333, 1.62, 1.6466666666666667, 1.6733333333333333, 1.7, 1.7266666666666666, 1.7533333333333334, 1.78, 1.8066666666666666, 1.8333333333333333, 1.86, 1.8866666666666667, 1.9133333333333333, 1.94, 1.9666666666666666, 1.9933333333333334, 2.02, 2.046666666666667, 2.0733333333333333, 2.1, 2.126666666666667, 2.1533333333333333, 2.1799999999999997, 2.206666666666667, 2.2333333333333334, 2.26, 2.2866666666666666, 2.3133333333333335, 2.34, 2.3666666666666667, 2.3933333333333335, 2.42, 2.4466666666666668, 2.4733333333333336, 2.5]\n",
      "\n",
      "\n",
      "-0.005594405594405827\n",
      "0.005333333333333523\n",
      "0.9533333333333334\n",
      "\n",
      "\n",
      "(0.011510791366906414, -0.01066666666666638)\n",
      "(-0.005594405594405827, 0.005333333333333523)\n",
      "(-0.0217687074829932, 0.021333333333333537)\n"
     ]
    }
   ],
   "source": [
    "# Question 2\n",
    "\n",
    "# a\n",
    "# Create price vector from 0.5 to 2.5\n",
    "N = 75\n",
    "\n",
    "P_1 = []\n",
    "i = 0\n",
    "P_1.append(0.5)\n",
    "\n",
    "while P_1[i] < 2.5:\n",
    "    i += 1\n",
    "    P_1.append(0.5 + (2*i)/N)\n",
    "\n",
    "print(P_1)\n",
    "print(\"\\n\")\n",
    "\n",
    "# b\n",
    "# Calculate market error for all prices in the price vector\n",
    "e1 = 10\n",
    "e2 = 10\n",
    "\n",
    "for p1 in P_1:\n",
    "    e1_now, e2_now = market.check_market_clearing(p1)\n",
    "    if np.abs(e1_now) < np.abs(e1) and np.abs(e2_now) < np.abs(e2):\n",
    "        e1 = e1_now\n",
    "        e1_best = e1_now\n",
    "        e2 = e2_now\n",
    "        e2_best = e2_now\n",
    "        p1_best = p1\n",
    "\n",
    "# c\n",
    "# Find price which results in smallest error\n",
    "print(e1_best)\n",
    "print(e2_best)\n",
    "print(p1_best)\n",
    "print(\"\\n\")\n",
    "\n",
    "# Checking market error for prices just above and below p1_best\n",
    "print(market.check_market_clearing(0.9266666666666667)) \n",
    "print(market.check_market_clearing(0.9533333333333334))\n",
    "print(market.check_market_clearing(0.98))\n"
   ]
  },
  {
   "cell_type": "code",
   "execution_count": null,
   "metadata": {},
   "outputs": [],
   "source": [
    "\n",
    "\n"
   ]
  }
 ],
 "metadata": {
  "kernelspec": {
   "display_name": "base",
   "language": "python",
   "name": "python3"
  },
  "language_info": {
   "codemirror_mode": {
    "name": "ipython",
    "version": 3
   },
   "file_extension": ".py",
   "mimetype": "text/x-python",
   "name": "python",
   "nbconvert_exporter": "python",
   "pygments_lexer": "ipython3",
   "version": "3.11.7"
  }
 },
 "nbformat": 4,
 "nbformat_minor": 2
}
