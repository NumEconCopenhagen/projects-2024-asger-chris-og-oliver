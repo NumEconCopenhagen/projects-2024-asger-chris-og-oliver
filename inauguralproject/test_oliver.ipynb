{
 "cells": [
  {
   "cell_type": "code",
   "execution_count": 1,
   "metadata": {},
   "outputs": [],
   "source": [
    "import numpy as np\n",
    "\n",
    "# autoreload modules when code is run. Otherwise, python will not see recent changes. \n",
    "%load_ext autoreload\n",
    "%autoreload 2\n",
    "\n",
    "# Import your own code\n",
    "import inauguralproject\n"
   ]
  },
  {
   "cell_type": "code",
   "execution_count": 39,
   "metadata": {},
   "outputs": [],
   "source": [
    "from types import SimpleNamespace\n",
    "\n",
    "# code for solving the model (remember documentation and comments)\n",
    "'''\n",
    "a = np.array([1,2,3])\n",
    "b = inauguralproject.square(a)\n",
    "print(b)\n",
    "'''\n",
    "\n",
    "class ExchangeEconomyClass:\n",
    "\n",
    "    def __init__(self):\n",
    "\n",
    "        par = self.par = SimpleNamespace()\n",
    "\n",
    "        # a. preferences\n",
    "        par.alpha = 1/3\n",
    "        par.beta = 2/3\n",
    "\n",
    "        # b. endowments\n",
    "        par.w1A = 0.8\n",
    "        par.w2A = 0.3\n",
    "        par.w1B = 1-par.w1A\n",
    "        par.w2B = 1-par.w2A\n",
    "\n",
    "    def utility_A(self,x1A,x2A):\n",
    "        par = self.par\n",
    "        util_A = x1A**(par.alpha)*x2A**(1-par.alpha)\n",
    "        print(util_A)\n",
    "        return util_A\n",
    "    \n",
    "    def utility_B(self,x1B,x2B):\n",
    "        par = self.par\n",
    "        util_B = x1B**(par.beta)*x2B**(1-par.beta)\n",
    "        print(util_B)\n",
    "        return util_B\n",
    "    \n",
    "    def demand_A(self,p1):\n",
    "        par = self.par\n",
    "        x1A_star = par.alpha * ((p1*par.w1A+1*par.w2A)/p1)\n",
    "        x2A_star = (1-par.alpha)*((p1*par.w1A+1*par.w2A)/1)\n",
    "        #print(x1A_star,x2A_star)\n",
    "        return x1A_star, x2A_star\n",
    "        \n",
    "    def demand_B(self,p1):\n",
    "        par = self.par\n",
    "        x1B_star = par.beta * ((p1*par.w1B + 1*par.w2B)/p1)\n",
    "        x2B_star = (1-par.beta) * ((p1*par.w1B + 1*par.w2B)/1)\n",
    "        #print(x1B_star, x2B_star)\n",
    "        return x1B_star, x2B_star\n",
    "\n",
    "    def check_market_clearing(self,p1):\n",
    "\n",
    "        par = self.par\n",
    "\n",
    "        x1A,x2A = self.demand_A(p1)\n",
    "        x1B,x2B = self.demand_B(p1)\n",
    "\n",
    "        eps1 = x1A-par.w1A + x1B-(1-par.w1A)\n",
    "        eps2 = x2A-par.w2A + x2B-(1-par.w2A)\n",
    "\n",
    "        return eps1,eps2"
   ]
  },
  {
   "cell_type": "code",
   "execution_count": 42,
   "metadata": {},
   "outputs": [
    {
     "ename": "TypeError",
     "evalue": "utility_A() missing 1 required positional argument: 'x2A'",
     "output_type": "error",
     "traceback": [
      "\u001b[0;31m---------------------------------------------------------------------------\u001b[0m",
      "\u001b[0;31mTypeError\u001b[0m                                 Traceback (most recent call last)",
      "Input \u001b[0;32mIn [42]\u001b[0m, in \u001b[0;36m<cell line: 9>\u001b[0;34m()\u001b[0m\n\u001b[1;32m      9\u001b[0m \u001b[38;5;28;01mfor\u001b[39;00m i,x1a \u001b[38;5;129;01min\u001b[39;00m \u001b[38;5;28menumerate\u001b[39m(x1A_vec):\n\u001b[1;32m     10\u001b[0m     \u001b[38;5;28;01mfor\u001b[39;00m j, x2a \u001b[38;5;129;01min\u001b[39;00m \u001b[38;5;28menumerate\u001b[39m(x2A_vec):\n\u001b[0;32m---> 11\u001b[0m         utility[i,j] \u001b[38;5;241m=\u001b[39m \u001b[43mExchangeEconomyClass\u001b[49m\u001b[38;5;241;43m.\u001b[39;49m\u001b[43mutility_A\u001b[49m\u001b[43m(\u001b[49m\u001b[43mx1a\u001b[49m\u001b[43m,\u001b[49m\u001b[43mx2a\u001b[49m\u001b[43m)\u001b[49m\n",
      "\u001b[0;31mTypeError\u001b[0m: utility_A() missing 1 required positional argument: 'x2A'"
     ]
    }
   ],
   "source": [
    "# \n",
    "N = 75\n",
    "x1A_vec = np.linspace(0,1,N)\n",
    "x2A_vec = np.linspace(0,1,N)\n",
    "utility = np.zeros((75,75))\n",
    "\n",
    "#for i,x in enumerate(x1A_vec), enumerate(x2A_vec):\n",
    "\n",
    "for i,x1a in enumerate(x1A_vec):\n",
    "    for j, x2a in enumerate(x2A_vec):\n",
    "        utility[i,j] = ExchangeEconomyClass.utility_A(x1a,x2a)"
   ]
  },
  {
   "cell_type": "code",
   "execution_count": 35,
   "metadata": {},
   "outputs": [
    {
     "name": "stdout",
     "output_type": "stream",
     "text": [
      "(0.4666666666666666, 0.4666666666666667)\n",
      "(1.0666666666666664, 0.26666666666666666)\n",
      "(-3.5293910036204856e-06, 3.3333333335772153e-06)\n"
     ]
    }
   ],
   "source": [
    "ExchangeEconomy = ExchangeEconomyClass()\n",
    "\n",
    "demand_a = ExchangeEconomy.demand_A(0.5)\n",
    "print(demand_a)\n",
    "\n",
    "demand_b = ExchangeEconomy.demand_B(0.5)\n",
    "print(demand_b)\n",
    "check = ExchangeEconomy.check_market_clearing(0.94445)\n",
    "print(check)"
   ]
  },
  {
   "cell_type": "code",
   "execution_count": null,
   "metadata": {},
   "outputs": [],
   "source": [
    "'''\n",
    "Løse noter\n",
    "git clone\n",
    "\n",
    "\n",
    "præsenter 2’eren i graf-form (75)\n",
    "\n",
    "3. Clearer, når tingene matcher. Minimizes den pris, der minimerer errors’ne.\n",
    "\n",
    "4a.\n",
    " for loop\n",
    "3b.\n",
    "Optimize, og find punkterne derimellem.\n",
    "\n",
    "5a\n",
    "Lave det samme som 4a, men i stedet for p1 bruger vi resultatet oppe i 1’eren.\n",
    "\n",
    "5b\n",
    "Tax inspiration fra 4b, hvor vi ændrer \n",
    "\n",
    "6a\n",
    "det samme igen\n",
    "\n",
    "7 og 8\n",
    "Plot i Wedgeworth box. Find alle ligevægte og plot alle allokeringer (så danner den den klassiske Wedgeworth boks).\n",
    "\n",
    "\n",
    "\n",
    "At opdatere:\n",
    "Vi skriver hvilken ændring vi har lavet. Og trykker commit (under source control). Og så sync changes.\n",
    "- Opdater alt hvad vi har lavet lokalt frem til den centrale mappe.\n",
    "- \n",
    "'''\n",
    "\n",
    "import matplotlib.pyplot as plt\n",
    "plt.rcParams.update({\"axes.grid\":True,\"grid.color\":\"black\",\"grid.alpha\":\"0.25\",\"grid.linestyle\":\"--\"})\n",
    "plt.rcParams.update({'font.size': 14})\n",
    "\n",
    "%load_ext autoreload\n",
    "%autoreload 2\n",
    "\n",
    "\n"
   ]
  }
 ],
 "metadata": {
  "kernelspec": {
   "display_name": "Python 3",
   "language": "python",
   "name": "python3"
  },
  "language_info": {
   "codemirror_mode": {
    "name": "ipython",
    "version": 3
   },
   "file_extension": ".py",
   "mimetype": "text/x-python",
   "name": "python",
   "nbconvert_exporter": "python",
   "pygments_lexer": "ipython3",
   "version": "3.9.12"
  }
 },
 "nbformat": 4,
 "nbformat_minor": 2
}
