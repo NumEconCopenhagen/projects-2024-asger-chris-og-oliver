{
 "cells": [
  {
   "cell_type": "code",
   "execution_count": 1,
   "metadata": {},
   "outputs": [],
   "source": [
    "import numpy as np\n",
    "\n",
    "# autoreload modules when code is run. Otherwise, python will not see recent changes. \n",
    "%load_ext autoreload\n",
    "%autoreload 2\n",
    "\n",
    "# Import your own code\n",
    "import inauguralproject\n"
   ]
  },
  {
   "cell_type": "code",
   "execution_count": 19,
   "metadata": {},
   "outputs": [],
   "source": [
    "from types import SimpleNamespace\n",
    "\n",
    "# code for solving the model (remember documentation and comments)\n",
    "'''\n",
    "a = np.array([1,2,3])\n",
    "b = inauguralproject.square(a)\n",
    "print(b)\n",
    "'''\n",
    "\n",
    "class ExchangeEconomyClass:\n",
    "\n",
    "    def __init__(self):\n",
    "\n",
    "        par = self.par = SimpleNamespace()\n",
    "\n",
    "        # a. preferences\n",
    "        par.alpha = 1/3\n",
    "        par.beta = 2/3\n",
    "\n",
    "        # b. endowments\n",
    "        par.w1A = 0.8\n",
    "        par.w2A = 0.3\n",
    "        par.w1B = 1-par.w1A\n",
    "        par.w2B = 1-par.w2A\n",
    "\n",
    "    def utility_A(self,x1A,x2A):\n",
    "        par = self.par\n",
    "        util_A = x1A**(par.alpha)*x2A**(1-par.alpha)\n",
    "        print(util_A)\n",
    "        return util_A\n",
    "    \n",
    "    def utility_B(self,x1B,x2B):\n",
    "        par = self.par\n",
    "        util_B = x1B**(par.beta)*x2B**(1-par.beta)\n",
    "        print(util_B)\n",
    "        return util_B\n",
    "    \n",
    "    def demand_A(self,p1):\n",
    "        par = self.par\n",
    "        x1A_star = par.alpha * ((p1*par.w1A+1*par.w2A)/p1)\n",
    "        x2A_star = (1-par.alpha)*((p1*par.w1A+1*par.w2A)/1)\n",
    "        print(x1A_star,x2A_star)\n",
    "        return x1A_star, x2A_star\n",
    "        \n",
    "    def demand_B(self,p1):\n",
    "        par = self.par\n",
    "        x1B_star = par.beta * ((p1*par.w1B + 1*par.wB)/p1)\n",
    "        x2B_star = (1-par.beta) * ((p1*par.w1B + 1*par.w2B)/1)\n",
    "        print(x1B_star, x2B_star)\n",
    "        return x1B_star, x2B_star\n",
    "\n",
    "    def check_market_clearing(self,p1):\n",
    "\n",
    "        par = self.par\n",
    "\n",
    "        x1A,x2A = self.demand_A(p1)\n",
    "        x1B,x2B = self.demand_B(p1)\n",
    "\n",
    "        eps1 = x1A-par.w1A + x1B-(1-par.w1A)\n",
    "        eps2 = x2A-par.w2A + x2B-(1-par.w2A)\n",
    "\n",
    "        return eps1,eps2"
   ]
  },
  {
   "cell_type": "code",
   "execution_count": 21,
   "metadata": {},
   "outputs": [
    {
     "name": "stdout",
     "output_type": "stream",
     "text": [
      "0.2866666666666666 2.8666666666666667\n"
     ]
    },
    {
     "ename": "AttributeError",
     "evalue": "'types.SimpleNamespace' object has no attribute 'wB'",
     "output_type": "error",
     "traceback": [
      "\u001b[0;31m---------------------------------------------------------------------------\u001b[0m",
      "\u001b[0;31mAttributeError\u001b[0m                            Traceback (most recent call last)",
      "Input \u001b[0;32mIn [21]\u001b[0m, in \u001b[0;36m<cell line: 5>\u001b[0;34m()\u001b[0m\n\u001b[1;32m      1\u001b[0m ExchangeEconomy \u001b[38;5;241m=\u001b[39m ExchangeEconomyClass()\n\u001b[1;32m      3\u001b[0m utility_a \u001b[38;5;241m=\u001b[39m ExchangeEconomy\u001b[38;5;241m.\u001b[39mdemand_A(\u001b[38;5;241m5\u001b[39m)\n\u001b[0;32m----> 5\u001b[0m utility_b \u001b[38;5;241m=\u001b[39m \u001b[43mExchangeEconomy\u001b[49m\u001b[38;5;241;43m.\u001b[39;49m\u001b[43mdemand_B\u001b[49m\u001b[43m(\u001b[49m\u001b[38;5;241;43m5\u001b[39;49m\u001b[43m)\u001b[49m\n",
      "Input \u001b[0;32mIn [19]\u001b[0m, in \u001b[0;36mExchangeEconomyClass.demand_B\u001b[0;34m(self, p1)\u001b[0m\n\u001b[1;32m     45\u001b[0m \u001b[38;5;28;01mdef\u001b[39;00m \u001b[38;5;21mdemand_B\u001b[39m(\u001b[38;5;28mself\u001b[39m,p1):\n\u001b[1;32m     46\u001b[0m     par \u001b[38;5;241m=\u001b[39m \u001b[38;5;28mself\u001b[39m\u001b[38;5;241m.\u001b[39mpar\n\u001b[0;32m---> 47\u001b[0m     x1B_star \u001b[38;5;241m=\u001b[39m par\u001b[38;5;241m.\u001b[39mbeta \u001b[38;5;241m*\u001b[39m ((p1\u001b[38;5;241m*\u001b[39mpar\u001b[38;5;241m.\u001b[39mw1B \u001b[38;5;241m+\u001b[39m \u001b[38;5;241m1\u001b[39m\u001b[38;5;241m*\u001b[39m\u001b[43mpar\u001b[49m\u001b[38;5;241;43m.\u001b[39;49m\u001b[43mwB\u001b[49m)\u001b[38;5;241m/\u001b[39mp1)\n\u001b[1;32m     48\u001b[0m     x2B_star \u001b[38;5;241m=\u001b[39m (\u001b[38;5;241m1\u001b[39m\u001b[38;5;241m-\u001b[39mpar\u001b[38;5;241m.\u001b[39mbeta) \u001b[38;5;241m*\u001b[39m ((p1\u001b[38;5;241m*\u001b[39mpar\u001b[38;5;241m.\u001b[39mw1B \u001b[38;5;241m+\u001b[39m \u001b[38;5;241m1\u001b[39m\u001b[38;5;241m*\u001b[39mpar\u001b[38;5;241m.\u001b[39mw2B)\u001b[38;5;241m/\u001b[39m\u001b[38;5;241m1\u001b[39m)\n\u001b[1;32m     49\u001b[0m     \u001b[38;5;28mprint\u001b[39m(x1B_star, x2B_star)\n",
      "\u001b[0;31mAttributeError\u001b[0m: 'types.SimpleNamespace' object has no attribute 'wB'"
     ]
    }
   ],
   "source": [
    "ExchangeEconomy = ExchangeEconomyClass()\n",
    "\n",
    "utility_a = ExchangeEconomy.demand_A(5)\n",
    "\n",
    "utility_b = ExchangeEconomy.demand_B(5)\n"
   ]
  },
  {
   "cell_type": "code",
   "execution_count": null,
   "metadata": {},
   "outputs": [],
   "source": [
    "'''\n",
    "Løse noter\n",
    "git clone\n",
    "\n",
    "\n",
    "præsenter 2’eren i graf-form (75)\n",
    "\n",
    "3. Clearer, når tingene matcher. Minimizes den pris, der minimerer errors’ne.\n",
    "\n",
    "4a.\n",
    " for loop\n",
    "3b.\n",
    "Optimize, og find punkterne derimellem.\n",
    "\n",
    "5a\n",
    "Lave det samme som 4a, men i stedet for p1 bruger vi resultatet oppe i 1’eren.\n",
    "\n",
    "5b\n",
    "Tax inspiration fra 4b, hvor vi ændrer \n",
    "\n",
    "6a\n",
    "det samme igen\n",
    "\n",
    "7 og 8\n",
    "Plot i Wedgeworth box. Find alle ligevægte og plot alle allokeringer (så danner den den klassiske Wedgeworth boks).\n",
    "\n",
    "\n",
    "\n",
    "At opdatere:\n",
    "Vi skriver hvilken ændring vi har lavet. Og trykker commit (under source control). Og så sync changes.\n",
    "- Opdater alt hvad vi har lavet lokalt frem til den centrale mappe.\n",
    "- \n",
    "'''\n",
    "\n",
    "import matplotlib.pyplot as plt\n",
    "plt.rcParams.update({\"axes.grid\":True,\"grid.color\":\"black\",\"grid.alpha\":\"0.25\",\"grid.linestyle\":\"--\"})\n",
    "plt.rcParams.update({'font.size': 14})\n",
    "\n",
    "%load_ext autoreload\n",
    "%autoreload 2\n",
    "\n",
    "\n"
   ]
  }
 ],
 "metadata": {
  "kernelspec": {
   "display_name": "Python 3",
   "language": "python",
   "name": "python3"
  },
  "language_info": {
   "codemirror_mode": {
    "name": "ipython",
    "version": 3
   },
   "file_extension": ".py",
   "mimetype": "text/x-python",
   "name": "python",
   "nbconvert_exporter": "python",
   "pygments_lexer": "ipython3",
   "version": "3.9.12"
  }
 },
 "nbformat": 4,
 "nbformat_minor": 2
}
