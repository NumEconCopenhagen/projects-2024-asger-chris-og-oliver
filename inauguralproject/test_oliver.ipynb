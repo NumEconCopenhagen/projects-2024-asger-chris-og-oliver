{
 "cells": [
  {
   "cell_type": "code",
   "execution_count": null,
   "metadata": {},
   "outputs": [],
   "source": [
    "'''\n",
    "git clone\n",
    "\n",
    "\n",
    "præsenter 2’eren i graf-form (75)\n",
    "\n",
    "3. Clearer, når tingene matcher. Minimizes den pris, der minimerer errors’ne.\n",
    "\n",
    "4a.\n",
    " for loop\n",
    "3b.\n",
    "Optimize, og find punkterne derimellem.\n",
    "\n",
    "5a\n",
    "Lave det samme som 4a, men i stedet for p1 bruger vi resultatet oppe i 1’eren.\n",
    "\n",
    "5b\n",
    "Tax inspiration fra 4b, hvor vi ændrer \n",
    "\n",
    "6a\n",
    "det samme igen\n",
    "\n",
    "7 og 8\n",
    "Plot i Wedgeworth box. Find alle ligevægte og plot alle allokeringer (så danner den den klassiske Wedgeworth boks).\n",
    "\n",
    "\n",
    "\n",
    "At opdatere:\n",
    "Vi skriver hvilken ændring vi har lavet. Og trykker commit (under source control). Og så sync changes.\n",
    "- Opdater alt hvad vi har lavet lokalt frem til den centrale mappe.\n",
    "- \n",
    "'''\n"
   ]
  }
 ],
 "metadata": {
  "language_info": {
   "name": "python"
  }
 },
 "nbformat": 4,
 "nbformat_minor": 2
}
