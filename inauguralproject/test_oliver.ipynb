{
 "cells": [
  {
   "cell_type": "code",
   "execution_count": 1,
   "metadata": {},
   "outputs": [],
   "source": [
    "import numpy as np\n",
    "\n",
    "# autoreload modules when code is run. Otherwise, python will not see recent changes. \n",
    "%load_ext autoreload\n",
    "%autoreload 2\n",
    "\n",
    "# Import your own code\n",
    "import inauguralproject\n"
   ]
  },
  {
   "cell_type": "code",
   "execution_count": 8,
   "metadata": {},
   "outputs": [
    {
     "name": "stdout",
     "output_type": "stream",
     "text": [
      "[1 4 9]\n"
     ]
    }
   ],
   "source": [
    "# code for solving the model (remember documentation and comments)\n",
    "\n",
    "a = np.array([1,2,3])\n",
    "b = inauguralproject.square(a)\n",
    "print(b)\n",
    "\n",
    "class ExchangeEconomyClass:\n",
    "\n",
    "    def __init__(self):\n",
    "\n",
    "        par = self.par = SimpleNamespace()\n",
    "\n",
    "        # a. preferences\n",
    "        par.alpha = 1/3\n",
    "        par.beta = 2/3\n",
    "\n",
    "        # b. endowments\n",
    "        par.w1A = 0.8\n",
    "        par.w2A = 0.3\n",
    "        par.W1B = 1-par.W1A\n",
    "        par.W2B = 1-par.W2A\n",
    "\n",
    "    def utility_A(self,x1A,x2A):\n",
    "        par = self.par\n",
    "        util_A = x1A**(par.alpha)*x2A**(1-par.alpha)\n",
    "        print(util_A)\n",
    "    \n",
    "    def utility_B(self,x1B,x2B):\n",
    "        par = self.par\n",
    "        util_B = x2B**(par.beta)*x2B**(1-par.beta)\n",
    "        print(util_B)\n",
    "    \n",
    "    def demand_A(self,p1):\n",
    "        demand_A = self.par.alpha * ((p1*self.par.W1A+1*self.par.W2A)/1)\n",
    "        print(demand_A)\n",
    "\n",
    "    def demand_B(self,p1):\n",
    "        pass\n",
    "\n",
    "    def check_market_clearing(self,p1):\n",
    "\n",
    "        par = self.par\n",
    "\n",
    "        x1A,x2A = self.demand_A(p1)\n",
    "        x1B,x2B = self.demand_B(p1)\n",
    "\n",
    "        eps1 = x1A-par.w1A + x1B-(1-par.w1A)\n",
    "        eps2 = x2A-par.w2A + x2B-(1-par.w2A)\n",
    "\n",
    "        return eps1,eps2"
   ]
  },
  {
   "cell_type": "code",
   "execution_count": null,
   "metadata": {},
   "outputs": [],
   "source": [
    "'''\n",
    "git clone\n",
    "\n",
    "\n",
    "præsenter 2’eren i graf-form (75)\n",
    "\n",
    "3. Clearer, når tingene matcher. Minimizes den pris, der minimerer errors’ne.\n",
    "\n",
    "4a.\n",
    " for loop\n",
    "3b.\n",
    "Optimize, og find punkterne derimellem.\n",
    "\n",
    "5a\n",
    "Lave det samme som 4a, men i stedet for p1 bruger vi resultatet oppe i 1’eren.\n",
    "\n",
    "5b\n",
    "Tax inspiration fra 4b, hvor vi ændrer \n",
    "\n",
    "6a\n",
    "det samme igen\n",
    "\n",
    "7 og 8\n",
    "Plot i Wedgeworth box. Find alle ligevægte og plot alle allokeringer (så danner den den klassiske Wedgeworth boks).\n",
    "\n",
    "\n",
    "\n",
    "At opdatere:\n",
    "Vi skriver hvilken ændring vi har lavet. Og trykker commit (under source control). Og så sync changes.\n",
    "- Opdater alt hvad vi har lavet lokalt frem til den centrale mappe.\n",
    "- \n",
    "'''\n",
    "\n",
    "import matplotlib.pyplot as plt\n",
    "plt.rcParams.update({\"axes.grid\":True,\"grid.color\":\"black\",\"grid.alpha\":\"0.25\",\"grid.linestyle\":\"--\"})\n",
    "plt.rcParams.update({'font.size': 14})\n",
    "\n",
    "%load_ext autoreload\n",
    "%autoreload 2\n",
    "\n",
    "\n"
   ]
  }
 ],
 "metadata": {
  "kernelspec": {
   "display_name": "Python 3",
   "language": "python",
   "name": "python3"
  },
  "language_info": {
   "codemirror_mode": {
    "name": "ipython",
    "version": 3
   },
   "file_extension": ".py",
   "mimetype": "text/x-python",
   "name": "python",
   "nbconvert_exporter": "python",
   "pygments_lexer": "ipython3",
   "version": "3.9.12"
  }
 },
 "nbformat": 4,
 "nbformat_minor": 2
}
