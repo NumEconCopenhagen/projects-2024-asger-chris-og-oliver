{
 "cells": [
  {
   "cell_type": "markdown",
   "metadata": {},
   "source": [
    "**Table of contents**<a id='toc0_'></a>    \n",
    "- 1. [AS-AD for an open economy](#toc1_)    \n",
    "- 2. [Analytical solution](#toc2_)    \n",
    "- 3. [Numerical solution and calibration of model](#toc3_)    \n",
    "- 4. [Further analysis (ideas)](#toc4_)    \n",
    "- 5. [Conclusion](#toc5_)    \n"
   ]
  },
  {
   "cell_type": "code",
   "execution_count": 2,
   "metadata": {},
   "outputs": [],
   "source": [
    "import numpy as np\n",
    "import matplotlib.pyplot as plt\n",
    "plt.rcParams.update({\"axes.grid\":True,\"grid.color\":\"black\",\"grid.alpha\":\"0.25\",\"grid.linestyle\":\"--\"})\n",
    "plt.rcParams.update({'font.size': 14})\n",
    "\n",
    "from scipy import optimize\n",
    "\n",
    "import sympy as sm\n",
    "from IPython.display import display"
   ]
  },
  {
   "cell_type": "markdown",
   "metadata": {},
   "source": [
    "## 2. <a id='toc2_'></a>[Setup](#toc0_)"
   ]
  },
  {
   "cell_type": "markdown",
   "metadata": {},
   "source": [
    "1. AS-AD in open economy\n",
    "2. Analytical solution\n",
    "3. Numerical solution and calibration of model\n",
    "- Simulation of model\n",
    "4. Further analysis (ideas)\n",
    "- Adjustment to equilibrium\n",
    "- Demand vs supply shocks\n",
    "- Long run AS-AD\n",
    "5. Conclusion"
   ]
  },
  {
   "cell_type": "markdown",
   "metadata": {},
   "source": [
    "## 1. <a id='toc1_'></a>[AS-AD for an open economy](#toc0_)\n"
   ]
  },
  {
   "cell_type": "markdown",
   "metadata": {},
   "source": [
    "In our model project, we model two versions of the AS-AD model for an small, open economy, the first version being with fixed exchange rates and the second version being with floating exchange rates. The model equations are given by the following:"
   ]
  },
  {
   "cell_type": "markdown",
   "metadata": {},
   "source": [
    "\n",
    "1. **AD-curve:** $$y_{t}-\\bar{y} = \\beta_1 (e^r_{t-1}+\\pi^f-\\pi_t) + z_t \\Leftrightarrow$$\n",
    "$$\\pi_t = e^r_{t-1}+\\pi^f-\\frac{1}{\\beta_1}(y_t-\\bar{y})+\\frac{z_t}{\\beta_1} $$\n",
    "2. **Short-Run AS curve:** $$\\pi_t = \\pi^f + \\gamma (y_t-\\bar{y}) + s_t$$\n",
    "3. **Real Exchange rate:** $$ e^r_t = e^r_{t-1}+\\pi^f-\\pi_t$$\n",
    "4. **Demand shock:** $$z_{t} = \\delta z_{t-1}+x_{t}, x_{t} \\sim N(0,\\sigma_x^2)$$\n",
    "5. **Supply shock:** $$s_{t} = \\omega s_{t-1}+c_{t}, c_{t} \\sim N(0,\\sigma_c^2)$$"
   ]
  },
  {
   "cell_type": "markdown",
   "metadata": {},
   "source": [
    "__The model parameters are:__\n",
    "\n",
    "$\\beta_1$: Measures the responsiveness of the real GDP to the real exchange rate in previous period $e_{t-1}^r$, foreign inflation $\\pi^f$ and domestic inflation $\\pi_t$. \n",
    "\n",
    "$\\pi^f$ Foreign inflation, which is given since we are in a small, open economy, and due to the economy's small size, domestic prices are not big enough to affect the inflation level in the world.\n",
    "\n",
    "$\\gamma$: A parameter crucial for the relation between the output gap and inflation, linking the real economic activity in the output gap with nominal variables (inflation). The higher the $\\gamma$, the greater response in inflation for a given output gap.\n",
    "\n",
    "$\\delta$ and $\\omega$: Captures the persistence of the demand and supply shocks, respectively."
   ]
  },
  {
   "cell_type": "markdown",
   "metadata": {},
   "source": [
    "__The model variables are:__\n",
    "\n",
    "$y_t$: Output, measures real economic activity. $y_t-\\bar{y}$ measures the output gap in the economy, with $\\bar{y}$ denoting natural output, i.e. the output level when the economy is at full employment.\n",
    "\n",
    "$e^r_t$: The (log) real exchange rate, which is given by the real exchange rate in previous period plus the difference in price level in period t ($\\pi^f-\\pi_t$). The real interest rate denotes the price level in the world compared to domestic price levels in the same currency. The interpretation is that $e_t^r$ denotes the real price of 1 unit of a foreign good in units of domestic goods; i.e. a $e_t^r$ of 0.7 means that we can get 0.7 foreign goods in exchange of 1 domestic good. There are effects both ways in regards of $e_t^r$: The higher the $e_t^r$, the domestic economy is more competitive, as foreign goods are relatively more expensive than domestic goods. On the other hand, the higher the $e_t^r$, the less foreign goods we can get in exchange of domestic goods, as domestic goods are relatively cheaper, so our trading capabilities are worse.\n",
    "\n",
    "\n",
    "$\\pi_t$: Inflation level.\n",
    "\n",
    "$z_t$: Demand shock, which is given by (if any) the shock in previous period \"discounted\" with a persistence factor $\\delta$ and a stochastic term $x_t$, which is normally distributed with mean 0 and variance $\\sigma^2_x$.\n",
    "\n",
    "$s_t$: Supply shock which is given by (if any) the shock in previous period \"discounted$ with a persistence factor $\\omega$ and a stochastic term $c_t$, which is normally distributed with mean 0 and variance $\\sigma^2_c$."
   ]
  },
  {
   "cell_type": "markdown",
   "metadata": {},
   "source": [
    "__Model equations:__\n",
    "\n",
    "__The AS curve (3):__\n",
    "\n",
    "The AS curve denotes the aggregate supply function in the economy, modelling a positive relation between inflation in period t, and current outputgab"
   ]
  },
  {
   "cell_type": "markdown",
   "metadata": {},
   "source": [
    "## 2. <a id='toc2_'></a>[Analytical solution](#toc0_)"
   ]
  },
  {
   "cell_type": "markdown",
   "metadata": {},
   "source": [
    "## 3. <a id='toc3_'></a>[Numerical solution and calibration of model](#toc0_)"
   ]
  },
  {
   "cell_type": "code",
   "execution_count": 5,
   "metadata": {},
   "outputs": [
    {
     "name": "stdout",
     "output_type": "stream",
     "text": [
      "The autoreload extension is already loaded. To reload it, use:\n",
      "  %reload_ext autoreload\n"
     ]
    }
   ],
   "source": [
    "%load_ext autoreload\n",
    "%autoreload 2\n",
    "\n",
    "from types import SimpleNamespace\n",
    "import numpy as np\n",
    "from scipy import optimize\n",
    "\n",
    "import matplotlib.pyplot as plt\n",
    "plt.rcParams.update({\"axes.grid\":True,\"grid.color\":\"black\",\"grid.alpha\":\"0.25\",\"grid.linestyle\":\"--\"})\n",
    "plt.rcParams.update({'font.size': 14})\n",
    "\n",
    "from test_oliver import ASADClass "
   ]
  },
  {
   "cell_type": "code",
   "execution_count": null,
   "metadata": {},
   "outputs": [],
   "source": [
    "model = ASADClass()\n",
    "par = model.par\n",
    "sim = model.sim\n",
    "print(f'{par.a = :.4f}')\n",
    "print(f'{par.beta = :.4f}')"
   ]
  },
  {
   "cell_type": "code",
   "execution_count": null,
   "metadata": {},
   "outputs": [],
   "source": [
    "model.simulate()"
   ]
  },
  {
   "cell_type": "code",
   "execution_count": null,
   "metadata": {},
   "outputs": [],
   "source": [
    "simT_fig = 100 # first 100 periods\n",
    "fig = plt.figure()\n",
    "ax = fig.add_subplot(1,1,1)\n",
    "ax.plot(np.arange(simT_fig),sim.y_hat[:simT_fig],label='$\\\\hat{y}_t$')\n",
    "ax.plot(np.arange(simT_fig),sim.pi_hat[:simT_fig],label='$\\\\hat{\\pi}_t$')\n",
    "ax.set_xlabel('time')\n",
    "ax.legend(frameon=True);"
   ]
  },
  {
   "cell_type": "code",
   "execution_count": null,
   "metadata": {},
   "outputs": [],
   "source": [
    "model.calc_moms() # calculate moments from the simulation\n",
    "error = model.calc_diff_to_data(do_print=True) # compares with the data"
   ]
  },
  {
   "cell_type": "markdown",
   "metadata": {},
   "source": [
    "## 4. <a id='toc4_'></a>[Further analysis (ideas)](#toc0_)"
   ]
  },
  {
   "cell_type": "markdown",
   "metadata": {},
   "source": [
    "## 5. <a id='toc5_'></a>[Conclusion](#toc0_)"
   ]
  }
 ],
 "metadata": {
  "kernelspec": {
   "display_name": "base",
   "language": "python",
   "name": "python3"
  },
  "language_info": {
   "codemirror_mode": {
    "name": "ipython",
    "version": 3
   },
   "file_extension": ".py",
   "mimetype": "text/x-python",
   "name": "python",
   "nbconvert_exporter": "python",
   "pygments_lexer": "ipython3",
   "version": "3.9.12"
  }
 },
 "nbformat": 4,
 "nbformat_minor": 2
}
