{
 "cells": [
  {
   "cell_type": "markdown",
   "metadata": {},
   "source": [
    "**Table of contents**<a id='toc0_'></a>    \n",
    "- 1. [AS-AD for an open economy](#toc1_)    \n",
    "- 2. [Analytical solution](#toc2_)    \n",
    "- 3. [Numerical solution and calibration of model](#toc3_)    \n",
    "- 4. [Further analysis (ideas)](#toc4_)    \n",
    "- 5. [Conclusion](#toc5_)    \n"
   ]
  },
  {
   "cell_type": "code",
   "execution_count": 2,
   "metadata": {},
   "outputs": [],
   "source": [
    "import numpy as np\n",
    "import matplotlib.pyplot as plt\n",
    "plt.rcParams.update({\"axes.grid\":True,\"grid.color\":\"black\",\"grid.alpha\":\"0.25\",\"grid.linestyle\":\"--\"})\n",
    "plt.rcParams.update({'font.size': 14})\n",
    "\n",
    "from scipy import optimize\n",
    "\n",
    "import sympy as sm\n",
    "from IPython.display import display"
   ]
  },
  {
   "cell_type": "markdown",
   "metadata": {},
   "source": [
    "## 2. <a id='toc2_'></a>[Setup](#toc0_)"
   ]
  },
  {
   "cell_type": "markdown",
   "metadata": {},
   "source": [
    "1. AS-AD in open economy\n",
    "2. Analytical solution\n",
    "3. Numerical solution and calibration of model\n",
    "- Simulation of model\n",
    "4. Further analysis (ideas)\n",
    "- Adjustment to equilibrium\n",
    "- Demand vs supply shocks\n",
    "- Long run AS-AD\n",
    "5. Conclusion"
   ]
  },
  {
   "cell_type": "markdown",
   "metadata": {},
   "source": [
    "## 1. <a id='toc1_'></a>[AS-AD for an open economy](#toc0_)\n"
   ]
  },
  {
   "cell_type": "markdown",
   "metadata": {},
   "source": [
    "In our model project, we model two versions of the AS-AD model for an small, open economy, the first version being with fixed exchange rates and the second version being with floating exchange rates. The model equations are given by the following:"
   ]
  },
  {
   "cell_type": "markdown",
   "metadata": {},
   "source": [
    "\n",
    "1. **1 - AD-curve under fixed exchange rates:** $$y_{t}-\\bar{y} = \\beta_1 e^r_{t-1}-\\beta_1(\\pi_t-\\pi^f) + z_t \\Leftrightarrow$$\n",
    "$$\\pi_t = e^r_{t-1}+\\pi^f-\\frac{1}{\\beta_1}(y_t-\\bar{y})+\\frac{z_t}{\\beta_1} $$\n",
    "1. **2 - AD-curve under floating exchange rates:** $$y_{t}-\\bar{y} = \\beta_1 e^r_{t-1}-\\hat{\\beta_1}(\\pi_t-\\pi^f) + z_t \\Leftrightarrow$$\n",
    "$$\\pi_t = \\frac{\\beta_1}{\\hat{\\beta_1}} e^r_{t-1}+\\pi^f-\\frac{1}{\\hat{\\beta_1}} (y_t-\\bar{y})+\\frac{z_t}{\\hat{\\beta_1}} $$\n",
    "\n",
    "2. **Short-Run AS curve:** $$\\pi_t = \\pi^f + \\gamma (y_t-\\bar{y}) + s_t$$\n",
    "3. **Real Exchange rate:** $$ e^r_t = e^r_{t-1}+\\pi^f-\\pi_t$$\n",
    "4. **Demand shock:** $$z_{t} = \\delta z_{t-1}+x_{t}, x_{t} \\sim N(0,\\sigma_x^2)$$\n",
    "5. **Supply shock:** $$s_{t} = \\omega s_{t-1}+c_{t}, c_{t} \\sim N(0,\\sigma_c^2)$$"
   ]
  },
  {
   "cell_type": "markdown",
   "metadata": {},
   "source": [
    "__Model equations:__\n",
    "\n",
    "__The AD curve (1):__\n",
    "\n",
    "The Aggregate Demand curve represents the total demand for all goods and services in an economy at different price levels, holding all else constant. The higher the real exchange rate $e^r_{t-1}$, the more expensive it is to buy foreign goods, increasing inflation for a given $e^r_{t-1}$, shifting the AD-curve upwards. The higher the foreign inflation $\\pi^f$, the higher the domestic inflation for a given $\\pi^f$, shifting the AD-curve upwards. If there is a positive demand shock, i.e. the term $\\frac{z_t}{\\beta_1}$, there is a higher demand for a given inflation level, shifting the AD-cruve upwards.\n",
    "\n",
    "Lastly, we turn to the term $-\\frac{1}{\\beta_1}(y_t-\\bar{y})$, which shows that the AD curve is downward-sloping, indicating that lower price levels increase the overall demand for goods and services and vice versa. Why is the AD curve downwards sloping, i.e. why is there a negative correlation between inflation and outputgap in the AD curve? There are a number of factors explaining this, some of the most dynamics being as follows:\n",
    "\n",
    "1) The foreign trade effect. The lower the price level, the cheaper the domestic goods, resulting in an increasing demand for domestic goods and thus a positive output gap as domestic production increases.\n",
    "\n",
    "2) The Wealth effect. The lower the price level, the more goods can be bought for a given amount of wealth, increasing production and output gap.\n",
    "\n",
    "3) The interest rate effect. The higher the price level, the more wealth is needed to buy, goods, increasing the competition for borrowing money, which increases the interest rates. The increased interest rates slows down the economy, resulting in a negative output gap.\n",
    "\n",
    "\n",
    "__The Short-Run AS curve (2):__\n",
    "\n",
    "The AS curve denotes the aggregate supply function in the economy, modelling a positive relation between inflation in period t, and current output gap. The intuition is straightforward: If $\\pi^f$ increases, domestic inflation increases, shifting the AS curve upwards as production becomes more expensive, lowering the supply for a given inflation level. If there is a positive supply shock, $s_t>0$, the AS curve shifts upwards, as the production lowers ???????????????????????????????????????????????????\n",
    "\n",
    "Lastly, the term $\\gamma(y_t-\\bar{y})$ shows that there is a positive relation between outputgap and inflation levels. If price levels in the economy increases, and the costs of production for the producers does not increase at the same rate, there is an incentive to produce more, resulting in a positive output gap. \n",
    "\n",
    "__The Real Exchange Rate (3):__\n",
    "$e^r_t$: The (log) real exchange rate, which is given by the real exchange rate in previous period plus the difference in price level in period t, ($\\pi^f-\\pi_t$). The real interest rate denotes the real price level in the world compared to domestic price levels in the same currency. The interpretation is that $e_t^r$ denotes the real price of 1 unit of a foreign good in units of domestic goods; i.e. a $e_t^r$ of 0.7 means that we can get 0.7 foreign goods in exchange of 1 domestic good. There are effects both ways in regards of $e_t^r$: The higher the $e_t^r$, the domestic economy is more competitive, as foreign goods are relatively more expensive than domestic goods. On the other hand, the higher the $e_t^r$, the less foreign goods we can get in exchange of domestic goods, as domestic goods are relatively cheaper, so our trading capabilities are worse.\n",
    "\n",
    "__The Demand shock (4):__\n",
    "The demand shock is given by a persistence term, $\\delta z_{t-1}$ which is the demand shock in the previous period, indicating that a demand shock gradually converges to 0 as $\\delta<1$. The $c_t$ term is stochastic and normally distributed with mean 0 and variance $\\sigma^2_c$.\n",
    "\n",
    "__The Supply shock (5):__\n",
    "The supply shock is given by a persistence term, $\\omega s_{t-1}$ which is the demand shock in the previous period, indicating that a demand shock gradually converges to 0 as $\\delta<1$. The $x_t$ term is stochastic and normally distributed with mean 0 and variance $\\sigma^2_x$.\n"
   ]
  },
  {
   "cell_type": "markdown",
   "metadata": {},
   "source": [
    "__The model parameters are:__\n",
    "\n",
    "$\\beta_1$: Measures the responsiveness of the real GDP to the real exchange rate in previous period $e_{t-1}^r$, foreign inflation $\\pi^f$ and domestic inflation $\\pi_t$. \n",
    "\n",
    "$\\pi^f$: Foreign inflation, which is given since we are in a small, open economy, and due to the economy's small size, domestic prices are not big enough to affect the inflation level in the world.\n",
    "\n",
    "$\\gamma$: A parameter crucial for the relation between the output gap and inflation, linking the real economic activity in the output gap with nominal variables (inflation). The higher the $\\gamma$, the greater response in inflation for a given output gap.\n",
    "\n",
    "$\\delta$ and $\\omega$: Captures the persistence of the demand and supply shocks, respectively."
   ]
  },
  {
   "cell_type": "markdown",
   "metadata": {},
   "source": [
    "__The model variables are:__\n",
    "\n",
    "$y_t$: Output, measures real economic activity. $y_t-\\bar{y}$ measures the output gap in the economy, with $\\bar{y}$ denoting natural output, i.e. the output level when the economy is at full employment.\n",
    "\n",
    "$e^r_t$: The (log) real exchange rate, which is given by the real exchange rate in previous period plus the difference in price level in period t ($\\pi^f-\\pi_t$).\n",
    "\n",
    "\n",
    "$\\pi_t$: Inflation level.\n",
    "\n",
    "$z_t$: Demand shock, which is given by (if any) the shock in previous period \"discounted\" with a persistence factor $\\delta$ and a stochastic term $x_t$, which is normally distributed with mean 0 and variance $\\sigma^2_x$.\n",
    "\n",
    "$s_t$: Supply shock which is given by (if any) the shock in previous period \"discounted$ with a persistence factor $\\omega$ and a stochastic term $c_t$, which is normally distributed with mean 0 and variance $\\sigma^2_c$."
   ]
  },
  {
   "cell_type": "markdown",
   "metadata": {},
   "source": [
    "## 2. <a id='toc3_'></a>[Numerical solution and calibration of model](#toc0_)"
   ]
  },
  {
   "cell_type": "code",
   "execution_count": 5,
   "metadata": {},
   "outputs": [
    {
     "name": "stdout",
     "output_type": "stream",
     "text": [
      "The autoreload extension is already loaded. To reload it, use:\n",
      "  %reload_ext autoreload\n"
     ]
    }
   ],
   "source": [
    "%load_ext autoreload\n",
    "%autoreload 2\n",
    "\n",
    "from types import SimpleNamespace\n",
    "import numpy as np\n",
    "from scipy import optimize\n",
    "\n",
    "import matplotlib.pyplot as plt\n",
    "plt.rcParams.update({\"axes.grid\":True,\"grid.color\":\"black\",\"grid.alpha\":\"0.25\",\"grid.linestyle\":\"--\"})\n",
    "plt.rcParams.update({'font.size': 14})\n",
    "\n",
    "from test_oliver import ASADClass "
   ]
  },
  {
   "cell_type": "code",
   "execution_count": 11,
   "metadata": {},
   "outputs": [
    {
     "name": "stdout",
     "output_type": "stream",
     "text": [
      "par.a = 0.9995\n",
      "par.beta = 0.9501\n"
     ]
    }
   ],
   "source": [
    "model = ASADClass()\n",
    "par = model.par\n",
    "sim = model.sim\n",
    "print(f'{par.a = :.4f}')\n",
    "print(f'{par.beta = :.4f}')"
   ]
  },
  {
   "cell_type": "code",
   "execution_count": 12,
   "metadata": {},
   "outputs": [],
   "source": [
    "model.simulate()"
   ]
  },
  {
   "cell_type": "markdown",
   "metadata": {},
   "source": [
    "Using the simulate method from ASADClass, we simulate the full model, drawing random shock simulations and drawing output gaps and inflation gaps."
   ]
  },
  {
   "cell_type": "code",
   "execution_count": 14,
   "metadata": {},
   "outputs": [
    {
     "name": "stdout",
     "output_type": "stream",
     "text": [
      "Output Gap: [-0.34190508 -0.92028395 -0.27703537 ...  1.0533306   0.53253729\n",
      "  0.65660191]\n",
      "Inflation Gap: [-0.09491166  0.15806954 -0.16118323 ... -0.31763037 -0.05795044\n",
      " -0.54031556]\n",
      "Demand shocks [-0.40834324 -0.80963527 -0.38986363 ...  0.83098935  0.49197198\n",
      "  0.27838102]\n",
      "Supply shocks [-0.06926878  0.22803995 -0.14104665 ... -0.11824972  0.1808822\n",
      " -0.31299598]\n"
     ]
    }
   ],
   "source": [
    "print(\"Output Gap:\", model.sim.y_hat)\n",
    "print(\"Inflation Gap:\", model.sim.pi_hat)\n",
    "print(\"Demand shocks\", model.sim.z)\n",
    "print(\"Supply shocks\", model.sim.s)"
   ]
  },
  {
   "cell_type": "code",
   "execution_count": 23,
   "metadata": {},
   "outputs": [
    {
     "data": {
      "image/png": "[encoded data removed]",
      "text/plain": [
       "<Figure size 432x288 with 1 Axes>"
      ]
     },
     "metadata": {
      "needs_background": "light"
     },
     "output_type": "display_data"
    }
   ],
   "source": [
    "simT_fig = 100 # first 100 periods\n",
    "fig = plt.figure() #Creates new figure\n",
    "ax = fig.add_subplot(1,1,1) #One subplot in a 1 row by 1 column. This is the first subplot.\n",
    "ax.plot(np.arange(simT_fig),sim.y_hat[:simT_fig],label='$\\\\hat{y}_t$') #np.arrange(simT_fig) generates an array of integers from 0 t0 100, serving as the time axis.\n",
    "ax.plot(np.arange(simT_fig),sim.pi_hat[:simT_fig],label='$\\\\hat{\\pi}_t$') #Second plot; inflation deviations.\n",
    "ax.set_xlabel('time') #label on x-axis is \"time\"\n",
    "ax.legend(frameon=True); #adds legends to the plot, helps identifying each line plot with its corresponding label. \"Frameon=True\" ensures that the legend has a frame."
   ]
  },
  {
   "cell_type": "code",
   "execution_count": 9,
   "metadata": {},
   "outputs": [
    {
     "name": "stdout",
     "output_type": "stream",
     "text": [
      "std_y       | data = 1.6400, model = 1.5748\n",
      "std_pi      | data = 0.2100, model = 0.2442\n",
      "corr_y_pi   | data = 0.3100, model = 0.4263\n",
      "autocorr_y  | data = 0.8400, model = 0.7905\n",
      "autocorr_pi | data = 0.4800, model = 0.4319\n",
      "error =   0.02372299\n"
     ]
    }
   ],
   "source": [
    "model.calc_moms() # calculate moments from the simulation\n",
    "error = model.calc_diff_to_data(do_print=True) # compares with the data"
   ]
  },
  {
   "cell_type": "markdown",
   "metadata": {},
   "source": [
    "## 4. <a id='toc4_'></a>[Further analysis (ideas)](#toc0_)"
   ]
  },
  {
   "cell_type": "markdown",
   "metadata": {},
   "source": [
    "Fast og flydende valutakurs, asgers grafer."
   ]
  },
  {
   "cell_type": "markdown",
   "metadata": {},
   "source": [
    "## 5. <a id='toc5_'></a>[Conclusion](#toc0_)"
   ]
  }
 ],
 "metadata": {
  "kernelspec": {
   "display_name": "base",
   "language": "python",
   "name": "python3"
  },
  "language_info": {
   "codemirror_mode": {
    "name": "ipython",
    "version": 3
   },
   "file_extension": ".py",
   "mimetype": "text/x-python",
   "name": "python",
   "nbconvert_exporter": "python",
   "pygments_lexer": "ipython3",
   "version": "3.9.12"
  }
 },
 "nbformat": 4,
 "nbformat_minor": 2
}
