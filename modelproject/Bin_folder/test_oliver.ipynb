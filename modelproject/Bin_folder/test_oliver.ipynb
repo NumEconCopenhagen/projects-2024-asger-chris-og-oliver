{
 "cells": [
  {
   "cell_type": "markdown",
   "metadata": {},
   "source": [
    "**Table of contents**<a id='toc0_'></a>    \n",
    "- 1. [AS-AD for an open economy](#toc1_)    \n",
    "- 2. [Analytical solution](#toc2_)    \n",
    "- 3. [Numerical solution and calibration of model](#toc3_)    \n",
    "- 4. [Further analysis (ideas)](#toc4_)    \n",
    "- 5. [Conclusion](#toc5_)    \n"
   ]
  },
  {
   "cell_type": "code",
   "execution_count": 40,
   "metadata": {},
   "outputs": [],
   "source": [
    "import numpy as np\n",
    "import matplotlib.pyplot as plt\n",
    "plt.rcParams.update({\"axes.grid\":True,\"grid.color\":\"black\",\"grid.alpha\":\"0.25\",\"grid.linestyle\":\"--\"})\n",
    "plt.rcParams.update({'font.size': 14})\n",
    "\n",
    "from scipy import optimize\n",
    "\n",
    "import sympy as sm\n",
    "from IPython.display import display"
   ]
  },
  {
   "cell_type": "markdown",
   "metadata": {},
   "source": [
    "## 2. <a id='toc2_'></a>[Setup](#toc0_)"
   ]
  },
  {
   "cell_type": "markdown",
   "metadata": {},
   "source": [
    "1. AS-AD in open economy\n",
    "2. Analytical solution\n",
    "3. Numerical solution and calibration of model\n",
    "- Simulation of model\n",
    "4. Further analysis (ideas)\n",
    "- Adjustment to equilibrium\n",
    "- Demand vs supply shocks\n",
    "- Long run AS-AD\n",
    "5. Conclusion"
   ]
  },
  {
   "cell_type": "markdown",
   "metadata": {},
   "source": [
    "## 1. <a id='toc1_'></a>[AS-AD for an open economy](#toc0_)\n"
   ]
  },
  {
   "cell_type": "markdown",
   "metadata": {},
   "source": [
    "In our model project, we model two versions of the AS-AD model for an small, open economy, the first version being with fixed exchange rates and the second version being with floating exchange rates. The model equations are given by the following:"
   ]
  },
  {
   "cell_type": "markdown",
   "metadata": {},
   "source": [
    "Firstly, we define **output and inflation gaps**:\n",
    "\n",
    "\n",
    "1. **Output gap:** $$\\hat{y}_{t} = y_t-\\bar{y}$$\n",
    "2. **Inflation gap:** $$\\hat{\\pi}_{t} = \\pi_t-\\pi^{\\ast}$$"
   ]
  },
  {
   "cell_type": "markdown",
   "metadata": {},
   "source": [
    "The model equations are given by the following:\n",
    "1. **1 - AD-curve under fixed exchange rates:** $$y_{t}-\\bar{y} = \\beta_1 e^r_{t-1}-\\beta_1(\\pi_t-\\pi^f) + z_t \\Leftrightarrow$$\n",
    "$$\\pi_t = e^r_{t-1}+\\pi^f-\\frac{1}{\\beta_1}(y_t-\\bar{y})+\\frac{z_t}{\\beta_1} $$\n",
    "1. **2 - AD-curve under floating exchange rates:** $$y_{t}-\\bar{y} = \\beta_1 e^r_{t-1}-\\hat{\\beta_1}(\\pi_t-\\pi^f) + z_t \\Leftrightarrow$$\n",
    "$$\\pi_t = \\frac{\\beta_1}{\\hat{\\beta_1}} e^r_{t-1}+\\pi^f-\\frac{1}{\\hat{\\beta_1}} (y_t-\\bar{y})+\\frac{z_t}{\\hat{\\beta_1}} $$\n",
    "$$where\\  \\hat\\beta_1 = \\beta_1 + h\\left(\\frac{\\beta_1}{\\theta}+\\beta_2\\right)>\\beta_1$$\n",
    "\n",
    "2. **Short-Run AS curve:** $$\\pi_t = \\pi^f + \\gamma (y_t-\\bar{y}) + s_t$$\n",
    "3. **Real Exchange rate:** $$ e^r_t = e^r_{t-1}+\\pi^f-\\pi_t$$\n",
    "4. **Demand shock:** $$z_{t} = \\delta z_{t-1}+x_{t}, x_{t} \\sim N(0,\\sigma_x^2)$$\n",
    "5. **Supply shock:** $$s_{t} = \\omega s_{t-1}+c_{t}, c_{t} \\sim N(0,\\sigma_c^2)$$\n",
    "\n",
    "It can be seen above that the economy with a fixed and floating exchange rate are equal when h = 0, as then $\\hat\\beta_1 = \\beta_1$"
   ]
  },
  {
   "cell_type": "markdown",
   "metadata": {},
   "source": [
    "__Model equations:__\n",
    "\n",
    "__The AD curve (1):__\n",
    "\n",
    "The Aggregate Demand curve represents the total demand for all goods and services in an economy at different price levels, holding all else constant. The higher the real exchange rate $e^r_{t-1}$, the more expensive it is to buy foreign goods, increasing inflation for a given $e^r_{t-1}$, shifting the AD-curve upwards. The higher the foreign inflation $\\pi^f$, the higher the domestic inflation for a given $\\pi^f$, shifting the AD-curve upwards. If there is a positive demand shock, i.e. the term $\\frac{z_t}{\\beta_1}$, there is a higher demand for a given inflation level, shifting the AD-cruve upwards.\n",
    "\n",
    "Lastly, we turn to the term $-\\frac{1}{\\beta_1}(y_t-\\bar{y})$, which shows that the AD curve is downward-sloping, indicating that lower price levels increase the overall demand for goods and services and vice versa. Why is the AD curve downwards sloping, i.e. why is there a negative correlation between inflation and outputgap in the AD curve? There are a number of factors explaining this, some of the most dynamics being as follows:\n",
    "\n",
    "1) The foreign trade effect. The lower the price level, the cheaper the domestic goods, resulting in an increasing demand for domestic goods and thus a positive output gap as domestic production increases.\n",
    "\n",
    "2) The Wealth effect. The lower the price level, the more goods can be bought for a given amount of wealth, increasing production and output gap.\n",
    "\n",
    "3) The interest rate effect. The higher the price level, the more wealth is needed to buy, goods, increasing the competition for borrowing money, which increases the interest rates. The increased interest rates slows down the economy, resulting in a negative output gap.\n",
    "\n",
    "\n",
    "__The Short-Run AS curve (2):__\n",
    "\n",
    "The AS curve denotes the aggregate supply function in the economy, modelling a positive relation between inflation in period t, and current output gap. The intuition is straightforward: If $\\pi^f$ increases, domestic inflation increases, shifting the AS curve upwards as production becomes more expensive, lowering the supply for a given inflation level. If there is a positive supply shock, $s_t>0$, the AS curve shifts upwards, as the production lowers ???????????????????????????????????????????????????\n",
    "\n",
    "Lastly, the term $\\gamma(y_t-\\bar{y})$ shows that there is a positive relation between outputgap and inflation levels. If price levels in the economy increases, and the costs of production for the producers does not increase at the same rate, there is an incentive to produce more, resulting in a positive output gap. \n",
    "\n",
    "__The Real Exchange Rate (3):__\n",
    "$e^r_t$: The (log) real exchange rate, which is given by the real exchange rate in previous period plus the difference in price level in period t, ($\\pi^f-\\pi_t$). The real interest rate denotes the real price level in the world compared to domestic price levels in the same currency. The interpretation is that $e_t^r$ denotes the real price of 1 unit of a foreign good in units of domestic goods; i.e. a $e_t^r$ of 0.7 means that we can get 0.7 foreign goods in exchange of 1 domestic good. There are effects both ways in regards of $e_t^r$: The higher the $e_t^r$, the domestic economy is more competitive, as foreign goods are relatively more expensive than domestic goods. On the other hand, the higher the $e_t^r$, the less foreign goods we can get in exchange of domestic goods, as domestic goods are relatively cheaper, so our trading capabilities are worse.\n",
    "\n",
    "__The Demand shock (4):__\n",
    "The demand shock is given by a persistence term, $\\delta z_{t-1}$ which is the demand shock in the previous period, indicating that a demand shock gradually converges to 0 as $\\delta<1$. The $c_t$ term is stochastic and normally distributed with mean 0 and variance $\\sigma^2_c$.\n",
    "\n",
    "__The Supply shock (5):__\n",
    "The supply shock is given by a persistence term, $\\omega s_{t-1}$ which is the demand shock in the previous period, indicating that a demand shock gradually converges to 0 as $\\delta<1$. The $x_t$ term is stochastic and normally distributed with mean 0 and variance $\\sigma^2_x$.\n"
   ]
  },
  {
   "cell_type": "markdown",
   "metadata": {},
   "source": [
    "__The model parameters are:__\n",
    "\n",
    "$\\beta_1$: Measures the responsiveness of the real GDP to the real exchange rate in previous period $e_{t-1}^r$, foreign inflation $\\pi^f$ and domestic inflation $\\pi_t$. \n",
    "\n",
    "$\\pi^f$: Foreign inflation, which is given since we are in a small, open economy, and due to the economy's small size, domestic prices are not big enough to affect the inflation level in the world.\n",
    "\n",
    "$\\gamma$: A parameter crucial for the relation between the output gap and inflation, linking the real economic activity in the output gap with nominal variables (inflation). The higher the $\\gamma$, the greater response in inflation for a given output gap.\n",
    "\n",
    "$\\delta$ and $\\omega$: Captures the persistence of the demand and supply shocks, respectively."
   ]
  },
  {
   "cell_type": "markdown",
   "metadata": {},
   "source": [
    "__The model variables are:__\n",
    "\n",
    "$y_t$: Output, measures real economic activity. $y_t-\\bar{y}$ measures the output gap in the economy, with $\\bar{y}$ denoting natural output, i.e. the output level when the economy is at full employment.\n",
    "\n",
    "$e^r_t$: The (log) real exchange rate, which is given by the real exchange rate in previous period plus the difference in price level in period t ($\\pi^f-\\pi_t$).\n",
    "\n",
    "\n",
    "$\\pi_t$: Inflation level.\n",
    "\n",
    "$z_t$: Demand shock, which is given by (if any) the shock in previous period \"discounted\" with a persistence factor $\\delta$ and a stochastic term $x_t$, which is normally distributed with mean 0 and variance $\\sigma^2_x$.\n",
    "\n",
    "$s_t$: Supply shock which is given by (if any) the shock in previous period \"discounted$ with a persistence factor $\\omega$ and a stochastic term $c_t$, which is normally distributed with mean 0 and variance $\\sigma^2_c$."
   ]
  },
  {
   "cell_type": "markdown",
   "metadata": {},
   "source": [
    "## 2. <a id='toc1_'></a>[Analytical Solution](#toc0_)\n"
   ]
  },
  {
   "cell_type": "markdown",
   "metadata": {},
   "source": [
    "## The floating exchange rate economy\n",
    "The model can be rewritten by firstly inserting AS in AD and isolating for $e_{t-1}^r$:\n",
    "\n",
    "$$\n",
    "\\hat{y}_t = \\beta_1 e_{t-1}^r - \\hat\\beta_1 \\gamma \\hat{y}_t - \\hat\\beta_1 s_t + z_t \\Leftrightarrow $$\n",
    "\n",
    "\n",
    "$$\n",
    "e_{t-1}^r = \\frac{1+\\hat\\beta_1 \\gamma}{\\beta_1} \\hat{y}_t + \\frac{\\hat\\beta_1}{\\beta} s_{t}-\\frac{1}{\\beta_1} z_t\n",
    "$$\n",
    "\n",
    "Inserting this in the exchange rate as well as AS we have:\n",
    "\n",
    "$$\n",
    "\\frac{1+\\hat\\beta_1 \\gamma}{\\beta_1} \\hat{y}_{t} + \\frac{\\hat\\beta_1}{\\beta} s_{t} - \\frac{1}{\\beta_1} z_{t} = \\frac{1+\\hat\\beta_1 \\gamma}{\\beta_1} \\hat{y}_{t-1} + \\frac{\\hat\\beta_1}{\\beta_1} s_{t-1} - \\frac{1}{\\beta_1} z_{t-1} - \\gamma \\hat{y}_{t-1} - s_{t-1} \\Leftrightarrow\n",
    "$$\n",
    "\n",
    "$$\n",
    "\\frac{1+\\hat\\beta_1 \\gamma}{\\beta_1} \\hat{y}_{t} = \\frac{1+\\gamma(\\hat\\beta_1-\\beta_1)}{\\beta_1} \\hat{y}_{t-1} + \\frac{1}{\\beta_1} (z_{t} - z_{t-1}) -\\frac{\\hat\\beta_1}{\\beta_1} \\left(s_{t}-s_{t-1}\\left(1-\\frac{\\beta_1}{\\hat\\beta_1}\\right)\\right) \\Leftrightarrow\n",
    "$$\n",
    "\n",
    "$$\n",
    "\\hat{y}_t = a(1+b)\\hat{y}_{t-1} + a(z_t - z_{t-1}) - a\\left(\\hat\\beta_1 s_{t}-s_{t-1}({\\hat\\beta_1-\\beta_1})\\right) \\quad \\text{(*)}\n",
    "$$\n",
    "\n",
    "Repeating the same steps for the inflation gap gives:\n",
    "\n",
    "$$\n",
    "\\hat{\\pi}_t = a(1+b)\\hat{\\pi}_{t-1} + a (s_t - s_{t-1}) + a\\gamma(z_t - z_{t-1}) \\quad \\text{(**)}\n",
    "$$\n",
    "\n",
    "where \n",
    "\n",
    "$$\n",
    "a = \\frac{1}{1+\\beta_1 \\gamma}\n",
    "$$\n",
    "$$\n",
    "b = \\gamma(\\hat\\beta_1-\\beta_1)\n",
    "$$\n",
    "\n"
   ]
  },
  {
   "cell_type": "markdown",
   "metadata": {},
   "source": [
    "## The fixed exchange rate economy\n",
    "The model for the fixed exchange rate is a special case of the floating exchange rate economy, which is found by setting $\\hat\\beta_1 = \\beta_1$. The model for the fixed exchange rate economy is:\n",
    "\n",
    "$$\n",
    "\\hat{y}_t = a\\hat{y}_{t-1} + a(z_t - z_{t-1}) - a\\beta_1 s_t \\quad \\text{(***)}\n",
    "$$\n",
    "\n",
    "$$\n",
    "\\hat{\\pi}_t = a \\hat{\\pi}_{t-1} + a (s_t - s_{t-1}) + a\\gamma(z_t - z_{t-1}) \\quad \\text{(****)}\n",
    "$$\n",
    "\n"
   ]
  },
  {
   "cell_type": "markdown",
   "metadata": {},
   "source": [
    "## 3. <a id='toc3_'></a>[Numerical solution and calibration of model](#toc0_)"
   ]
  },
  {
   "cell_type": "code",
   "execution_count": 41,
   "metadata": {},
   "outputs": [
    {
     "name": "stdout",
     "output_type": "stream",
     "text": [
      "The autoreload extension is already loaded. To reload it, use:\n",
      "  %reload_ext autoreload\n"
     ]
    }
   ],
   "source": [
    "%load_ext autoreload\n",
    "%autoreload 2\n",
    "\n",
    "from types import SimpleNamespace\n",
    "import numpy as np\n",
    "from scipy import optimize\n",
    "\n",
    "import matplotlib.pyplot as plt\n",
    "plt.rcParams.update({\"axes.grid\":True,\"grid.color\":\"black\",\"grid.alpha\":\"0.25\",\"grid.linestyle\":\"--\"})\n",
    "plt.rcParams.update({'font.size': 14})\n",
    "\n",
    "from test_oliver import ASADClass "
   ]
  },
  {
   "cell_type": "code",
   "execution_count": 42,
   "metadata": {},
   "outputs": [
    {
     "name": "stdout",
     "output_type": "stream",
     "text": [
      "par.a = 0.9501\n",
      "par.b = 0.2662\n",
      "par.beta1_hat = 4.2500\n",
      "par.beta1 = 0.7000\n"
     ]
    }
   ],
   "source": [
    "model = ASADClass()\n",
    "par = model.par\n",
    "sim = model.sim\n",
    "print(f'{par.a = :.4f}')\n",
    "print(f'{par.b = :.4f}')\n",
    "print(f'{par.beta1_hat = :.4f}')\n",
    "print(f'{par.beta1 = :.4f}')"
   ]
  },
  {
   "cell_type": "code",
   "execution_count": 43,
   "metadata": {},
   "outputs": [
    {
     "name": "stderr",
     "output_type": "stream",
     "text": [
      "/Users/OliverDing/projects-2024-asger-chris-og-oliver/modelproject/test_oliver.py:134: RuntimeWarning: overflow encountered in scalar multiply\n",
      "  sim.y_hat_floating[t] = par.a*(1+par.b)*y_hat_lag + par.a*(z-z_lag) \\\n",
      "/Users/OliverDing/projects-2024-asger-chris-og-oliver/modelproject/test_oliver.py:136: RuntimeWarning: overflow encountered in scalar multiply\n",
      "  sim.pi_hat_floating[t] = par.a*(1+par.b)*pi_hat_lag + par.a*(s-s_lag)+par.a*par.gamma*(z-z_lag)\n"
     ]
    }
   ],
   "source": [
    "model.simulate_fixed()\n",
    "model.simulate_floating()"
   ]
  },
  {
   "cell_type": "markdown",
   "metadata": {},
   "source": [
    "Using the simulate method from ASADClass, we simulate the full model, drawing random shock simulations and drawing output gaps and inflation gaps."
   ]
  },
  {
   "cell_type": "code",
   "execution_count": 44,
   "metadata": {},
   "outputs": [
    {
     "name": "stdout",
     "output_type": "stream",
     "text": [
      "Output Gap: [-0.50077044 -2.17240222 -2.04823308 ... -1.14284909 -1.68454301\n",
      " -1.87933517]\n",
      "Inflation Gap: [ 0.02197084 -0.19491985 -0.27385375 ...  0.00495784 -0.23571084\n",
      " -0.19700632]\n",
      "Demand shocks [-0.48539085 -2.29346653 -2.36099502 ... -1.8156579  -2.52234941\n",
      " -2.85504599]\n",
      "Supply shocks [ 0.05952862 -0.03198969 -0.12023627 ...  0.09067152 -0.10937011\n",
      " -0.05605618]\n",
      "Output Gap: [-0.70155581 -2.23196005 -2.37178826 ...        -inf        -inf\n",
      "        -inf]\n",
      "Inflation Gap: [ 0.02197084 -0.18936191 -0.31647576 ...        -inf        -inf\n",
      "        -inf]\n",
      "Demand shocks [-0.48539085 -2.29346653 -2.36099502 ... -1.8156579  -2.52234941\n",
      " -2.85504599]\n",
      "Supply shocks [ 0.05952862 -0.03198969 -0.12023627 ...  0.09067152 -0.10937011\n",
      " -0.05605618]\n"
     ]
    }
   ],
   "source": [
    "\n",
    "print(\"Output Gap:\", model.sim.y_hat_fixed)\n",
    "print(\"Inflation Gap:\", model.sim.pi_hat_fixed)\n",
    "print(\"Demand shocks\", model.sim.z)\n",
    "print(\"Supply shocks\", model.sim.s)\n",
    "\n",
    "print(\"Output Gap:\", model.sim.y_hat_floating)\n",
    "print(\"Inflation Gap:\", model.sim.pi_hat_floating)\n",
    "print(\"Demand shocks\", model.sim.z)\n",
    "print(\"Supply shocks\", model.sim.s)"
   ]
  },
  {
   "cell_type": "code",
   "execution_count": 48,
   "metadata": {},
   "outputs": [
    {
     "data": {
      "image/png": "[encoded data removed]",
      "text/plain": [
       "<Figure size 432x288 with 1 Axes>"
      ]
     },
     "metadata": {
      "needs_background": "light"
     },
     "output_type": "display_data"
    }
   ],
   "source": [
    "#Simulation for fixed exchange rates\n",
    "simT_fig = 100 # first 100 periods\n",
    "fig = plt.figure() #Creates new figure\n",
    "ax = fig.add_subplot(1,1,1) #One subplot in a 1 row by 1 column. This is the first subplot.\n",
    "ax.plot(np.arange(simT_fig),sim.y_hat_fixed[:simT_fig],label='$\\\\hat{y}_t$') #np.arrange(simT_fig) generates an array of integers from 0 t0 100, serving as the time axis.\n",
    "ax.plot(np.arange(simT_fig),sim.pi_hat_fixed[:simT_fig],label='$\\\\hat{\\pi}_t$') #Second plot; inflation deviations.\n",
    "ax.set_xlabel('time') #label on x-axis is \"time\"\n",
    "ax.set_title('Output and inflation, fixed exchange rates')\n",
    "ax.legend(frameon=True); #adds legends to the plot, helps identifying each line plot with its corresponding label. \"Frameon=True\" ensures that the legend has a frame."
   ]
  },
  {
   "cell_type": "code",
   "execution_count": 49,
   "metadata": {},
   "outputs": [
    {
     "data": {
      "image/png": "[encoded data removed]",
      "text/plain": [
       "<Figure size 432x288 with 1 Axes>"
      ]
     },
     "metadata": {
      "needs_background": "light"
     },
     "output_type": "display_data"
    }
   ],
   "source": [
    "#Simulation for floating exchange rates\n",
    "simT_fig = 100 # first 100 periods\n",
    "fig = plt.figure() #Creates new figure\n",
    "ax = fig.add_subplot(1,1,1) #One subplot in a 1 row by 1 column. This is the first subplot.\n",
    "ax.plot(np.arange(simT_fig),sim.y_hat_floating[:simT_fig],label='$\\\\hat{y}_t$') #np.arrange(simT_fig) generates an array of integers from 0 t0 100, serving as the time axis.\n",
    "ax.plot(np.arange(simT_fig),sim.pi_hat_floating[:simT_fig],label='$\\\\hat{\\pi}_t$') #Second plot; inflation deviations.\n",
    "ax.set_xlabel('time') #label on x-axis is \"time\"\n",
    "ax.set_title('Output and inflation, floating exchange rates')\n",
    "ax.legend(frameon=True); #adds legends to the plot, helps identifying each line plot with its corresponding label. \"Frameon=True\" ensures that the legend has a frame."
   ]
  },
  {
   "cell_type": "code",
   "execution_count": 47,
   "metadata": {},
   "outputs": [
    {
     "ename": "AttributeError",
     "evalue": "'types.SimpleNamespace' object has no attribute 'y_hat'",
     "output_type": "error",
     "traceback": [
      "\u001b[0;31m---------------------------------------------------------------------------\u001b[0m",
      "\u001b[0;31mAttributeError\u001b[0m                            Traceback (most recent call last)",
      "Input \u001b[0;32mIn [47]\u001b[0m, in \u001b[0;36m<cell line: 1>\u001b[0;34m()\u001b[0m\n\u001b[0;32m----> 1\u001b[0m \u001b[43mmodel\u001b[49m\u001b[38;5;241;43m.\u001b[39;49m\u001b[43mcalc_moms\u001b[49m\u001b[43m(\u001b[49m\u001b[43m)\u001b[49m \u001b[38;5;66;03m# calculate moments from the simulation\u001b[39;00m\n\u001b[1;32m      2\u001b[0m error \u001b[38;5;241m=\u001b[39m model\u001b[38;5;241m.\u001b[39mcalc_diff_to_data(do_print\u001b[38;5;241m=\u001b[39m\u001b[38;5;28;01mTrue\u001b[39;00m)\n",
      "File \u001b[0;32m~/projects-2024-asger-chris-og-oliver/modelproject/test_oliver.py:146\u001b[0m, in \u001b[0;36mASADClass.calc_moms\u001b[0;34m(self)\u001b[0m\n\u001b[1;32m    143\u001b[0m sim \u001b[38;5;241m=\u001b[39m \u001b[38;5;28mself\u001b[39m\u001b[38;5;241m.\u001b[39msim\n\u001b[1;32m    144\u001b[0m moms \u001b[38;5;241m=\u001b[39m \u001b[38;5;28mself\u001b[39m\u001b[38;5;241m.\u001b[39mmoms\n\u001b[0;32m--> 146\u001b[0m moms\u001b[38;5;241m.\u001b[39mstd_y \u001b[38;5;241m=\u001b[39m np\u001b[38;5;241m.\u001b[39mstd(\u001b[43msim\u001b[49m\u001b[38;5;241;43m.\u001b[39;49m\u001b[43my_hat\u001b[49m)\n\u001b[1;32m    147\u001b[0m moms\u001b[38;5;241m.\u001b[39mstd_pi \u001b[38;5;241m=\u001b[39m np\u001b[38;5;241m.\u001b[39mstd(sim\u001b[38;5;241m.\u001b[39mpi_hat)\n\u001b[1;32m    148\u001b[0m moms\u001b[38;5;241m.\u001b[39mcorr_y_pi \u001b[38;5;241m=\u001b[39m np\u001b[38;5;241m.\u001b[39mcorrcoef(sim\u001b[38;5;241m.\u001b[39my_hat,sim\u001b[38;5;241m.\u001b[39mpi_hat)[\u001b[38;5;241m0\u001b[39m,\u001b[38;5;241m1\u001b[39m]\n",
      "\u001b[0;31mAttributeError\u001b[0m: 'types.SimpleNamespace' object has no attribute 'y_hat'"
     ]
    }
   ],
   "source": [
    "model.calc_moms() # calculate moments from the simulation\n",
    "error = model.calc_diff_to_data(do_print=True) # compares with the data"
   ]
  },
  {
   "cell_type": "markdown",
   "metadata": {},
   "source": [
    "## 4. <a id='toc4_'></a>[Further analysis (ideas)](#toc0_)"
   ]
  },
  {
   "cell_type": "markdown",
   "metadata": {},
   "source": [
    "Fast og flydende valutakurs, asgers grafer."
   ]
  },
  {
   "cell_type": "markdown",
   "metadata": {},
   "source": [
    "## 5. <a id='toc5_'></a>[Conclusion](#toc0_)"
   ]
  }
 ],
 "metadata": {
  "kernelspec": {
   "display_name": "base",
   "language": "python",
   "name": "python3"
  },
  "language_info": {
   "codemirror_mode": {
    "name": "ipython",
    "version": 3
   },
   "file_extension": ".py",
   "mimetype": "text/x-python",
   "name": "python",
   "nbconvert_exporter": "python",
   "pygments_lexer": "ipython3",
   "version": "3.9.12"
  }
 },
 "nbformat": 4,
 "nbformat_minor": 2
}
