{
 "cells": [
  {
   "cell_type": "markdown",
   "metadata": {},
   "source": [
    "**Table of contents**<a id='toc0_'></a>    \n",
    "- 1. [AS-AD for an open economy](#toc1_)    \n",
    "- 2. [Analytical solution](#toc2_)    \n",
    "- 3. [Numerical solution and calibration of model](#toc3_)    \n",
    "- 4. [Further analysis (ideas)](#toc4_)    \n",
    "- 5. [Conclusion](#toc5_)    \n"
   ]
  },
  {
   "cell_type": "code",
   "execution_count": 24,
   "metadata": {},
   "outputs": [],
   "source": [
    "import numpy as np\n",
    "import matplotlib.pyplot as plt\n",
    "plt.rcParams.update({\"axes.grid\":True,\"grid.color\":\"black\",\"grid.alpha\":\"0.25\",\"grid.linestyle\":\"--\"})\n",
    "plt.rcParams.update({'font.size': 14})\n",
    "\n",
    "from scipy import optimize\n",
    "\n",
    "import sympy as sm\n",
    "from IPython.display import display"
   ]
  },
  {
   "cell_type": "markdown",
   "metadata": {},
   "source": [
    "## 2. <a id='toc2_'></a>[Setup](#toc0_)"
   ]
  },
  {
   "cell_type": "markdown",
   "metadata": {},
   "source": [
    "1. AS-AD in open economy\n",
    "2. Analytical solution\n",
    "3. Numerical solution and calibration of model\n",
    "- Simulation of model\n",
    "4. Further analysis (ideas)\n",
    "- Adjustment to equilibrium\n",
    "- Demand vs supply shocks\n",
    "- Long run AS-AD\n",
    "5. Conclusion"
   ]
  },
  {
   "cell_type": "markdown",
   "metadata": {},
   "source": [
    "## 1. <a id='toc1_'></a>[AS-AD for an open economy](#toc0_)\n"
   ]
  },
  {
   "cell_type": "markdown",
   "metadata": {},
   "source": [
    "Define the **output and inflation gaps**:"
   ]
  },
  {
   "cell_type": "markdown",
   "metadata": {},
   "source": [
    "\n",
    "1. **Output:** $$\\hat{y}_{t} = y_t-\\bar{y}$$\n",
    "2. **Inflation:** $$\\hat{\\pi}_{t} = \\pi_t-\\pi^{\\ast}$$"
   ]
  },
  {
   "cell_type": "markdown",
   "metadata": {},
   "source": [
    "\n",
    "1. **AD-curve:** $$\\hat{y}_{t} = \\beta_1 (e^r_{t-1}-\\hat{\\pi}_{t}) + z_t$$\n",
    "2. **Short-Run AS curve:** $$\\hat{\\pi}_{t} = \\gamma \\hat{y}_{t}+ s_t$$\n",
    "3. **Real Exchange rate:** $$ e^r_t = e^r_{t-1}-\\hat{\\pi}_{t}$$\n"
   ]
  },
  {
   "cell_type": "markdown",
   "metadata": {},
   "source": [
    "\n",
    "**After a bit of algebra...** and with no shocks then the model can be written as"
   ]
  },
  {
   "cell_type": "markdown",
   "metadata": {},
   "source": [
    "\n",
    "$$\n",
    "\\begin{aligned}\n",
    "\\hat{y}_{t} & = \\frac{1}{1+\\beta_1\\gamma}\\hat{y}_{t-1}\n",
    "\\end{aligned}\n",
    "$$\n"
   ]
  },
  {
   "cell_type": "markdown",
   "metadata": {},
   "source": [
    "In **business-cycle data** from the US/Denmark we have:\n",
    "* Change data to denmark\n",
    "1. $std(\\hat{y}_t) = 1.64$\n",
    "2. $std({\\hat{\\pi}}_t) = 0.21$\n",
    "3. $corr(\\hat{y}_t,{\\hat{\\pi}}_t) = 0.31$\n",
    "4. $corr(\\hat{y}_t,\\hat{y}_{t-1}) = 0.84$\n",
    "5. $corr({\\hat{\\pi}}_t,{\\hat{\\pi}}_{t-1}) = 0.48$"
   ]
  },
  {
   "cell_type": "markdown",
   "metadata": {},
   "source": [
    "**Task:**\n",
    "\n",
    "1. Assume you have external evidence that $\\alpha = 0.7$, $\\gamma = 0.075$ and $\\phi = 0.99$\n",
    "2. Can you choose the remaining parameter so the model matches the data?"
   ]
  },
  {
   "cell_type": "markdown",
   "metadata": {},
   "source": [
    "## 2. <a id='toc2_'></a>[Analytical solution](#toc0_)"
   ]
  },
  {
   "cell_type": "markdown",
   "metadata": {},
   "source": [
    "## 3. <a id='toc3_'></a>[Numerical solution and calibration of model](#toc0_)"
   ]
  },
  {
   "cell_type": "markdown",
   "metadata": {},
   "source": [
    "## 4. <a id='toc4_'></a>[Further analysis (ideas)](#toc0_)"
   ]
  },
  {
   "cell_type": "markdown",
   "metadata": {},
   "source": [
    "## 5. <a id='toc5_'></a>[Conclusion](#toc0_)"
   ]
  }
 ],
 "metadata": {
  "kernelspec": {
   "display_name": "base",
   "language": "python",
   "name": "python3"
  },
  "language_info": {
   "codemirror_mode": {
    "name": "ipython",
    "version": 3
   },
   "file_extension": ".py",
   "mimetype": "text/x-python",
   "name": "python",
   "nbconvert_exporter": "python",
   "pygments_lexer": "ipython3",
   "version": "3.11.7"
  }
 },
 "nbformat": 4,
 "nbformat_minor": 2
}
