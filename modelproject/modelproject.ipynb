{
 "cells": [
  {
   "cell_type": "markdown",
   "metadata": {},
   "source": [
    "This project is about the Aggregate supply (AS) and aggregate demand (AD) model of an open economy, where we look at both the possibility for a floating exchange rate economy and a fixed exchange rate economy. The project simulates and calibrates a model to best fit the real data for the danish economy. "
   ]
  },
  {
   "cell_type": "markdown",
   "metadata": {},
   "source": [
    "**Table of contents**<a id='toc0_'></a>    \n",
    "- 1. [AS-AD for an open economy](#toc1_)    \n",
    "- 2. [Analytical solution](#toc2_)    \n",
    "- 3. [Numerical solution and calibration of model](#toc3_)    \n",
    "- 4. [Further analysis (ideas)](#toc4_)    \n",
    "- 5. [Conclusion](#toc5_)    \n"
   ]
  },
  {
   "cell_type": "code",
   "execution_count": 1,
   "metadata": {},
   "outputs": [],
   "source": [
    "# Loading packages\n",
    "%load_ext autoreload\n",
    "%autoreload 2\n",
    "\n",
    "from types import SimpleNamespace\n",
    "import numpy as np\n",
    "from scipy import optimize\n",
    "from ipywidgets import interact, widgets\n",
    "import matplotlib.pyplot as plt\n",
    "plt.rcParams.update({\"axes.grid\":True,\"grid.color\":\"black\",\"grid.alpha\":\"0.25\",\"grid.linestyle\":\"--\"})\n",
    "plt.rcParams.update({'font.size': 14})\n",
    "\n",
    "from modelproject import ASADClass "
   ]
  },
  {
   "cell_type": "markdown",
   "metadata": {},
   "source": [
    "## 1. <a id='toc1_'></a>[AS-AD for an open economy](#toc0_)\n"
   ]
  },
  {
   "cell_type": "markdown",
   "metadata": {},
   "source": [
    "In our model project, we model the the AS-AD model for an small, open economy with either a floating or a fixed exchange rate. The model demand side of the economy is given by the investment-saving curve (IS), the monetary policy rule (MP), the nominal exchange rate and the real exchange rate (ER), which together form the aggregate demand relationship (AD). The supply side is characterized by the aggregate supply curve (AS).\n",
    "\n",
    "\n",
    "\\begin{equation}\n",
    "y - \\bar{y} = \\beta_1 (e_{t-1}^r + \\Delta e_t + \\pi^f - \\pi_t) - \\beta_2 (i - \\pi^f - \\bar{r}) + w_t \\tag{IS}\n",
    "\\end{equation}\n",
    "\n",
    "\\begin{equation}\n",
    "i_t = r^f + \\pi^f + h(\\pi_t - \\pi^f) \\tag{MP}\n",
    "\\end{equation}\n",
    "\n",
    "\\begin{equation}\n",
    "\\Delta e_t = -\\frac{1}{\\theta} (i - i^f) \\tag{Nominal ER}\n",
    "\\end{equation}\n",
    "\n",
    "$$ e^r_t = e^r_{t-1} + \\Delta e_t-\\pi_t+\\pi^f \\tag{Real ER}$$\n",
    "\n",
    "$${\\pi}_{t} = \\pi^f + \\gamma (y_t-\\bar{y}_{t})+ s_t \\tag{AS}$$\n",
    "\n"
   ]
  },
  {
   "cell_type": "markdown",
   "metadata": {},
   "source": [
    "If we firstly define the output and inflation gaps\n",
    "\n",
    "1. **Output gap:** $$\\hat{y}_{t} = y_t-\\bar{y}$$\n",
    "2. **Inflation gap:** $$\\hat{\\pi}_{t} = \\pi_t-\\pi^{\\ast}$$\n",
    "\n",
    "## ASAD floating exchange rate\n",
    "Then the ASAD open economy with a floating exchange rate can written as:\n",
    "\n",
    "$$\\hat{y}_{t} = \\beta_1 e^r_{t-1}-\\hat{\\beta_1}\\hat\\pi_t + z_t \\tag{AD - floating}$$\n",
    "\n",
    "$$\\hat{\\pi}_{t} = \\gamma \\hat{y}_{t}+ s_t \\tag{AS}$$\n",
    "\n",
    "$$ e^r_t = e^r_{t-1} - \\left(1+\\frac{h}{\\theta}\\right)\\hat\\pi_t \\tag{Real ER - floating}$$\n",
    "\n",
    "where\n",
    "\n",
    "$$   \\hat\\beta_1 = \\beta_1 + h\\left(\\frac{\\beta_1}{\\theta}+\\beta_2\\right)>\\beta_1$$\n",
    "$$   z_t = w_t -\\beta_2(r^f-\\bar{r}^f)$$"
   ]
  },
  {
   "cell_type": "markdown",
   "metadata": {},
   "source": [
    "## ASAD - Fixed exchange rate\n",
    "The ASAD for the fixed exchange rate economy is a special case of the floating economy, but it has $h = 0$, that is, no monetary policy rule because MP is only used for keeping the exchange rate fixed. It also has $\\Delta e_t = 0$, because the nominal exchange rate is fixed. Solving the model gives the following equations:\n",
    "\n",
    "$$\\hat{y}_{t} = \\beta_1 (e^r_{t-1}-\\hat{\\pi}_{t}) + z_t \\tag{AD - fixed}$$\n",
    "\n",
    "$$\\hat{\\pi}_{t} = \\gamma \\hat{y}_{t}+ s_t \\tag{AS}$$\n",
    "\n",
    "$$ e^r_t = e^r_{t-1}-\\hat\\pi_t \\tag{Real ER - fixed}$$\n",
    "\n",
    "It can be seen that the two model equations become equal when h = 0.\n"
   ]
  },
  {
   "cell_type": "markdown",
   "metadata": {},
   "source": [
    "## Further assumption\n",
    "We assume that the demand and supply shocks are autoregressive on the form:\n",
    "1. **Demand shock:** $$z_{t} = \\delta z_{t-1}+x_{t}, x_{t} \\sim N(0,\\sigma_x^2)$$\n",
    "\n",
    "2. **Supply shock:** $$s_{t} = \\omega s_{t-1}+c_{t}, c_{t} \\sim N(0,\\sigma_c^2)$$"
   ]
  },
  {
   "cell_type": "markdown",
   "metadata": {},
   "source": [
    "# Solving the model\n",
    "\n",
    "### Floating exchange rate\n",
    "\n",
    "The model can be rewritten by firstly inserting AS in AD and isolating for $e_{t-1}^r$:\n",
    "\n",
    "$$\n",
    "\\hat{y}_t = \\beta_1 e_{t-1}^r - \\hat\\beta_1 \\gamma \\hat{y}_t - \\hat\\beta_1 s_t + z_t \\Leftrightarrow $$\n",
    "\n",
    "\n",
    "$$\n",
    "e_{t-1}^r = \\frac{1+\\hat\\beta_1 \\gamma}{\\beta_1} \\hat{y}_t + \\frac{\\hat\\beta_1}{\\beta_1} s_{t}-\\frac{1}{\\beta_1} z_t\n",
    "$$\n",
    "\n",
    "If we lag the real ER by one period we have:\n",
    "\n",
    "$$\n",
    "e_{t-1}^r = e_{t-2}^r - \\left(1 + \\frac{h}{\\theta}\\right) \\hat{\\pi}_{t-1}\n",
    "$$\n",
    "\n",
    "Inserting for $e^r_{t-1}$ which we found and collecting terms we have:\n",
    "\n",
    "$$\n",
    "\\left(1 + \\hat{\\beta}_t \\gamma\\right) \\hat{y}_t = \\left(1 + \\hat{\\beta}_t \\gamma\\right) \\hat{y}_{t-1} - \\left(\\hat{\\beta}_1 s_t - \\hat{\\beta}_1 s_{t-1}\\right) + \\left(z_t - z_{t-1}\\right) - \\beta_1 \\left(1 + \\frac{h}{\\theta}\\right) \\hat{\\pi}_{t-1} \\Leftrightarrow\n",
    "$$\n",
    "\n",
    "Inserting AS:\n",
    "\n",
    "$$\n",
    "\\left(1 + \\hat{\\beta}_t \\gamma\\right) \\hat{y}_t = \\left(1 + \\hat{\\beta}_t \\gamma\\right) \\hat{y}_{t-1} - \\left(\\hat{\\beta}_1 s_t - \\hat{\\beta}_1 s_{t-1}\\right) + \\left(z_t - z_{t-1}\\right) - \\beta_1 \\left(1 + \\frac{h}{\\theta}\\right) \\left(\\gamma \\hat{y}_{t-1} + s_{t-1}\\right) \\Leftrightarrow\n",
    "$$\n",
    "\n",
    "$$\n",
    "\\hat{y}_t = (1-ab\\gamma) \\hat{y}_{t-1} + a\\left(z_t - z_{t-1}\\right) - a\\left(\\hat{\\beta}_1 s_t - s_{t-1} \\left(\\hat{\\beta}_1 - b\\right)\\right) \\quad \\text{(*)}\n",
    "$$\n",
    "\n",
    "Repeating the same steps for the inflation gap gives:\n",
    "\n",
    "$$\n",
    "\\hat{\\pi}_t = (1-ab\\gamma)\\hat{\\pi}_{t-1} + a\\gamma(s_t - s_{t-1}) + a\\gamma(z_t - z_{t-1}) \\quad \\text{(**)}\n",
    "$$\n",
    "\n",
    "where \n",
    "\n",
    "$$\n",
    "a = \\frac{1}{1+\\hat\\beta_1 \\gamma}\n",
    "$$\n",
    "$$\n",
    "b = \\beta_1\\left(1+\\frac{h}{\\theta}\\right)\n",
    "$$\n"
   ]
  },
  {
   "cell_type": "markdown",
   "metadata": {},
   "source": [
    "### Fixed exchange rate\n",
    "The model for the fixed exchange rate is a special case of the floating exchange rate economy, which is found by setting $h=0$ which  $\\Rightarrow \\hat\\beta_1 = \\beta_1$. The model for the fixed exchange can be written as:\n",
    "\n",
    "$$\n",
    "\\hat{y}_t = \\left(1-a\\beta_1\\gamma\\right)\\hat{y}_{t-1} + a(z_t - z_{t-1}) - a\\beta_1 s_t \\quad \\text{(***)}\n",
    "$$\n",
    "\n",
    "$$\n",
    "\\hat{\\pi}_t = \\left(1-a\\beta_1\\gamma\\right) \\hat{\\pi}_{t-1} + a (s_t - s_{t-1}) + a\\gamma(z_t - z_{t-1}) \\quad \\text{(****)}\n",
    "$$\n",
    "\n"
   ]
  },
  {
   "cell_type": "code",
   "execution_count": null,
   "metadata": {},
   "outputs": [],
   "source": [
    "model = ASADClass(floating = True)\n",
    "par = model.par\n",
    "sim = model.sim\n",
    "print(f'{par.a = :.4f}')\n",
    "print(f'{par.b = :.4f}')\n",
    "print(f'{par.beta_1 = :.4f}')\n",
    "print(f'{par.beta_hat = :.4f}')"
   ]
  },
  {
   "cell_type": "markdown",
   "metadata": {},
   "source": [
    "## 2. <a id='toc2_'></a>[Calibration](#toc0_)\n",
    "\n",
    "We want to calibrate our ASAD model so that it best fits real business cycle data. First, we simulate the model with 10.000 periods and plot the first 100 periods. For this simulation we calculate the moments such as standard deviation and the correlation between output and inflation gap."
   ]
  },
  {
   "cell_type": "code",
   "execution_count": null,
   "metadata": {},
   "outputs": [],
   "source": [
    "model.simulate()"
   ]
  },
  {
   "cell_type": "code",
   "execution_count": null,
   "metadata": {},
   "outputs": [],
   "source": [
    "simT_fig = 500 # first 100 periods\n",
    "fig = plt.figure()\n",
    "ax = fig.add_subplot(1,1,1)\n",
    "ax.plot(np.arange(simT_fig),sim.y_hat[:simT_fig],label='$\\\\hat{y}_t$')\n",
    "ax.plot(np.arange(simT_fig),sim.pi_hat[:simT_fig],label='$\\\\hat{\\pi}_t$')\n",
    "ax.set_xlabel('time')\n",
    "ax.legend(frameon=True);"
   ]
  },
  {
   "cell_type": "markdown",
   "metadata": {},
   "source": [
    "We now want to compare the model moments with the real business cycle data for Denmark. In **business-cycle data** from the US we have:\n",
    "* Note: Change data to Denmark for fixed economy\n",
    "1. $std(\\hat{y}_t) = 1.64$\n",
    "2. $std({\\hat{\\pi}}_t) = 0.21$\n",
    "3. $corr(\\hat{y}_t,{\\hat{\\pi}}_t) = 0.31$\n",
    "4. $corr(\\hat{y}_t,\\hat{y}_{t-1}) = 0.84$\n",
    "5. $corr({\\hat{\\pi}}_t,{\\hat{\\pi}}_{t-1}) = 0.48$"
   ]
  },
  {
   "cell_type": "markdown",
   "metadata": {},
   "source": [
    "We define the error as the sum of squared distances between model and the data.\n",
    "$$\n",
    "\\begin{align*}\n",
    "error(\\delta,\\omega,\\sigma_x,\\sigma_c) = &\\,\\,(std(\\hat{y}_t^{data}) - std(\\hat{y}_t^{model}))^2 \\\\\n",
    "& + (std({\\hat{\\pi}}_t^{data}) - std({\\hat{\\pi}}_t^{model}))^2 \\\\\n",
    "& + (corr(\\hat{y}_t^{data},{\\hat{\\pi}}_t^{data}) - corr(\\hat{y}_t^{data},{\\hat{\\pi}}_t^{model}))^2 \\\\\n",
    "& + (corr(\\hat{y}_t^{data},\\hat{y}_{t-1}^{data}) - corr(\\hat{y}_t^{model},\\hat{y}_{t-1}^{model}))^2 \\\\\n",
    "& + (corr({\\hat{\\pi}}_t^{data},{\\hat{\\pi}}_{t-1}^{data}) - corr({\\hat{\\pi}}_t^{model},{\\hat{\\pi}}_{t-1}^{model}))^2 \\\\\n",
    "\\end{align*}\n",
    "$$\n",
    "\n",
    "**The goal** is the change the autocorrelation and variance of the shocks so that the model best fits the Danish data. That is\n",
    "$$\n",
    "\\min_{\\delta,\\omega,\\sigma_x,\\sigma_c} error(\\delta,\\omega,\\sigma_x,\\sigma_c)\n",
    "$$"
   ]
  },
  {
   "cell_type": "markdown",
   "metadata": {},
   "source": [
    "Below the objective function which simulates the model for given parameters and spits out the error has been defined"
   ]
  },
  {
   "cell_type": "code",
   "execution_count": null,
   "metadata": {},
   "outputs": [],
   "source": [
    "def obj(x,parnames,do_print=False):\n",
    "    \"\"\" objective for choosing parameters \"\"\"\n",
    "\n",
    "    # a. update parameters\n",
    "    for xval,parname in zip(x,parnames):\n",
    "        par.__dict__[parname] = xval\n",
    "        if do_print: print(f'{parname:10s} = {xval:.4f}')\n",
    "\n",
    "    if do_print: print('')\n",
    "\n",
    "    model.calc_compound_par()\n",
    "\n",
    "    # b. simulate and calculate moments\n",
    "    model.simulate()\n",
    "    model.calc_moms()\n",
    "\n",
    "    # c. compare with data\n",
    "    error = model.calc_diff_to_data(do_print=do_print)\n",
    "\n",
    "    return error"
   ]
  },
  {
   "cell_type": "markdown",
   "metadata": {},
   "source": [
    "For the simulation with arbitrarly chosen parameters we have the followin error:"
   ]
  },
  {
   "cell_type": "code",
   "execution_count": null,
   "metadata": {},
   "outputs": [],
   "source": [
    "parnames = ['delta','omega','sigma_x','sigma_c']\n",
    "x0 = [par.__dict__[parname] for parname in parnames]\n",
    "error_ = obj(x0,parnames,do_print=True)"
   ]
  },
  {
   "cell_type": "markdown",
   "metadata": {},
   "source": [
    "We call the optimizer to minimize the error function where the AR coefficient is bound between 0 and 1 to remain stationary while the variance is bounded only by zero."
   ]
  },
  {
   "cell_type": "code",
   "execution_count": null,
   "metadata": {},
   "outputs": [],
   "source": [
    "bounds = ((0,1-1e-8),(0,1-1e-8),(0,None),(0,None))\n",
    "res = optimize.minimize(obj,x0,bounds=bounds,method='Nelder-Mead',args=(parnames,))\n",
    "error_ = obj(res.x,parnames,do_print=True)"
   ]
  },
  {
   "cell_type": "markdown",
   "metadata": {},
   "source": [
    "Here we have calibrated the model which leads to a much smaller error and moments which are quite close to the business cycle data. The optimal parameters suggest that demand shocks are highly autocorrelated while supply shocks are less so. Demand is also more volatile than inflation. These results seem reasonable."
   ]
  },
  {
   "cell_type": "markdown",
   "metadata": {},
   "source": [
    "## 3. <a id='toc3_'></a>[Simulate](#toc0_)\n",
    "\n",
    "We now simulate our calibrated model.\n"
   ]
  },
  {
   "cell_type": "code",
   "execution_count": null,
   "metadata": {},
   "outputs": [],
   "source": [
    "model.simulate()"
   ]
  },
  {
   "cell_type": "code",
   "execution_count": null,
   "metadata": {},
   "outputs": [],
   "source": [
    "simT_fig = 500 # first 100 periods\n",
    "fig = plt.figure()\n",
    "ax = fig.add_subplot(1,1,1)\n",
    "ax.plot(np.arange(simT_fig),sim.y_hat[:simT_fig],label='$\\\\hat{y}_t$')\n",
    "ax.plot(np.arange(simT_fig),sim.pi_hat[:simT_fig],label='$\\\\hat{\\pi}_t$')\n",
    "ax.set_xlabel('time')\n",
    "ax.legend(frameon=True);"
   ]
  },
  {
   "cell_type": "markdown",
   "metadata": {},
   "source": [
    "The model seems quite well at simulating business cycles as we see periods of economic booms and busts. The business cycles in the calibrated model also seem more realistic compared to the firstly simulated model."
   ]
  },
  {
   "cell_type": "markdown",
   "metadata": {},
   "source": [
    "## 4. <a id='toc4_'></a>[Graphical analysis](#toc0_)"
   ]
  },
  {
   "cell_type": "markdown",
   "metadata": {},
   "source": [
    "**Impulse response** to demand or supply shock. Errors are zero for all t.\n",
    "\n",
    "Difference between y and y_hat for periods 1 to T. "
   ]
  },
  {
   "cell_type": "code",
   "execution_count": null,
   "metadata": {},
   "outputs": [],
   "source": [
    "model.impulse_response(demand=True)\n",
    "simT_fig = 50 # first 100 periods\n",
    "fig = plt.figure()\n",
    "ax = fig.add_subplot(1,1,1)\n",
    "ax.plot(np.arange(simT_fig),sim.y_hat[:simT_fig],label='$\\\\hat{y}_t$')\n",
    "ax.plot(np.arange(simT_fig),sim.pi_hat[:simT_fig],label='$\\\\hat{\\pi}_t$')\n",
    "ax.set_xlabel('time')\n",
    "ax.legend(frameon=True);"
   ]
  },
  {
   "cell_type": "markdown",
   "metadata": {},
   "source": [
    "**ASAD diagram**"
   ]
  },
  {
   "cell_type": "code",
   "execution_count": null,
   "metadata": {},
   "outputs": [],
   "source": [
    "y_bar = 2\n",
    "pi_bar = 2\n",
    "\n",
    "beta_1 = 0.700 # slope of AD\n",
    "gamma = 0.8 # slope of SRAS\n",
    "beta_2 = 0.1 # Effect of interest rate on AD\n",
    "theta = 0.1 # Adjustment expectations for real exchange rate\n",
    "h = 0.5 # Centralbanks Reponse to inflationsgap\n",
    "beta1_hat = beta_1 + h*(beta_1/theta+beta_2)\n",
    "\n",
    "def plot_ASAD(t=0, demand=True):\n",
    "    y = np.linspace(-10, 10, 1000)\n",
    "\n",
    "    # Period 0\n",
    "    er_0 = 0\n",
    "    z_0 = 0\n",
    "    s_0 = 0\n",
    "    pi_AD_0 = pi_bar + beta_1/beta1_hat * er_0 - 1/beta_1*(y-y_bar) + z_0/beta_1 # AD\n",
    "    pi_AS_0 = pi_bar + gamma*(y-y_bar) + s_0 # AS\n",
    "    intersection_index_0 = np.argmin(np.abs(pi_AD_0 - pi_AS_0))\n",
    "    \n",
    "    # Period 1\n",
    "    if demand == True:\n",
    "        z_1 = 5\n",
    "        s_1 = 0\n",
    "    else:\n",
    "        z_1 = 0\n",
    "        s_1 = 5\n",
    "    er_1 =  er_0 - pi_AS_0[intersection_index_0] + pi_bar # ER\n",
    "    pi_AD_1 = pi_bar + beta_1/beta1_hat * er_0 - 1/beta_1*(y-y_bar) + z_1/beta_1 # AD\n",
    "    pi_AS_1 = pi_bar + gamma*(y-y_bar) + s_1 # AS\n",
    "    intersection_index_1 = np.argmin(np.abs(pi_AD_1 - pi_AS_1))\n",
    "\n",
    "    # Period 2\n",
    "    z_2 = 0\n",
    "    s_2 = 0\n",
    "\n",
    "    er_2 =  er_1 - pi_AS_1[intersection_index_1] + pi_bar # ER\n",
    "    pi_AD_2 = pi_bar + beta_1/beta1_hat * er_1 - 1/beta_1*(y-y_bar) + z_2/beta_1 # AD\n",
    "    pi_AS_2 = pi_bar + gamma*(y-y_bar) + s_2 # AS\n",
    "    intersection_index_2 = np.argmin(np.abs(pi_AD_2 - pi_AS_2))    \n",
    "\n",
    "    if t == 0:\n",
    "        plt.plot(y, pi_AD_0, label = \"AD\", color = \"blue\")\n",
    "        plt.plot(y, pi_AS_0, label = \"AS\", color = \"darkorange\")\n",
    "        plt.axvline(x=y_bar, color='red', linestyle='--', label='LRAS')\n",
    "        plt.xlabel('Price Level')\n",
    "        plt.ylabel('Real GDP')\n",
    "        plt.legend()\n",
    "        plt.title('AS-AD Diagram')\n",
    "\n",
    "    if t == 1:\n",
    "        plt.plot(y, pi_AD_0, linestyle = \"--\", label = \"$AD_{t-1}$\", color = \"blue\")\n",
    "        plt.plot(y, pi_AD_1, label = \"AD\", color = \"blue\")\n",
    "        plt.plot(y, pi_AS_1, label = \"AS\", color = \"darkorange\")\n",
    "        plt.axvline(x=y_bar, color='red', linestyle='--', label='LRAS')\n",
    "        plt.xlabel('Price Level')\n",
    "        plt.ylabel('Real GDP')\n",
    "        plt.legend()\n",
    "        plt.title('AS-AD Diagram')\n",
    "\n",
    "t_slider = widgets.IntSlider(value=0, min=0, max=1, step=1, description='Time Period')\n",
    "\n",
    "interact(plot_ASAD, t = t_slider)"
   ]
  },
  {
   "cell_type": "markdown",
   "metadata": {},
   "source": [
    "## 5. <a id='toc5_'></a>[Conclusion](#toc0_)"
   ]
  },
  {
   "cell_type": "markdown",
   "metadata": {},
   "source": [
    "Unfinished"
   ]
  }
 ],
 "metadata": {
  "kernelspec": {
   "display_name": "base",
   "language": "python",
   "name": "python3"
  },
  "language_info": {
   "codemirror_mode": {
    "name": "ipython",
    "version": 3
   },
   "file_extension": ".py",
   "mimetype": "text/x-python",
   "name": "python",
   "nbconvert_exporter": "python",
   "pygments_lexer": "ipython3",
   "version": "3.11.7"
  }
 },
 "nbformat": 4,
 "nbformat_minor": 2
}
